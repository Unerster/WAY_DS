{
 "cells": [
  {
   "cell_type": "markdown",
   "metadata": {
    "deletable": false,
    "editable": false,
    "id": "E0vqbgi9ay0H"
   },
   "source": [
    "# Яндекс Музыка"
   ]
  },
  {
   "cell_type": "markdown",
   "metadata": {
    "deletable": false,
    "editable": false,
    "id": "VUC88oWjTJw2"
   },
   "source": [
    "Сравнение Москвы и Петербурга окружено мифами. Например:\n",
    " * Москва — мегаполис, подчинённый жёсткому ритму рабочей недели;\n",
    " * Петербург — культурная столица, со своими вкусами.\n",
    "\n",
    "На данных Яндекс Музыки вы сравните поведение пользователей двух столиц.\n",
    "\n",
    "**Цель исследования** — проверьте три гипотезы:\n",
    "1. Активность пользователей зависит от дня недели. Причём в Москве и Петербурге это проявляется по-разному.\n",
    "2. В понедельник утром в Москве преобладают одни жанры, а в Петербурге — другие. Так же и вечером пятницы преобладают разные жанры — в зависимости от города.\n",
    "3. Москва и Петербург предпочитают разные жанры музыки. В Москве чаще слушают поп-музыку, в Петербурге — русский рэп.\n",
    "\n",
    "**Ход исследования**\n",
    "\n",
    "Данные о поведении пользователей вы получите из файла `yandex_music_project.csv`. О качестве данных ничего не известно. Поэтому перед проверкой гипотез понадобится обзор данных.\n",
    "\n",
    "Вы проверите данные на ошибки и оцените их влияние на исследование. Затем, на этапе предобработки вы поищете возможность исправить самые критичные ошибки данных.\n",
    "\n",
    "Таким образом, исследование пройдёт в три этапа:\n",
    " 1. Обзор данных.\n",
    " 2. Предобработка данных.\n",
    " 3. Проверка гипотез.\n",
    "\n"
   ]
  },
  {
   "cell_type": "code",
   "execution_count": null,
   "metadata": {},
   "outputs": [],
   "source": []
  },
  {
   "cell_type": "markdown",
   "metadata": {
    "deletable": false,
    "editable": false,
    "id": "Ml1hmfXC_Zcs"
   },
   "source": [
    "## Обзор данных\n",
    "\n",
    "Составьте первое представление о данных Яндекс Музыки.\n",
    "\n",
    "\n"
   ]
  },
  {
   "cell_type": "markdown",
   "metadata": {
    "deletable": false,
    "editable": false,
    "id": "57eAOGIz_Zcs",
    "tags": [
     "start_task"
    ]
   },
   "source": [
    "**Задание 1**"
   ]
  },
  {
   "cell_type": "code",
   "execution_count": 5,
   "metadata": {
    "deletable": false,
    "id": "AXN7PHPN_Zcs"
   },
   "outputs": [],
   "source": [
    "# импорт библиотеки pandas\n",
    "import pandas as pd"
   ]
  },
  {
   "cell_type": "markdown",
   "metadata": {
    "deletable": false,
    "editable": false,
    "id": "SG23P8tt_Zcs",
    "tags": [
     "start_task"
    ]
   },
   "source": [
    "**Задание 2**"
   ]
  },
  {
   "cell_type": "code",
   "execution_count": 7,
   "metadata": {
    "deletable": false,
    "id": "fFVu7vqh_Zct"
   },
   "outputs": [],
   "source": [
    "# чтение файла с данными и сохранение в df\n",
    "df = pd.read_csv('yandex_music_project.csv')"
   ]
  },
  {
   "cell_type": "markdown",
   "metadata": {
    "deletable": false,
    "editable": false,
    "id": "rDoOMd3uTqnZ",
    "tags": [
     "start_task"
    ]
   },
   "source": [
    "**Задание 3**"
   ]
  },
  {
   "cell_type": "code",
   "execution_count": 9,
   "metadata": {
    "deletable": false,
    "id": "oWTVX3gW_Zct"
   },
   "outputs": [
    {
     "data": {
      "text/html": [
       "<div>\n",
       "<style scoped>\n",
       "    .dataframe tbody tr th:only-of-type {\n",
       "        vertical-align: middle;\n",
       "    }\n",
       "\n",
       "    .dataframe tbody tr th {\n",
       "        vertical-align: top;\n",
       "    }\n",
       "\n",
       "    .dataframe thead th {\n",
       "        text-align: right;\n",
       "    }\n",
       "</style>\n",
       "<table border=\"1\" class=\"dataframe\">\n",
       "  <thead>\n",
       "    <tr style=\"text-align: right;\">\n",
       "      <th></th>\n",
       "      <th>userID</th>\n",
       "      <th>Track</th>\n",
       "      <th>artist</th>\n",
       "      <th>genre</th>\n",
       "      <th>City</th>\n",
       "      <th>time</th>\n",
       "      <th>Day</th>\n",
       "    </tr>\n",
       "  </thead>\n",
       "  <tbody>\n",
       "    <tr>\n",
       "      <th>0</th>\n",
       "      <td>FFB692EC</td>\n",
       "      <td>Kamigata To Boots</td>\n",
       "      <td>The Mass Missile</td>\n",
       "      <td>rock</td>\n",
       "      <td>Saint-Petersburg</td>\n",
       "      <td>20:28:33</td>\n",
       "      <td>Wednesday</td>\n",
       "    </tr>\n",
       "    <tr>\n",
       "      <th>1</th>\n",
       "      <td>55204538</td>\n",
       "      <td>Delayed Because of Accident</td>\n",
       "      <td>Andreas Rönnberg</td>\n",
       "      <td>rock</td>\n",
       "      <td>Moscow</td>\n",
       "      <td>14:07:09</td>\n",
       "      <td>Friday</td>\n",
       "    </tr>\n",
       "    <tr>\n",
       "      <th>2</th>\n",
       "      <td>20EC38</td>\n",
       "      <td>Funiculì funiculà</td>\n",
       "      <td>Mario Lanza</td>\n",
       "      <td>pop</td>\n",
       "      <td>Saint-Petersburg</td>\n",
       "      <td>20:58:07</td>\n",
       "      <td>Wednesday</td>\n",
       "    </tr>\n",
       "    <tr>\n",
       "      <th>3</th>\n",
       "      <td>A3DD03C9</td>\n",
       "      <td>Dragons in the Sunset</td>\n",
       "      <td>Fire + Ice</td>\n",
       "      <td>folk</td>\n",
       "      <td>Saint-Petersburg</td>\n",
       "      <td>08:37:09</td>\n",
       "      <td>Monday</td>\n",
       "    </tr>\n",
       "    <tr>\n",
       "      <th>4</th>\n",
       "      <td>E2DC1FAE</td>\n",
       "      <td>Soul People</td>\n",
       "      <td>Space Echo</td>\n",
       "      <td>dance</td>\n",
       "      <td>Moscow</td>\n",
       "      <td>08:34:34</td>\n",
       "      <td>Monday</td>\n",
       "    </tr>\n",
       "    <tr>\n",
       "      <th>5</th>\n",
       "      <td>842029A1</td>\n",
       "      <td>Преданная</td>\n",
       "      <td>IMPERVTOR</td>\n",
       "      <td>rusrap</td>\n",
       "      <td>Saint-Petersburg</td>\n",
       "      <td>13:09:41</td>\n",
       "      <td>Friday</td>\n",
       "    </tr>\n",
       "    <tr>\n",
       "      <th>6</th>\n",
       "      <td>4CB90AA5</td>\n",
       "      <td>True</td>\n",
       "      <td>Roman Messer</td>\n",
       "      <td>dance</td>\n",
       "      <td>Moscow</td>\n",
       "      <td>13:00:07</td>\n",
       "      <td>Wednesday</td>\n",
       "    </tr>\n",
       "    <tr>\n",
       "      <th>7</th>\n",
       "      <td>F03E1C1F</td>\n",
       "      <td>Feeling This Way</td>\n",
       "      <td>Polina Griffith</td>\n",
       "      <td>dance</td>\n",
       "      <td>Moscow</td>\n",
       "      <td>20:47:49</td>\n",
       "      <td>Wednesday</td>\n",
       "    </tr>\n",
       "    <tr>\n",
       "      <th>8</th>\n",
       "      <td>8FA1D3BE</td>\n",
       "      <td>И вновь продолжается бой</td>\n",
       "      <td>NaN</td>\n",
       "      <td>ruspop</td>\n",
       "      <td>Moscow</td>\n",
       "      <td>09:17:40</td>\n",
       "      <td>Friday</td>\n",
       "    </tr>\n",
       "    <tr>\n",
       "      <th>9</th>\n",
       "      <td>E772D5C0</td>\n",
       "      <td>Pessimist</td>\n",
       "      <td>NaN</td>\n",
       "      <td>dance</td>\n",
       "      <td>Saint-Petersburg</td>\n",
       "      <td>21:20:49</td>\n",
       "      <td>Wednesday</td>\n",
       "    </tr>\n",
       "  </tbody>\n",
       "</table>\n",
       "</div>"
      ],
      "text/plain": [
       "     userID                        Track            artist   genre  \\\n",
       "0  FFB692EC            Kamigata To Boots  The Mass Missile    rock   \n",
       "1  55204538  Delayed Because of Accident  Andreas Rönnberg    rock   \n",
       "2    20EC38            Funiculì funiculà       Mario Lanza     pop   \n",
       "3  A3DD03C9        Dragons in the Sunset        Fire + Ice    folk   \n",
       "4  E2DC1FAE                  Soul People        Space Echo   dance   \n",
       "5  842029A1                    Преданная         IMPERVTOR  rusrap   \n",
       "6  4CB90AA5                         True      Roman Messer   dance   \n",
       "7  F03E1C1F             Feeling This Way   Polina Griffith   dance   \n",
       "8  8FA1D3BE     И вновь продолжается бой               NaN  ruspop   \n",
       "9  E772D5C0                    Pessimist               NaN   dance   \n",
       "\n",
       "             City        time        Day  \n",
       "0  Saint-Petersburg  20:28:33  Wednesday  \n",
       "1            Moscow  14:07:09     Friday  \n",
       "2  Saint-Petersburg  20:58:07  Wednesday  \n",
       "3  Saint-Petersburg  08:37:09     Monday  \n",
       "4            Moscow  08:34:34     Monday  \n",
       "5  Saint-Petersburg  13:09:41     Friday  \n",
       "6            Moscow  13:00:07  Wednesday  \n",
       "7            Moscow  20:47:49  Wednesday  \n",
       "8            Moscow  09:17:40     Friday  \n",
       "9  Saint-Petersburg  21:20:49  Wednesday  "
      ]
     },
     "execution_count": 9,
     "metadata": {},
     "output_type": "execute_result"
    }
   ],
   "source": [
    "# получение первых 10 строк таблицы df\n",
    "df.head(10)"
   ]
  },
  {
   "cell_type": "markdown",
   "metadata": {
    "deletable": false,
    "editable": false,
    "id": "EO73Kwic_Zct",
    "tags": [
     "start_task"
    ]
   },
   "source": [
    "**Задание 4**"
   ]
  },
  {
   "cell_type": "code",
   "execution_count": 11,
   "metadata": {
    "deletable": false,
    "id": "DSf2kIb-_Zct"
   },
   "outputs": [
    {
     "name": "stdout",
     "output_type": "stream",
     "text": [
      "<class 'pandas.core.frame.DataFrame'>\n",
      "RangeIndex: 65079 entries, 0 to 65078\n",
      "Data columns (total 7 columns):\n",
      " #   Column    Non-Null Count  Dtype \n",
      "---  ------    --------------  ----- \n",
      " 0     userID  65079 non-null  object\n",
      " 1   Track     63848 non-null  object\n",
      " 2   artist    57876 non-null  object\n",
      " 3   genre     63881 non-null  object\n",
      " 4     City    65079 non-null  object\n",
      " 5   time      65079 non-null  object\n",
      " 6   Day       65079 non-null  object\n",
      "dtypes: object(7)\n",
      "memory usage: 3.5+ MB\n"
     ]
    }
   ],
   "source": [
    "# получение общей информации о данных в таблице df\n",
    "df.info()"
   ]
  },
  {
   "cell_type": "markdown",
   "metadata": {
    "deletable": false,
    "editable": false,
    "id": "TaQ2Iwbr_Zct"
   },
   "source": [
    "Количество значений в столбцах различается. Значит, в данных есть пропущенные значения."
   ]
  },
  {
   "cell_type": "markdown",
   "metadata": {
    "deletable": false,
    "editable": false,
    "id": "4P0UCWzswgEm",
    "tags": [
     "start_task"
    ]
   },
   "source": [
    "**Задание 5**"
   ]
  },
  {
   "cell_type": "code",
   "execution_count": 14,
   "metadata": {
    "id": "c137-ZstwgEm"
   },
   "outputs": [],
   "source": [
    "# Напишите ваш ответ здесь комментарием. Не удаляйте символ #. Не меняйте тип этой ячейки на Markdown.\n",
    "# Неккоректное название столбцов userID(нет нижнего регистра), Track, City, Day; пропуски данных; не удобные значения для анализа данных столбца time"
   ]
  },
  {
   "cell_type": "markdown",
   "metadata": {
    "deletable": false,
    "editable": false,
    "id": "MCB6-dXG_Zct"
   },
   "source": [
    "**Выводы**\n",
    "\n",
    "В каждой строке таблицы — данные о прослушанном треке. Часть колонок описывает саму композицию: название, исполнителя и жанр. Остальные данные рассказывают о пользователе: из какого он города, когда он слушал музыку.\n",
    "\n",
    "Предварительно можно утверждать, что данных достаточно для проверки гипотез. Но встречаются пропуски в данных, а в названиях колонок — расхождения с хорошим стилем.\n",
    "\n",
    "Чтобы двигаться дальше, нужно устранить проблемы в данных."
   ]
  },
  {
   "cell_type": "markdown",
   "metadata": {
    "deletable": false,
    "editable": false,
    "id": "SjYF6Ub9_Zct"
   },
   "source": [
    "## Предобработка данных"
   ]
  },
  {
   "cell_type": "markdown",
   "metadata": {
    "deletable": false,
    "editable": false,
    "id": "dIaKXr29_Zct",
    "tags": [
     "start_task"
    ]
   },
   "source": [
    "### Переименование столбцов\n",
    "\n",
    "**Задание 6**"
   ]
  },
  {
   "cell_type": "code",
   "execution_count": 18,
   "metadata": {
    "deletable": false,
    "id": "oKOTdF_Q_Zct"
   },
   "outputs": [
    {
     "data": {
      "text/plain": [
       "Index(['  userID', 'Track', 'artist', 'genre', '  City  ', 'time', 'Day'], dtype='object')"
      ]
     },
     "execution_count": 18,
     "metadata": {},
     "output_type": "execute_result"
    }
   ],
   "source": [
    "# перечень названий столбцов таблицы df\n",
    "df.columns"
   ]
  },
  {
   "cell_type": "markdown",
   "metadata": {
    "deletable": false,
    "editable": false,
    "id": "zj5534cv_Zct",
    "tags": [
     "start_task"
    ]
   },
   "source": [
    "**Задание 7**"
   ]
  },
  {
   "cell_type": "code",
   "execution_count": 20,
   "metadata": {
    "deletable": false,
    "id": "ISlFqs5y_Zct"
   },
   "outputs": [],
   "source": [
    "# переименование столбцов\n",
    "df = df.rename(columns={'  userID': 'user_id', 'Track': 'track', '  City  ': 'city', 'Day': 'day'})"
   ]
  },
  {
   "cell_type": "markdown",
   "metadata": {
    "deletable": false,
    "editable": false,
    "id": "1dqbh00J_Zct",
    "tags": [
     "start_task"
    ]
   },
   "source": [
    "**Задание 8**"
   ]
  },
  {
   "cell_type": "code",
   "execution_count": 22,
   "metadata": {
    "deletable": false,
    "id": "d4NOAmTW_Zct"
   },
   "outputs": [
    {
     "data": {
      "text/plain": [
       "Index(['user_id', 'track', 'artist', 'genre', 'city', 'time', 'day'], dtype='object')"
      ]
     },
     "execution_count": 22,
     "metadata": {},
     "output_type": "execute_result"
    }
   ],
   "source": [
    "# проверка результатов - перечень названий столбцов\n",
    "df.columns"
   ]
  },
  {
   "cell_type": "markdown",
   "metadata": {
    "deletable": false,
    "editable": false,
    "id": "5ISfbcfY_Zct",
    "tags": [
     "start_task"
    ]
   },
   "source": [
    "### Обработка пропущенных значений\n",
    "\n",
    "**Задание 9**"
   ]
  },
  {
   "cell_type": "code",
   "execution_count": 24,
   "metadata": {
    "deletable": false,
    "id": "RskX29qr_Zct"
   },
   "outputs": [
    {
     "data": {
      "text/plain": [
       "user_id       0\n",
       "track      1231\n",
       "artist     7203\n",
       "genre      1198\n",
       "city          0\n",
       "time          0\n",
       "day           0\n",
       "dtype: int64"
      ]
     },
     "execution_count": 24,
     "metadata": {},
     "output_type": "execute_result"
    }
   ],
   "source": [
    "# подсчёт пропусков\n",
    "df.isna().sum()"
   ]
  },
  {
   "cell_type": "markdown",
   "metadata": {
    "deletable": false,
    "editable": false,
    "id": "fSv2laPA_Zct",
    "tags": [
     "start_task"
    ]
   },
   "source": [
    "**Задание 10**"
   ]
  },
  {
   "cell_type": "code",
   "execution_count": 26,
   "metadata": {
    "deletable": false,
    "id": "KplB5qWs_Zct"
   },
   "outputs": [],
   "source": [
    "# замена пропущенных значений на 'unknown'\n",
    "columns_to_replace = ['track', 'artist', 'genre']\n",
    "for columns in columns_to_replace:\n",
    "    df[columns] = df[columns].fillna('unknown')"
   ]
  },
  {
   "cell_type": "markdown",
   "metadata": {
    "deletable": false,
    "editable": false,
    "id": "Ilsm-MZo_Zct",
    "tags": [
     "start_task"
    ]
   },
   "source": [
    "**Задание 11**"
   ]
  },
  {
   "cell_type": "code",
   "execution_count": 28,
   "metadata": {
    "deletable": false,
    "id": "Tq4nYRX4_Zct"
   },
   "outputs": [
    {
     "data": {
      "text/plain": [
       "user_id    0\n",
       "track      0\n",
       "artist     0\n",
       "genre      0\n",
       "city       0\n",
       "time       0\n",
       "day        0\n",
       "dtype: int64"
      ]
     },
     "execution_count": 28,
     "metadata": {},
     "output_type": "execute_result"
    }
   ],
   "source": [
    "# проверка на отсутствие пропусков\n",
    "df.isna().sum()"
   ]
  },
  {
   "cell_type": "markdown",
   "metadata": {
    "deletable": false,
    "editable": false,
    "id": "BWKRtBJ3_Zct",
    "tags": [
     "start_task"
    ]
   },
   "source": [
    "### Обработка дубликатов\n",
    "\n",
    "**Задание 12**"
   ]
  },
  {
   "cell_type": "code",
   "execution_count": 30,
   "metadata": {
    "deletable": false,
    "id": "36eES_S0_Zct"
   },
   "outputs": [
    {
     "data": {
      "text/plain": [
       "3826"
      ]
     },
     "execution_count": 30,
     "metadata": {},
     "output_type": "execute_result"
    }
   ],
   "source": [
    "# подсчёт явных дубликатов\n",
    "df.duplicated().sum()"
   ]
  },
  {
   "cell_type": "markdown",
   "metadata": {
    "deletable": false,
    "editable": false,
    "id": "Ot25h6XR_Zct",
    "tags": [
     "start_task"
    ]
   },
   "source": [
    "**Задание 13**"
   ]
  },
  {
   "cell_type": "code",
   "execution_count": 32,
   "metadata": {
    "deletable": false,
    "id": "exFHq6tt_Zct"
   },
   "outputs": [],
   "source": [
    "# удаление явных дубликатов, создание новых индексов и удаление старых\n",
    "df = df.drop_duplicates().reset_index(drop = True)"
   ]
  },
  {
   "cell_type": "markdown",
   "metadata": {
    "deletable": false,
    "editable": false,
    "id": "Im2YwBEG_Zct",
    "tags": [
     "start_task"
    ]
   },
   "source": [
    "**Задание 14**"
   ]
  },
  {
   "cell_type": "code",
   "execution_count": 34,
   "metadata": {
    "deletable": false,
    "id": "-8PuNWQ0_Zct"
   },
   "outputs": [
    {
     "data": {
      "text/plain": [
       "0"
      ]
     },
     "execution_count": 34,
     "metadata": {},
     "output_type": "execute_result"
    }
   ],
   "source": [
    "# проверка на отсутствие явных дубликатов\n",
    "df.duplicated().sum()"
   ]
  },
  {
   "cell_type": "markdown",
   "metadata": {
    "deletable": false,
    "editable": false,
    "id": "eSjWwsOh_Zct",
    "tags": [
     "start_task"
    ]
   },
   "source": [
    "**Задание 15**"
   ]
  },
  {
   "cell_type": "code",
   "execution_count": 36,
   "metadata": {
    "deletable": false,
    "id": "JIUcqzZN_Zct"
   },
   "outputs": [
    {
     "data": {
      "text/plain": [
       "array(['acid', 'acoustic', 'action', 'adult', 'africa', 'afrikaans',\n",
       "       'alternative', 'alternativepunk', 'ambient', 'americana',\n",
       "       'animated', 'anime', 'arabesk', 'arabic', 'arena',\n",
       "       'argentinetango', 'art', 'audiobook', 'author', 'avantgarde',\n",
       "       'axé', 'baile', 'balkan', 'beats', 'bigroom', 'black', 'bluegrass',\n",
       "       'blues', 'bollywood', 'bossa', 'brazilian', 'breakbeat', 'breaks',\n",
       "       'broadway', 'cantautori', 'cantopop', 'canzone', 'caribbean',\n",
       "       'caucasian', 'celtic', 'chamber', 'chanson', 'children', 'chill',\n",
       "       'chinese', 'choral', 'christian', 'christmas', 'classical',\n",
       "       'classicmetal', 'club', 'colombian', 'comedy', 'conjazz',\n",
       "       'contemporary', 'country', 'cuban', 'dance', 'dancehall',\n",
       "       'dancepop', 'dark', 'death', 'deep', 'deutschrock', 'deutschspr',\n",
       "       'dirty', 'disco', 'dnb', 'documentary', 'downbeat', 'downtempo',\n",
       "       'drum', 'dub', 'dubstep', 'eastern', 'easy', 'electronic',\n",
       "       'electropop', 'emo', 'entehno', 'epicmetal', 'estrada', 'ethnic',\n",
       "       'eurofolk', 'european', 'experimental', 'extrememetal', 'fado',\n",
       "       'fairytail', 'film', 'fitness', 'flamenco', 'folk', 'folklore',\n",
       "       'folkmetal', 'folkrock', 'folktronica', 'forró', 'frankreich',\n",
       "       'französisch', 'french', 'funk', 'future', 'gangsta', 'garage',\n",
       "       'german', 'ghazal', 'gitarre', 'glitch', 'gospel', 'gothic',\n",
       "       'grime', 'grunge', 'gypsy', 'handsup', \"hard'n'heavy\", 'hardcore',\n",
       "       'hardstyle', 'hardtechno', 'hip', 'hip-hop', 'hiphop',\n",
       "       'historisch', 'holiday', 'hop', 'horror', 'house', 'hymn', 'idm',\n",
       "       'independent', 'indian', 'indie', 'indipop', 'industrial',\n",
       "       'inspirational', 'instrumental', 'international', 'irish', 'jam',\n",
       "       'japanese', 'jazz', 'jewish', 'jpop', 'jungle', 'k-pop',\n",
       "       'karadeniz', 'karaoke', 'kayokyoku', 'korean', 'laiko', 'latin',\n",
       "       'latino', 'leftfield', 'local', 'lounge', 'loungeelectronic',\n",
       "       'lovers', 'malaysian', 'mandopop', 'marschmusik', 'meditative',\n",
       "       'mediterranean', 'melodic', 'metal', 'metalcore', 'mexican',\n",
       "       'middle', 'minimal', 'miscellaneous', 'modern', 'mood', 'mpb',\n",
       "       'muslim', 'native', 'neoklassik', 'neue', 'new', 'newage',\n",
       "       'newwave', 'nu', 'nujazz', 'numetal', 'oceania', 'old', 'opera',\n",
       "       'orchestral', 'other', 'piano', 'podcasts', 'pop', 'popdance',\n",
       "       'popelectronic', 'popeurodance', 'poprussian', 'post',\n",
       "       'posthardcore', 'postrock', 'power', 'progmetal', 'progressive',\n",
       "       'psychedelic', 'punjabi', 'punk', 'quebecois', 'ragga', 'ram',\n",
       "       'rancheras', 'rap', 'rave', 'reggae', 'reggaeton', 'regional',\n",
       "       'relax', 'religious', 'retro', 'rhythm', 'rnb', 'rnr', 'rock',\n",
       "       'rockabilly', 'rockalternative', 'rockindie', 'rockother',\n",
       "       'romance', 'roots', 'ruspop', 'rusrap', 'rusrock', 'russian',\n",
       "       'salsa', 'samba', 'scenic', 'schlager', 'self', 'sertanejo',\n",
       "       'shanson', 'shoegazing', 'showtunes', 'singer', 'ska', 'skarock',\n",
       "       'slow', 'smooth', 'soft', 'soul', 'soulful', 'sound', 'soundtrack',\n",
       "       'southern', 'specialty', 'speech', 'spiritual', 'sport',\n",
       "       'stonerrock', 'surf', 'swing', 'synthpop', 'synthrock',\n",
       "       'sängerportrait', 'tango', 'tanzorchester', 'taraftar', 'tatar',\n",
       "       'tech', 'techno', 'teen', 'thrash', 'top', 'traditional',\n",
       "       'tradjazz', 'trance', 'tribal', 'trip', 'triphop', 'tropical',\n",
       "       'türk', 'türkçe', 'ukrrock', 'unknown', 'urban', 'uzbek',\n",
       "       'variété', 'vi', 'videogame', 'vocal', 'western', 'world',\n",
       "       'worldbeat', 'ïîï', 'электроника'], dtype=object)"
      ]
     },
     "execution_count": 36,
     "metadata": {},
     "output_type": "execute_result"
    }
   ],
   "source": [
    "# просмотр уникальных отсортированных названий жанров\n",
    "df_genre = df['genre']\n",
    "df_genre.sort_values().unique()"
   ]
  },
  {
   "cell_type": "markdown",
   "metadata": {
    "deletable": false,
    "editable": false,
    "id": "qej-Qmuo_Zct",
    "tags": [
     "start_task"
    ]
   },
   "source": [
    "**Задание 16**"
   ]
  },
  {
   "cell_type": "code",
   "execution_count": 38,
   "metadata": {
    "deletable": false,
    "id": "ErNDkmns_Zct"
   },
   "outputs": [],
   "source": [
    "# устранение неявных дубликатов\n",
    "def replace_wrong_values(wrong_values, correct_value): # на вход функции подаются список неправильных значений и строка с правильным значением\n",
    "    for wrong_value in wrong_values: # перебираем неправильные имена\n",
    "        df['genre'] = df['genre'].replace(wrong_value, correct_value) # и для каждого неправильного имени вызываем метод replace()\n",
    "\n",
    "duplicates = ['hip', 'hop', 'hip-hop'] # список неправильных имён\n",
    "name = 'hiphop' # правильное имя\n",
    "replace_wrong_values(duplicates, name) # вызов функции, replace() внутри будет вызван 3 раза"
   ]
  },
  {
   "cell_type": "markdown",
   "metadata": {
    "deletable": false,
    "editable": false,
    "id": "zQKF16_RG15m",
    "tags": [
     "start_task"
    ]
   },
   "source": [
    "**Задание 17**"
   ]
  },
  {
   "cell_type": "code",
   "execution_count": 40,
   "metadata": {
    "deletable": false,
    "id": "wvixALnFG15m",
    "scrolled": true
   },
   "outputs": [
    {
     "data": {
      "text/plain": [
       "array(['acid', 'acoustic', 'action', 'adult', 'africa', 'afrikaans',\n",
       "       'alternative', 'alternativepunk', 'ambient', 'americana',\n",
       "       'animated', 'anime', 'arabesk', 'arabic', 'arena',\n",
       "       'argentinetango', 'art', 'audiobook', 'author', 'avantgarde',\n",
       "       'axé', 'baile', 'balkan', 'beats', 'bigroom', 'black', 'bluegrass',\n",
       "       'blues', 'bollywood', 'bossa', 'brazilian', 'breakbeat', 'breaks',\n",
       "       'broadway', 'cantautori', 'cantopop', 'canzone', 'caribbean',\n",
       "       'caucasian', 'celtic', 'chamber', 'chanson', 'children', 'chill',\n",
       "       'chinese', 'choral', 'christian', 'christmas', 'classical',\n",
       "       'classicmetal', 'club', 'colombian', 'comedy', 'conjazz',\n",
       "       'contemporary', 'country', 'cuban', 'dance', 'dancehall',\n",
       "       'dancepop', 'dark', 'death', 'deep', 'deutschrock', 'deutschspr',\n",
       "       'dirty', 'disco', 'dnb', 'documentary', 'downbeat', 'downtempo',\n",
       "       'drum', 'dub', 'dubstep', 'eastern', 'easy', 'electronic',\n",
       "       'electropop', 'emo', 'entehno', 'epicmetal', 'estrada', 'ethnic',\n",
       "       'eurofolk', 'european', 'experimental', 'extrememetal', 'fado',\n",
       "       'fairytail', 'film', 'fitness', 'flamenco', 'folk', 'folklore',\n",
       "       'folkmetal', 'folkrock', 'folktronica', 'forró', 'frankreich',\n",
       "       'französisch', 'french', 'funk', 'future', 'gangsta', 'garage',\n",
       "       'german', 'ghazal', 'gitarre', 'glitch', 'gospel', 'gothic',\n",
       "       'grime', 'grunge', 'gypsy', 'handsup', \"hard'n'heavy\", 'hardcore',\n",
       "       'hardstyle', 'hardtechno', 'hip', 'hip-hop', 'hiphop',\n",
       "       'historisch', 'holiday', 'hop', 'horror', 'house', 'hymn', 'idm',\n",
       "       'independent', 'indian', 'indie', 'indipop', 'industrial',\n",
       "       'inspirational', 'instrumental', 'international', 'irish', 'jam',\n",
       "       'japanese', 'jazz', 'jewish', 'jpop', 'jungle', 'k-pop',\n",
       "       'karadeniz', 'karaoke', 'kayokyoku', 'korean', 'laiko', 'latin',\n",
       "       'latino', 'leftfield', 'local', 'lounge', 'loungeelectronic',\n",
       "       'lovers', 'malaysian', 'mandopop', 'marschmusik', 'meditative',\n",
       "       'mediterranean', 'melodic', 'metal', 'metalcore', 'mexican',\n",
       "       'middle', 'minimal', 'miscellaneous', 'modern', 'mood', 'mpb',\n",
       "       'muslim', 'native', 'neoklassik', 'neue', 'new', 'newage',\n",
       "       'newwave', 'nu', 'nujazz', 'numetal', 'oceania', 'old', 'opera',\n",
       "       'orchestral', 'other', 'piano', 'podcasts', 'pop', 'popdance',\n",
       "       'popelectronic', 'popeurodance', 'poprussian', 'post',\n",
       "       'posthardcore', 'postrock', 'power', 'progmetal', 'progressive',\n",
       "       'psychedelic', 'punjabi', 'punk', 'quebecois', 'ragga', 'ram',\n",
       "       'rancheras', 'rap', 'rave', 'reggae', 'reggaeton', 'regional',\n",
       "       'relax', 'religious', 'retro', 'rhythm', 'rnb', 'rnr', 'rock',\n",
       "       'rockabilly', 'rockalternative', 'rockindie', 'rockother',\n",
       "       'romance', 'roots', 'ruspop', 'rusrap', 'rusrock', 'russian',\n",
       "       'salsa', 'samba', 'scenic', 'schlager', 'self', 'sertanejo',\n",
       "       'shanson', 'shoegazing', 'showtunes', 'singer', 'ska', 'skarock',\n",
       "       'slow', 'smooth', 'soft', 'soul', 'soulful', 'sound', 'soundtrack',\n",
       "       'southern', 'specialty', 'speech', 'spiritual', 'sport',\n",
       "       'stonerrock', 'surf', 'swing', 'synthpop', 'synthrock',\n",
       "       'sängerportrait', 'tango', 'tanzorchester', 'taraftar', 'tatar',\n",
       "       'tech', 'techno', 'teen', 'thrash', 'top', 'traditional',\n",
       "       'tradjazz', 'trance', 'tribal', 'trip', 'triphop', 'tropical',\n",
       "       'türk', 'türkçe', 'ukrrock', 'unknown', 'urban', 'uzbek',\n",
       "       'variété', 'vi', 'videogame', 'vocal', 'western', 'world',\n",
       "       'worldbeat', 'ïîï', 'электроника'], dtype=object)"
      ]
     },
     "execution_count": 40,
     "metadata": {},
     "output_type": "execute_result"
    }
   ],
   "source": [
    "# проверка на отсутствие неявных дубликатов\n",
    "df_genre.sort_values().unique()"
   ]
  },
  {
   "cell_type": "markdown",
   "metadata": {
    "deletable": false,
    "editable": false,
    "id": "jz6a9-7HQUDd"
   },
   "source": [
    "**Выводы**\n",
    "\n",
    "Предобработка обнаружила три проблемы в данных:\n",
    "\n",
    "- нарушения в стиле заголовков,\n",
    "- пропущенные значения,\n",
    "- дубликаты — явные и неявные.\n",
    "\n",
    "Вы исправили заголовки, чтобы упростить работу с таблицей. Без дубликатов исследование станет более точным.\n",
    "\n",
    "Пропущенные значения вы заменили на `'unknown'`. Ещё предстоит увидеть, не повредят ли исследованию пропуски в колонке `genre`.\n",
    "\n",
    "Теперь можно перейти к проверке гипотез."
   ]
  },
  {
   "cell_type": "markdown",
   "metadata": {
    "deletable": false,
    "editable": false,
    "id": "WttZHXH0SqKk"
   },
   "source": [
    "## Проверка гипотез"
   ]
  },
  {
   "cell_type": "markdown",
   "metadata": {
    "deletable": false,
    "editable": false,
    "id": "Im936VVi_Zcu"
   },
   "source": [
    "### Сравнение поведения пользователей двух столиц"
   ]
  },
  {
   "cell_type": "markdown",
   "metadata": {
    "deletable": false,
    "editable": false,
    "id": "nwt_MuaL_Zcu"
   },
   "source": [
    "Первая гипотеза утверждает, что пользователи по-разному слушают музыку в Москве и Санкт-Петербурге. Проверим это предположение по данным о трёх днях недели — понедельнике, среде и пятнице. Для этого:\n",
    "\n",
    "* Разделим пользователей Москвы и Санкт-Петербурга.\n",
    "* Сравним, сколько треков послушала каждая группа пользователей в понедельник, среду и пятницу.\n"
   ]
  },
  {
   "cell_type": "markdown",
   "metadata": {
    "deletable": false,
    "id": "8Dw_YMmT_Zcu",
    "tags": [
     "start_task"
    ]
   },
   "source": [
    "**Задание 18**\n",
    "\n"
   ]
  },
  {
   "cell_type": "code",
   "execution_count": 46,
   "metadata": {
    "deletable": false,
    "id": "0_Qs96oh_Zcu"
   },
   "outputs": [
    {
     "data": {
      "text/plain": [
       "city\n",
       "Moscow              42741\n",
       "Saint-Petersburg    18512\n",
       "Name: city, dtype: int64"
      ]
     },
     "execution_count": 46,
     "metadata": {},
     "output_type": "execute_result"
    }
   ],
   "source": [
    "# подсчёт прослушиваний в каждом городе\n",
    "df.groupby('city')['city'].count()"
   ]
  },
  {
   "cell_type": "markdown",
   "metadata": {
    "id": "dzli3w8o_Zcu",
    "tags": [
     "start_task"
    ]
   },
   "source": [
    "**Задание 19**\n"
   ]
  },
  {
   "cell_type": "code",
   "execution_count": 48,
   "metadata": {
    "deletable": false,
    "id": "uZMKjiJz_Zcu"
   },
   "outputs": [
    {
     "data": {
      "text/plain": [
       "day\n",
       "Friday       21840\n",
       "Monday       21354\n",
       "Wednesday    18059\n",
       "Name: day, dtype: int64"
      ]
     },
     "execution_count": 48,
     "metadata": {},
     "output_type": "execute_result"
    }
   ],
   "source": [
    "# подсчёт прослушиваний в каждый из трёх дней\n",
    "df.groupby('day')['day'].count()"
   ]
  },
  {
   "cell_type": "markdown",
   "metadata": {
    "deletable": false,
    "editable": false,
    "id": "POzs8bGa_Zcu",
    "tags": [
     "start_task"
    ]
   },
   "source": [
    "**Задание 20**"
   ]
  },
  {
   "cell_type": "code",
   "execution_count": 50,
   "metadata": {
    "deletable": false,
    "id": "Nz3GdQB1_Zcu"
   },
   "outputs": [],
   "source": [
    "def number_tracks(day, city):\n",
    "    track_list = df[df['day'] == day]# выберите только строки df со значением переменной day в столбце day\n",
    "    track_list = track_list[track_list['city'] == city]# выберите только строки track_list со значением переменной city в столбце city\n",
    "    track_list_count = track_list['user_id'].count()# вызовите метод подсчета строк для track_list и выберите столбец user_id\n",
    "    return track_list_count # верните значение track_list_count из функции"
   ]
  },
  {
   "cell_type": "markdown",
   "metadata": {
    "deletable": false,
    "editable": false,
    "id": "ytf7xFrFJQ2r",
    "tags": [
     "start_task"
    ]
   },
   "source": [
    "**Задание 21**"
   ]
  },
  {
   "cell_type": "code",
   "execution_count": 52,
   "metadata": {
    "deletable": false,
    "id": "rJcRATNQ_Zcu"
   },
   "outputs": [
    {
     "data": {
      "text/plain": [
       "15740"
      ]
     },
     "execution_count": 52,
     "metadata": {},
     "output_type": "execute_result"
    }
   ],
   "source": [
    "# количество прослушиваний в Москве по понедельникам\n",
    "number_tracks('Monday', 'Moscow')"
   ]
  },
  {
   "cell_type": "code",
   "execution_count": 53,
   "metadata": {
    "deletable": false,
    "id": "hq_ncZ5T_Zcu"
   },
   "outputs": [
    {
     "data": {
      "text/plain": [
       "5614"
      ]
     },
     "execution_count": 53,
     "metadata": {},
     "output_type": "execute_result"
    }
   ],
   "source": [
    "# количество прослушиваний в Санкт-Петербурге по понедельникам\n",
    "number_tracks('Monday', 'Saint-Petersburg')"
   ]
  },
  {
   "cell_type": "code",
   "execution_count": 54,
   "metadata": {
    "deletable": false,
    "id": "_NTy2VPU_Zcu"
   },
   "outputs": [
    {
     "data": {
      "text/plain": [
       "11056"
      ]
     },
     "execution_count": 54,
     "metadata": {},
     "output_type": "execute_result"
    }
   ],
   "source": [
    "# количество прослушиваний в Москве по средам\n",
    "number_tracks('Wednesday', 'Moscow')"
   ]
  },
  {
   "cell_type": "code",
   "execution_count": 55,
   "metadata": {
    "deletable": false,
    "id": "j2y3TAwo_Zcu"
   },
   "outputs": [
    {
     "data": {
      "text/plain": [
       "7003"
      ]
     },
     "execution_count": 55,
     "metadata": {},
     "output_type": "execute_result"
    }
   ],
   "source": [
    "# количество прослушиваний в Санкт-Петербурге по средам\n",
    "number_tracks('Wednesday', 'Saint-Petersburg')"
   ]
  },
  {
   "cell_type": "code",
   "execution_count": 56,
   "metadata": {
    "deletable": false,
    "id": "vYDw5u_K_Zcu"
   },
   "outputs": [
    {
     "data": {
      "text/plain": [
       "15945"
      ]
     },
     "execution_count": 56,
     "metadata": {},
     "output_type": "execute_result"
    }
   ],
   "source": [
    "# количество прослушиваний в Москве по пятницам\n",
    "number_tracks('Friday', 'Moscow')"
   ]
  },
  {
   "cell_type": "code",
   "execution_count": 57,
   "metadata": {
    "deletable": false,
    "id": "8_yzFtW3_Zcu"
   },
   "outputs": [
    {
     "data": {
      "text/plain": [
       "5895"
      ]
     },
     "execution_count": 57,
     "metadata": {},
     "output_type": "execute_result"
    }
   ],
   "source": [
    "# количество прослушиваний в Санкт-Петербурге по пятницам\n",
    "number_tracks('Friday', 'Saint-Petersburg')"
   ]
  },
  {
   "cell_type": "markdown",
   "metadata": {
    "deletable": false,
    "editable": false,
    "id": "7QXffbO-_Zcu",
    "tags": [
     "start_task"
    ]
   },
   "source": [
    "**Задание 22**"
   ]
  },
  {
   "cell_type": "code",
   "execution_count": 59,
   "metadata": {
    "deletable": false,
    "id": "APAcLpOr_Zcu"
   },
   "outputs": [
    {
     "data": {
      "text/html": [
       "<div>\n",
       "<style scoped>\n",
       "    .dataframe tbody tr th:only-of-type {\n",
       "        vertical-align: middle;\n",
       "    }\n",
       "\n",
       "    .dataframe tbody tr th {\n",
       "        vertical-align: top;\n",
       "    }\n",
       "\n",
       "    .dataframe thead th {\n",
       "        text-align: right;\n",
       "    }\n",
       "</style>\n",
       "<table border=\"1\" class=\"dataframe\">\n",
       "  <thead>\n",
       "    <tr style=\"text-align: right;\">\n",
       "      <th></th>\n",
       "      <th>city</th>\n",
       "      <th>monday</th>\n",
       "      <th>wednesday</th>\n",
       "      <th>friday</th>\n",
       "    </tr>\n",
       "  </thead>\n",
       "  <tbody>\n",
       "    <tr>\n",
       "      <th>0</th>\n",
       "      <td>Moscow</td>\n",
       "      <td>15740</td>\n",
       "      <td>11056</td>\n",
       "      <td>15945</td>\n",
       "    </tr>\n",
       "    <tr>\n",
       "      <th>1</th>\n",
       "      <td>Saint-Petersburg</td>\n",
       "      <td>5614</td>\n",
       "      <td>7003</td>\n",
       "      <td>5895</td>\n",
       "    </tr>\n",
       "  </tbody>\n",
       "</table>\n",
       "</div>"
      ],
      "text/plain": [
       "               city  monday  wednesday  friday\n",
       "0            Moscow   15740      11056   15945\n",
       "1  Saint-Petersburg    5614       7003    5895"
      ]
     },
     "execution_count": 59,
     "metadata": {},
     "output_type": "execute_result"
    }
   ],
   "source": [
    "# создание таблицы с результатами\n",
    "info = [\n",
    "    ['Moscow', 15740, 11056, 15945],\n",
    "    ['Saint-Petersburg', 5614, 7003, 5895]\n",
    "    \n",
    "]\n",
    "# вывод таблицы на экран\n",
    "pd.DataFrame(data = info, columns = ['city', 'monday', 'wednesday', 'friday'])\n"
   ]
  },
  {
   "cell_type": "markdown",
   "metadata": {
    "deletable": false,
    "editable": false,
    "id": "-EgPIHYu_Zcu"
   },
   "source": [
    "**Выводы**\n",
    "\n",
    "Данные показывают разницу поведения пользователей:\n",
    "\n",
    "- В Москве пик прослушиваний приходится на понедельник и пятницу, а в среду заметен спад.\n",
    "- В Петербурге, наоборот, больше слушают музыку по средам. Активность в понедельник и пятницу здесь почти в равной мере уступает среде.\n",
    "\n",
    "Значит, данные говорят в пользу первой гипотезы."
   ]
  },
  {
   "cell_type": "markdown",
   "metadata": {
    "deletable": false,
    "editable": false,
    "id": "atZAxtq4_Zcu"
   },
   "source": [
    "### Музыка в начале и в конце недели"
   ]
  },
  {
   "cell_type": "markdown",
   "metadata": {
    "deletable": false,
    "editable": false,
    "id": "eXrQqXFH_Zcu"
   },
   "source": [
    "Согласно второй гипотезе, утром в понедельник в Москве преобладают одни жанры, а в Петербурге — другие. Так же и вечером пятницы преобладают разные жанры — в зависимости от города."
   ]
  },
  {
   "cell_type": "markdown",
   "metadata": {
    "deletable": false,
    "editable": false,
    "id": "S8UcW6Hw_Zcu",
    "tags": [
     "start_task"
    ]
   },
   "source": [
    "**Задание 23**"
   ]
  },
  {
   "cell_type": "code",
   "execution_count": 64,
   "metadata": {
    "deletable": false,
    "id": "qeaFfM_P_Zcu"
   },
   "outputs": [],
   "source": [
    "# получение таблицы moscow_general из тех строк таблицы df, для которых значение в столбце 'city' равно 'Moscow'\n",
    "moscow_general = df[df['city'] == 'Moscow']\n"
   ]
  },
  {
   "cell_type": "code",
   "execution_count": 65,
   "metadata": {
    "deletable": false,
    "id": "ORaVRKto_Zcu"
   },
   "outputs": [],
   "source": [
    "# получение таблицы spb_general из тех строк таблицы df, для которых значение в столбце 'city' равно 'Saint-Petersburg'\n",
    "spb_general = df[df['city'] == 'Saint-Petersburg']\n"
   ]
  },
  {
   "cell_type": "markdown",
   "metadata": {
    "deletable": false,
    "editable": false,
    "id": "MEJV-CX2_Zcu",
    "tags": [
     "start_task"
    ]
   },
   "source": [
    "**Задание 24**"
   ]
  },
  {
   "cell_type": "code",
   "execution_count": 67,
   "metadata": {
    "deletable": false,
    "id": "laJT9BYl_Zcu"
   },
   "outputs": [],
   "source": [
    "def genre_weekday(df, day, time1, time2):\n",
    "    # последовательная фильтрация\n",
    "    # оставляем в genre_df только те строки df, у которых день равен day\n",
    "    genre_df = df[df['day'] == day]# ваш код здесь\n",
    "    # оставляем в genre_df только те строки genre_df, у которых время меньше time2\n",
    "    genre_df = genre_df[genre_df['time'] < time2]# ваш код здесь\n",
    "    # оставляем в genre_df только те строки genre_df, у которых время больше time1\n",
    "    genre_df = genre_df[genre_df['time'] > time1]# ваш код здесь\n",
    "    # сгруппируем отфильтрованный датафрейм по столбцу с названиями жанров, возьмём столбец genre и посчитаем кол-во строк для каждого жанра методом count()\n",
    "    genre_df_grouped = genre_df.groupby('genre')['genre'].count()# ваш код здесь\n",
    "    # отсортируем результат по убыванию (чтобы в начале Series оказались самые популярные жанры)\n",
    "    genre_df_sorted = genre_df_grouped.sort_values(ascending = False)# ваш код здесь\n",
    "    # вернём Series с 10 самыми популярными жанрами в указанный отрезок времени заданного дня\n",
    "    return genre_df_sorted[:10]"
   ]
  },
  {
   "cell_type": "markdown",
   "metadata": {
    "deletable": false,
    "editable": false,
    "id": "la2s2_PF_Zcu",
    "tags": [
     "start_task"
    ]
   },
   "source": [
    "**Задание 25**"
   ]
  },
  {
   "cell_type": "code",
   "execution_count": 69,
   "metadata": {
    "deletable": false,
    "id": "yz7itPUQ_Zcu"
   },
   "outputs": [
    {
     "data": {
      "text/plain": [
       "genre\n",
       "pop            781\n",
       "dance          549\n",
       "electronic     480\n",
       "rock           474\n",
       "hiphop         286\n",
       "ruspop         186\n",
       "world          181\n",
       "rusrap         175\n",
       "alternative    164\n",
       "unknown        161\n",
       "Name: genre, dtype: int64"
      ]
     },
     "execution_count": 69,
     "metadata": {},
     "output_type": "execute_result"
    }
   ],
   "source": [
    "# вызов функции для утра понедельника в Москве (вместо df — таблица moscow_general)\n",
    "genre_weekday(moscow_general, 'Monday', '07:00', '11:00')"
   ]
  },
  {
   "cell_type": "code",
   "execution_count": 70,
   "metadata": {
    "deletable": false,
    "id": "kwUcHPdy_Zcu"
   },
   "outputs": [
    {
     "data": {
      "text/plain": [
       "genre\n",
       "pop            218\n",
       "dance          182\n",
       "rock           162\n",
       "electronic     147\n",
       "hiphop          80\n",
       "ruspop          64\n",
       "alternative     58\n",
       "rusrap          55\n",
       "jazz            44\n",
       "classical       40\n",
       "Name: genre, dtype: int64"
      ]
     },
     "execution_count": 70,
     "metadata": {},
     "output_type": "execute_result"
    }
   ],
   "source": [
    "# вызов функции для утра понедельника в Петербурге (вместо df — таблица spb_general)\n",
    "genre_weekday(spb_general, 'Monday', '07:00', '11:00')"
   ]
  },
  {
   "cell_type": "code",
   "execution_count": 71,
   "metadata": {
    "deletable": false,
    "id": "EzXVRE1o_Zcu"
   },
   "outputs": [
    {
     "data": {
      "text/plain": [
       "genre\n",
       "pop            713\n",
       "rock           517\n",
       "dance          495\n",
       "electronic     482\n",
       "hiphop         273\n",
       "world          208\n",
       "ruspop         170\n",
       "alternative    163\n",
       "classical      163\n",
       "rusrap         142\n",
       "Name: genre, dtype: int64"
      ]
     },
     "execution_count": 71,
     "metadata": {},
     "output_type": "execute_result"
    }
   ],
   "source": [
    "# вызов функции для вечера пятницы в Москве\n",
    "genre_weekday(moscow_general, 'Friday', '17:00', '23:00')"
   ]
  },
  {
   "cell_type": "code",
   "execution_count": 72,
   "metadata": {
    "deletable": false,
    "id": "JZaEKu5v_Zcu"
   },
   "outputs": [
    {
     "data": {
      "text/plain": [
       "genre\n",
       "pop            256\n",
       "electronic     216\n",
       "rock           216\n",
       "dance          210\n",
       "hiphop          97\n",
       "alternative     63\n",
       "jazz            61\n",
       "classical       60\n",
       "rusrap          59\n",
       "world           54\n",
       "Name: genre, dtype: int64"
      ]
     },
     "execution_count": 72,
     "metadata": {},
     "output_type": "execute_result"
    }
   ],
   "source": [
    "# вызов функции для вечера пятницы в Петербурге\n",
    "genre_weekday(spb_general, 'Friday', '17:00', '23:00')"
   ]
  },
  {
   "cell_type": "markdown",
   "metadata": {
    "deletable": false,
    "editable": false,
    "id": "wrCe4MNX_Zcu"
   },
   "source": [
    "**Выводы**\n",
    "\n",
    "Если сравнить топ-10 жанров в понедельник утром, можно сделать такие выводы:\n",
    "\n",
    "1. В Москве и Петербурге слушают похожую музыку. Единственное различие — в московский рейтинг вошёл жанр “world”, а в петербургский — джаз и классика.\n",
    "\n",
    "2. В Москве пропущенных значений оказалось так много, что значение `'unknown'` заняло десятое место среди самых популярных жанров. Значит, пропущенные значения занимают существенную долю в данных и угрожают достоверности исследования.\n",
    "\n",
    "Вечер пятницы не меняет эту картину. Некоторые жанры поднимаются немного выше, другие спускаются, но в целом топ-10 остаётся тем же самым.\n",
    "\n",
    "Таким образом, вторая гипотеза подтвердилась лишь частично:\n",
    "* Пользователи слушают похожую музыку в начале недели и в конце.\n",
    "* Разница между Москвой и Петербургом не слишком выражена. В Москве чаще слушают русскую популярную музыку, в Петербурге — джаз.\n",
    "\n",
    "Однако пропуски в данных ставят под сомнение этот результат. В Москве их так много, что рейтинг топ-10 мог бы выглядеть иначе, если бы не утерянные  данные о жанрах."
   ]
  },
  {
   "cell_type": "markdown",
   "metadata": {
    "deletable": false,
    "editable": false,
    "id": "JolODAqr_Zcu"
   },
   "source": [
    "### Жанровые предпочтения в Москве и Петербурге\n",
    "\n",
    "Гипотеза: Петербург — столица рэпа, музыку этого жанра там слушают чаще, чем в Москве.  А Москва — город контрастов, в котором, тем не менее, преобладает поп-музыка."
   ]
  },
  {
   "cell_type": "markdown",
   "metadata": {
    "deletable": false,
    "editable": false,
    "id": "DlegSvaT_Zcu",
    "tags": [
     "start_task"
    ]
   },
   "source": [
    "**Задание 26**"
   ]
  },
  {
   "cell_type": "code",
   "execution_count": 76,
   "metadata": {
    "deletable": false,
    "id": "r19lIPke_Zcu"
   },
   "outputs": [],
   "source": [
    "# одной строкой: группировка таблицы moscow_general по столбцу 'genre', выбор столбца `genre`, подсчёт числа значений 'genre' методом count(), сохранение в moscow_genres\n",
    "# сортировка получившегося Series в порядке убывания и сохранение обратно в moscow_genres\n",
    "moscow_genres = moscow_general.groupby('genre')['genre'].count()\n",
    "moscow_genres = moscow_genres.sort_values(ascending = False)\n"
   ]
  },
  {
   "cell_type": "markdown",
   "metadata": {
    "deletable": false,
    "editable": false,
    "id": "6kMuomxTiIr8",
    "tags": [
     "start_task"
    ]
   },
   "source": [
    "**Задание 27**"
   ]
  },
  {
   "cell_type": "code",
   "execution_count": 78,
   "metadata": {
    "deletable": false,
    "id": "WhCSooF8_Zcv"
   },
   "outputs": [
    {
     "data": {
      "text/plain": [
       "genre\n",
       "pop            5892\n",
       "dance          4435\n",
       "rock           3965\n",
       "electronic     3786\n",
       "hiphop         2096\n",
       "classical      1616\n",
       "world          1432\n",
       "alternative    1379\n",
       "ruspop         1372\n",
       "rusrap         1161\n",
       "Name: genre, dtype: int64"
      ]
     },
     "execution_count": 78,
     "metadata": {},
     "output_type": "execute_result"
    }
   ],
   "source": [
    "# просмотр первых 10 строк moscow_genres\n",
    "moscow_genres.head(10)"
   ]
  },
  {
   "cell_type": "markdown",
   "metadata": {
    "deletable": false,
    "editable": false,
    "id": "cnPG2vnN_Zcv",
    "tags": [
     "start_task"
    ]
   },
   "source": [
    "**Задание 28**"
   ]
  },
  {
   "cell_type": "code",
   "execution_count": 80,
   "metadata": {
    "deletable": false,
    "id": "gluLIpE7_Zcv"
   },
   "outputs": [],
   "source": [
    "# одной строкой: группировка таблицы spb_general по столбцу 'genre', выбор столбца `genre`, подсчёт числа значений 'genre' методом count(), сохранение в spb_genres\n",
    "# сортировка получившегося Series в порядке убывания и сохранение обратно в spb_genres\n",
    "spb_genres = spb_general.groupby('genre')['genre'].count()\n",
    "spb_genres = spb_genres.sort_values(ascending = False)\n"
   ]
  },
  {
   "cell_type": "markdown",
   "metadata": {
    "deletable": false,
    "editable": false,
    "id": "5Doha_ODgyQ8",
    "tags": [
     "start_task"
    ]
   },
   "source": [
    "**Задание 29**"
   ]
  },
  {
   "cell_type": "code",
   "execution_count": 82,
   "metadata": {
    "deletable": false,
    "id": "uaGJHjVU_Zcv"
   },
   "outputs": [
    {
     "data": {
      "text/plain": [
       "genre\n",
       "pop            2431\n",
       "dance          1932\n",
       "rock           1879\n",
       "electronic     1736\n",
       "hiphop          960\n",
       "alternative     649\n",
       "classical       646\n",
       "rusrap          564\n",
       "ruspop          538\n",
       "world           515\n",
       "Name: genre, dtype: int64"
      ]
     },
     "execution_count": 82,
     "metadata": {},
     "output_type": "execute_result"
    }
   ],
   "source": [
    "# просмотр первых 10 строк spb_genres\n",
    "spb_genres.head(10)"
   ]
  },
  {
   "cell_type": "markdown",
   "metadata": {
    "deletable": false,
    "editable": false,
    "id": "RY51YJYu_Zcv"
   },
   "source": [
    "**Выводы**"
   ]
  },
  {
   "cell_type": "markdown",
   "metadata": {
    "deletable": false,
    "editable": false,
    "id": "nVhnJEm__Zcv"
   },
   "source": [
    "Гипотеза частично подтвердилась:\n",
    "* Поп-музыка — самый популярный жанр в Москве, как и предполагала гипотеза. Более того, в топ-10 жанров встречается близкий жанр — русская популярная музыка.\n",
    "* Вопреки ожиданиям, рэп одинаково популярен в Москве и Петербурге.\n"
   ]
  },
  {
   "cell_type": "markdown",
   "metadata": {
    "deletable": false,
    "editable": false,
    "id": "ykKQ0N65_Zcv"
   },
   "source": [
    "## Итоги исследования"
   ]
  },
  {
   "cell_type": "markdown",
   "metadata": {
    "deletable": false,
    "editable": false,
    "id": "tjUwbHb3_Zcv"
   },
   "source": [
    "Вы проверили три гипотезы и установили:\n",
    "\n",
    "1. День недели по-разному влияет на активность пользователей в Москве и Петербурге.\n",
    "\n",
    "Первая гипотеза полностью подтвердилась.\n",
    "\n",
    "2. Музыкальные предпочтения не сильно меняются в течение недели — будь то Москва или Петербург. Небольшие различия заметны в начале недели, по понедельникам:\n",
    "* в Москве слушают музыку жанра “world”,\n",
    "* в Петербурге — джаз и классику.\n",
    "\n",
    "Таким образом, вторая гипотеза подтвердилась лишь отчасти. Этот результат мог оказаться иным, если бы не пропуски в данных.\n",
    "\n",
    "3. Во вкусах пользователей Москвы и Петербурга больше общего, чем различий. Вопреки ожиданиям, предпочтения жанров в Петербурге напоминают московские.\n",
    "\n",
    "Третья гипотеза не подтвердилась. Если различия в предпочтениях и существуют, на основной массе пользователей они незаметны.\n",
    "\n",
    "**На практике исследования содержат проверки статистических гипотез.**\n",
    "Из части данных одного сервиса невозможно сделать какие-то выводы о всех пользователях сервиса без методов статистики.\n",
    "Проверки статистических гипотез покажут, насколько они достоверны, исходя из имеющихся данных.\n",
    "С методами проверок гипотез вы ещё познакомитесь в следующих темах."
   ]
  }
 ],
 "metadata": {
  "ExecuteTimeLog": [
   {
    "duration": 408,
    "start_time": "2024-07-19T05:00:11.478Z"
   },
   {
    "duration": 402,
    "start_time": "2024-07-19T05:06:16.560Z"
   },
   {
    "duration": 385,
    "start_time": "2024-07-19T06:20:15.986Z"
   },
   {
    "duration": 246,
    "start_time": "2024-07-19T06:20:16.373Z"
   },
   {
    "duration": 16,
    "start_time": "2024-07-19T06:20:16.621Z"
   },
   {
    "duration": 2,
    "start_time": "2024-07-19T06:20:16.638Z"
   },
   {
    "duration": 7,
    "start_time": "2024-07-19T06:20:16.642Z"
   },
   {
    "duration": 3,
    "start_time": "2024-07-19T06:20:16.650Z"
   },
   {
    "duration": 3,
    "start_time": "2024-07-19T06:20:16.654Z"
   },
   {
    "duration": 3,
    "start_time": "2024-07-19T06:20:16.658Z"
   },
   {
    "duration": 4,
    "start_time": "2024-07-19T06:20:16.662Z"
   },
   {
    "duration": 3,
    "start_time": "2024-07-19T06:20:16.667Z"
   },
   {
    "duration": 11,
    "start_time": "2024-07-19T06:20:16.671Z"
   },
   {
    "duration": 2,
    "start_time": "2024-07-19T06:20:16.683Z"
   },
   {
    "duration": 4,
    "start_time": "2024-07-19T06:20:16.686Z"
   },
   {
    "duration": 3,
    "start_time": "2024-07-19T06:20:16.692Z"
   },
   {
    "duration": 3,
    "start_time": "2024-07-19T06:20:16.696Z"
   },
   {
    "duration": 3,
    "start_time": "2024-07-19T06:20:16.701Z"
   },
   {
    "duration": 17,
    "start_time": "2024-07-19T06:20:16.706Z"
   },
   {
    "duration": 3,
    "start_time": "2024-07-19T06:20:16.725Z"
   },
   {
    "duration": 3,
    "start_time": "2024-07-19T06:20:16.730Z"
   },
   {
    "duration": 68,
    "start_time": "2024-07-19T06:20:16.735Z"
   },
   {
    "duration": 0,
    "start_time": "2024-07-19T06:20:16.805Z"
   },
   {
    "duration": 0,
    "start_time": "2024-07-19T06:20:16.806Z"
   },
   {
    "duration": 0,
    "start_time": "2024-07-19T06:20:16.807Z"
   },
   {
    "duration": 0,
    "start_time": "2024-07-19T06:20:16.809Z"
   },
   {
    "duration": 0,
    "start_time": "2024-07-19T06:20:16.810Z"
   },
   {
    "duration": 0,
    "start_time": "2024-07-19T06:20:16.812Z"
   },
   {
    "duration": 0,
    "start_time": "2024-07-19T06:20:16.813Z"
   },
   {
    "duration": 0,
    "start_time": "2024-07-19T06:20:16.814Z"
   },
   {
    "duration": 0,
    "start_time": "2024-07-19T06:20:16.815Z"
   },
   {
    "duration": 0,
    "start_time": "2024-07-19T06:20:16.817Z"
   },
   {
    "duration": 0,
    "start_time": "2024-07-19T06:20:16.818Z"
   },
   {
    "duration": 0,
    "start_time": "2024-07-19T06:20:16.819Z"
   },
   {
    "duration": 0,
    "start_time": "2024-07-19T06:20:16.821Z"
   },
   {
    "duration": 0,
    "start_time": "2024-07-19T06:20:16.822Z"
   },
   {
    "duration": 0,
    "start_time": "2024-07-19T06:20:16.824Z"
   },
   {
    "duration": 0,
    "start_time": "2024-07-19T06:20:16.825Z"
   },
   {
    "duration": 0,
    "start_time": "2024-07-19T06:20:16.826Z"
   },
   {
    "duration": 0,
    "start_time": "2024-07-19T06:20:16.829Z"
   },
   {
    "duration": 394,
    "start_time": "2024-07-19T06:22:16.909Z"
   },
   {
    "duration": 177,
    "start_time": "2024-07-19T06:22:17.305Z"
   },
   {
    "duration": 18,
    "start_time": "2024-07-19T06:22:17.484Z"
   },
   {
    "duration": 3,
    "start_time": "2024-07-19T06:22:17.504Z"
   },
   {
    "duration": 12,
    "start_time": "2024-07-19T06:22:17.508Z"
   },
   {
    "duration": 4,
    "start_time": "2024-07-19T06:22:17.521Z"
   },
   {
    "duration": 8,
    "start_time": "2024-07-19T06:22:17.526Z"
   },
   {
    "duration": 4,
    "start_time": "2024-07-19T06:22:17.535Z"
   },
   {
    "duration": 9,
    "start_time": "2024-07-19T06:22:17.540Z"
   },
   {
    "duration": 3,
    "start_time": "2024-07-19T06:22:17.551Z"
   },
   {
    "duration": 8,
    "start_time": "2024-07-19T06:22:17.555Z"
   },
   {
    "duration": 20,
    "start_time": "2024-07-19T06:22:17.565Z"
   },
   {
    "duration": 5,
    "start_time": "2024-07-19T06:22:17.587Z"
   },
   {
    "duration": 5,
    "start_time": "2024-07-19T06:22:17.593Z"
   },
   {
    "duration": 4,
    "start_time": "2024-07-19T06:22:17.599Z"
   },
   {
    "duration": 3,
    "start_time": "2024-07-19T06:22:17.604Z"
   },
   {
    "duration": 6,
    "start_time": "2024-07-19T06:22:17.608Z"
   },
   {
    "duration": 8,
    "start_time": "2024-07-19T06:22:17.615Z"
   },
   {
    "duration": 7,
    "start_time": "2024-07-19T06:22:17.625Z"
   },
   {
    "duration": 64,
    "start_time": "2024-07-19T06:22:17.633Z"
   },
   {
    "duration": 0,
    "start_time": "2024-07-19T06:22:17.698Z"
   },
   {
    "duration": 0,
    "start_time": "2024-07-19T06:22:17.700Z"
   },
   {
    "duration": 0,
    "start_time": "2024-07-19T06:22:17.701Z"
   },
   {
    "duration": 0,
    "start_time": "2024-07-19T06:22:17.702Z"
   },
   {
    "duration": 0,
    "start_time": "2024-07-19T06:22:17.703Z"
   },
   {
    "duration": 0,
    "start_time": "2024-07-19T06:22:17.704Z"
   },
   {
    "duration": 0,
    "start_time": "2024-07-19T06:22:17.705Z"
   },
   {
    "duration": 0,
    "start_time": "2024-07-19T06:22:17.706Z"
   },
   {
    "duration": 0,
    "start_time": "2024-07-19T06:22:17.706Z"
   },
   {
    "duration": 0,
    "start_time": "2024-07-19T06:22:17.708Z"
   },
   {
    "duration": 0,
    "start_time": "2024-07-19T06:22:17.709Z"
   },
   {
    "duration": 0,
    "start_time": "2024-07-19T06:22:17.710Z"
   },
   {
    "duration": 0,
    "start_time": "2024-07-19T06:22:17.711Z"
   },
   {
    "duration": 0,
    "start_time": "2024-07-19T06:22:17.712Z"
   },
   {
    "duration": 0,
    "start_time": "2024-07-19T06:22:17.713Z"
   },
   {
    "duration": 0,
    "start_time": "2024-07-19T06:22:17.714Z"
   },
   {
    "duration": 0,
    "start_time": "2024-07-19T06:22:17.715Z"
   },
   {
    "duration": 0,
    "start_time": "2024-07-19T06:22:17.716Z"
   },
   {
    "duration": 398,
    "start_time": "2024-07-19T06:37:07.577Z"
   },
   {
    "duration": 177,
    "start_time": "2024-07-19T06:37:07.977Z"
   },
   {
    "duration": 17,
    "start_time": "2024-07-19T06:37:08.155Z"
   },
   {
    "duration": 7,
    "start_time": "2024-07-19T06:37:08.174Z"
   },
   {
    "duration": 16,
    "start_time": "2024-07-19T06:37:08.183Z"
   },
   {
    "duration": 8,
    "start_time": "2024-07-19T06:37:08.200Z"
   },
   {
    "duration": 8,
    "start_time": "2024-07-19T06:37:08.209Z"
   },
   {
    "duration": 9,
    "start_time": "2024-07-19T06:37:08.218Z"
   },
   {
    "duration": 4,
    "start_time": "2024-07-19T06:37:08.228Z"
   },
   {
    "duration": 6,
    "start_time": "2024-07-19T06:37:08.233Z"
   },
   {
    "duration": 6,
    "start_time": "2024-07-19T06:37:08.240Z"
   },
   {
    "duration": 4,
    "start_time": "2024-07-19T06:37:08.247Z"
   },
   {
    "duration": 5,
    "start_time": "2024-07-19T06:37:08.252Z"
   },
   {
    "duration": 3,
    "start_time": "2024-07-19T06:37:08.260Z"
   },
   {
    "duration": 7,
    "start_time": "2024-07-19T06:37:08.264Z"
   },
   {
    "duration": 7,
    "start_time": "2024-07-19T06:37:08.272Z"
   },
   {
    "duration": 16,
    "start_time": "2024-07-19T06:37:08.280Z"
   },
   {
    "duration": 13,
    "start_time": "2024-07-19T06:37:08.298Z"
   },
   {
    "duration": 21,
    "start_time": "2024-07-19T06:37:08.313Z"
   },
   {
    "duration": 70,
    "start_time": "2024-07-19T06:37:08.336Z"
   },
   {
    "duration": 0,
    "start_time": "2024-07-19T06:37:08.408Z"
   },
   {
    "duration": 0,
    "start_time": "2024-07-19T06:37:08.409Z"
   },
   {
    "duration": 0,
    "start_time": "2024-07-19T06:37:08.410Z"
   },
   {
    "duration": 0,
    "start_time": "2024-07-19T06:37:08.411Z"
   },
   {
    "duration": 0,
    "start_time": "2024-07-19T06:37:08.412Z"
   },
   {
    "duration": 0,
    "start_time": "2024-07-19T06:37:08.413Z"
   },
   {
    "duration": 0,
    "start_time": "2024-07-19T06:37:08.414Z"
   },
   {
    "duration": 0,
    "start_time": "2024-07-19T06:37:08.415Z"
   },
   {
    "duration": 0,
    "start_time": "2024-07-19T06:37:08.416Z"
   },
   {
    "duration": 0,
    "start_time": "2024-07-19T06:37:08.417Z"
   },
   {
    "duration": 0,
    "start_time": "2024-07-19T06:37:08.418Z"
   },
   {
    "duration": 0,
    "start_time": "2024-07-19T06:37:08.419Z"
   },
   {
    "duration": 0,
    "start_time": "2024-07-19T06:37:08.420Z"
   },
   {
    "duration": 0,
    "start_time": "2024-07-19T06:37:08.422Z"
   },
   {
    "duration": 0,
    "start_time": "2024-07-19T06:37:08.423Z"
   },
   {
    "duration": 0,
    "start_time": "2024-07-19T06:37:08.424Z"
   },
   {
    "duration": 0,
    "start_time": "2024-07-19T06:37:08.425Z"
   },
   {
    "duration": 0,
    "start_time": "2024-07-19T06:37:08.426Z"
   },
   {
    "duration": 378,
    "start_time": "2024-07-20T04:54:35.200Z"
   },
   {
    "duration": 474,
    "start_time": "2024-07-20T04:54:35.580Z"
   },
   {
    "duration": 13,
    "start_time": "2024-07-20T04:54:36.056Z"
   },
   {
    "duration": 11,
    "start_time": "2024-07-20T04:54:36.071Z"
   },
   {
    "duration": 5,
    "start_time": "2024-07-20T04:54:36.083Z"
   },
   {
    "duration": 29,
    "start_time": "2024-07-20T04:54:36.089Z"
   },
   {
    "duration": 21,
    "start_time": "2024-07-20T04:54:36.120Z"
   },
   {
    "duration": 3,
    "start_time": "2024-07-20T04:54:36.142Z"
   },
   {
    "duration": 3,
    "start_time": "2024-07-20T04:54:36.146Z"
   },
   {
    "duration": 2,
    "start_time": "2024-07-20T04:54:36.152Z"
   },
   {
    "duration": 4,
    "start_time": "2024-07-20T04:54:36.155Z"
   },
   {
    "duration": 6,
    "start_time": "2024-07-20T04:54:36.160Z"
   },
   {
    "duration": 3,
    "start_time": "2024-07-20T04:54:36.167Z"
   },
   {
    "duration": 3,
    "start_time": "2024-07-20T04:54:36.171Z"
   },
   {
    "duration": 10,
    "start_time": "2024-07-20T04:54:36.175Z"
   },
   {
    "duration": 6,
    "start_time": "2024-07-20T04:54:36.187Z"
   },
   {
    "duration": 4,
    "start_time": "2024-07-20T04:54:36.194Z"
   },
   {
    "duration": 7,
    "start_time": "2024-07-20T04:54:36.200Z"
   },
   {
    "duration": 9,
    "start_time": "2024-07-20T04:54:36.208Z"
   },
   {
    "duration": 52,
    "start_time": "2024-07-20T04:54:36.219Z"
   },
   {
    "duration": 0,
    "start_time": "2024-07-20T04:54:36.274Z"
   },
   {
    "duration": 0,
    "start_time": "2024-07-20T04:54:36.275Z"
   },
   {
    "duration": 0,
    "start_time": "2024-07-20T04:54:36.277Z"
   },
   {
    "duration": 0,
    "start_time": "2024-07-20T04:54:36.278Z"
   },
   {
    "duration": 0,
    "start_time": "2024-07-20T04:54:36.280Z"
   },
   {
    "duration": 0,
    "start_time": "2024-07-20T04:54:36.281Z"
   },
   {
    "duration": 0,
    "start_time": "2024-07-20T04:54:36.283Z"
   },
   {
    "duration": 0,
    "start_time": "2024-07-20T04:54:36.283Z"
   },
   {
    "duration": 0,
    "start_time": "2024-07-20T04:54:36.284Z"
   },
   {
    "duration": 0,
    "start_time": "2024-07-20T04:54:36.286Z"
   },
   {
    "duration": 0,
    "start_time": "2024-07-20T04:54:36.288Z"
   },
   {
    "duration": 0,
    "start_time": "2024-07-20T04:54:36.289Z"
   },
   {
    "duration": 0,
    "start_time": "2024-07-20T04:54:36.291Z"
   },
   {
    "duration": 0,
    "start_time": "2024-07-20T04:54:36.292Z"
   },
   {
    "duration": 0,
    "start_time": "2024-07-20T04:54:36.293Z"
   },
   {
    "duration": 0,
    "start_time": "2024-07-20T04:54:36.293Z"
   },
   {
    "duration": 0,
    "start_time": "2024-07-20T04:54:36.294Z"
   },
   {
    "duration": 0,
    "start_time": "2024-07-20T04:54:36.295Z"
   },
   {
    "duration": 37,
    "start_time": "2024-07-20T04:55:00.019Z"
   },
   {
    "duration": 2,
    "start_time": "2024-07-20T04:55:44.694Z"
   },
   {
    "duration": 2,
    "start_time": "2024-07-20T04:57:18.156Z"
   },
   {
    "duration": 3,
    "start_time": "2024-07-20T04:57:42.489Z"
   },
   {
    "duration": 8,
    "start_time": "2024-07-20T04:58:24.159Z"
   },
   {
    "duration": 3,
    "start_time": "2024-07-20T04:58:44.951Z"
   },
   {
    "duration": 19,
    "start_time": "2024-07-20T04:59:08.768Z"
   },
   {
    "duration": 15,
    "start_time": "2024-07-20T05:00:09.483Z"
   },
   {
    "duration": 18,
    "start_time": "2024-07-20T05:00:33.465Z"
   },
   {
    "duration": 64,
    "start_time": "2024-07-20T05:01:01.971Z"
   },
   {
    "duration": 86,
    "start_time": "2024-07-20T05:01:28.468Z"
   },
   {
    "duration": 343,
    "start_time": "2024-07-20T05:01:46.957Z"
   },
   {
    "duration": 160,
    "start_time": "2024-07-20T05:01:47.318Z"
   },
   {
    "duration": 14,
    "start_time": "2024-07-20T05:01:47.479Z"
   },
   {
    "duration": 49,
    "start_time": "2024-07-20T05:01:47.495Z"
   },
   {
    "duration": 2,
    "start_time": "2024-07-20T05:01:47.546Z"
   },
   {
    "duration": 7,
    "start_time": "2024-07-20T05:01:47.549Z"
   },
   {
    "duration": 18,
    "start_time": "2024-07-20T05:01:47.557Z"
   },
   {
    "duration": 22,
    "start_time": "2024-07-20T05:01:47.576Z"
   },
   {
    "duration": 42,
    "start_time": "2024-07-20T05:01:47.599Z"
   },
   {
    "duration": 18,
    "start_time": "2024-07-20T05:01:47.643Z"
   },
   {
    "duration": 18,
    "start_time": "2024-07-20T05:01:47.662Z"
   },
   {
    "duration": 167,
    "start_time": "2024-07-20T05:01:47.681Z"
   },
   {
    "duration": 78,
    "start_time": "2024-07-20T05:01:47.849Z"
   },
   {
    "duration": 3,
    "start_time": "2024-07-20T05:01:47.929Z"
   },
   {
    "duration": 7,
    "start_time": "2024-07-20T05:01:47.933Z"
   },
   {
    "duration": 6,
    "start_time": "2024-07-20T05:01:47.943Z"
   },
   {
    "duration": 19,
    "start_time": "2024-07-20T05:01:47.950Z"
   },
   {
    "duration": 4,
    "start_time": "2024-07-20T05:01:47.970Z"
   },
   {
    "duration": 6,
    "start_time": "2024-07-20T05:01:47.975Z"
   },
   {
    "duration": 64,
    "start_time": "2024-07-20T05:01:47.982Z"
   },
   {
    "duration": 0,
    "start_time": "2024-07-20T05:01:48.048Z"
   },
   {
    "duration": 0,
    "start_time": "2024-07-20T05:01:48.049Z"
   },
   {
    "duration": 0,
    "start_time": "2024-07-20T05:01:48.050Z"
   },
   {
    "duration": 0,
    "start_time": "2024-07-20T05:01:48.052Z"
   },
   {
    "duration": 0,
    "start_time": "2024-07-20T05:01:48.053Z"
   },
   {
    "duration": 0,
    "start_time": "2024-07-20T05:01:48.054Z"
   },
   {
    "duration": 0,
    "start_time": "2024-07-20T05:01:48.055Z"
   },
   {
    "duration": 0,
    "start_time": "2024-07-20T05:01:48.056Z"
   },
   {
    "duration": 0,
    "start_time": "2024-07-20T05:01:48.058Z"
   },
   {
    "duration": 0,
    "start_time": "2024-07-20T05:01:48.058Z"
   },
   {
    "duration": 1,
    "start_time": "2024-07-20T05:01:48.059Z"
   },
   {
    "duration": 0,
    "start_time": "2024-07-20T05:01:48.061Z"
   },
   {
    "duration": 0,
    "start_time": "2024-07-20T05:01:48.062Z"
   },
   {
    "duration": 0,
    "start_time": "2024-07-20T05:01:48.063Z"
   },
   {
    "duration": 0,
    "start_time": "2024-07-20T05:01:48.064Z"
   },
   {
    "duration": 0,
    "start_time": "2024-07-20T05:01:48.065Z"
   },
   {
    "duration": 0,
    "start_time": "2024-07-20T05:01:48.067Z"
   },
   {
    "duration": 0,
    "start_time": "2024-07-20T05:01:48.068Z"
   },
   {
    "duration": 60,
    "start_time": "2024-07-20T05:02:05.217Z"
   },
   {
    "duration": 42,
    "start_time": "2024-07-20T05:08:42.864Z"
   },
   {
    "duration": 34,
    "start_time": "2024-07-20T05:10:11.460Z"
   },
   {
    "duration": 54,
    "start_time": "2024-07-20T05:11:13.666Z"
   },
   {
    "duration": 11,
    "start_time": "2024-07-20T05:14:37.327Z"
   },
   {
    "duration": 4,
    "start_time": "2024-07-20T05:15:21.024Z"
   },
   {
    "duration": 7,
    "start_time": "2024-07-20T05:15:46.481Z"
   },
   {
    "duration": 10,
    "start_time": "2024-07-20T05:16:20.296Z"
   },
   {
    "duration": 34,
    "start_time": "2024-07-20T05:17:40.645Z"
   },
   {
    "duration": 35,
    "start_time": "2024-07-20T05:18:32.914Z"
   },
   {
    "duration": 31,
    "start_time": "2024-07-20T05:18:46.213Z"
   },
   {
    "duration": 6,
    "start_time": "2024-07-20T05:19:20.844Z"
   },
   {
    "duration": 33,
    "start_time": "2024-07-20T05:20:13.243Z"
   },
   {
    "duration": 33,
    "start_time": "2024-07-20T05:20:21.113Z"
   },
   {
    "duration": 40,
    "start_time": "2024-07-20T05:21:11.991Z"
   },
   {
    "duration": 9,
    "start_time": "2024-07-20T05:21:57.434Z"
   },
   {
    "duration": 5,
    "start_time": "2024-07-20T05:22:37.330Z"
   },
   {
    "duration": 39,
    "start_time": "2024-07-20T05:23:56.770Z"
   },
   {
    "duration": 33,
    "start_time": "2024-07-20T05:24:36.711Z"
   },
   {
    "duration": 32,
    "start_time": "2024-07-20T05:25:41.118Z"
   },
   {
    "duration": 33,
    "start_time": "2024-07-20T05:26:23.611Z"
   },
   {
    "duration": 52,
    "start_time": "2024-07-20T05:27:18.127Z"
   },
   {
    "duration": 32,
    "start_time": "2024-07-20T05:27:26.310Z"
   },
   {
    "duration": 2,
    "start_time": "2024-07-20T05:28:41.230Z"
   },
   {
    "duration": 3,
    "start_time": "2024-07-20T05:28:48.212Z"
   },
   {
    "duration": 2,
    "start_time": "2024-07-20T05:28:52.449Z"
   },
   {
    "duration": 27,
    "start_time": "2024-07-20T05:30:18.930Z"
   },
   {
    "duration": 35,
    "start_time": "2024-07-20T05:30:24.475Z"
   },
   {
    "duration": 5,
    "start_time": "2024-07-20T05:31:12.438Z"
   },
   {
    "duration": 23,
    "start_time": "2024-07-20T05:31:48.222Z"
   },
   {
    "duration": 29,
    "start_time": "2024-07-20T05:32:19.904Z"
   },
   {
    "duration": 345,
    "start_time": "2024-07-20T05:33:12.466Z"
   },
   {
    "duration": 150,
    "start_time": "2024-07-20T05:33:12.812Z"
   },
   {
    "duration": 13,
    "start_time": "2024-07-20T05:33:12.963Z"
   },
   {
    "duration": 36,
    "start_time": "2024-07-20T05:33:12.978Z"
   },
   {
    "duration": 3,
    "start_time": "2024-07-20T05:33:13.016Z"
   },
   {
    "duration": 37,
    "start_time": "2024-07-20T05:33:13.020Z"
   },
   {
    "duration": 12,
    "start_time": "2024-07-20T05:33:13.058Z"
   },
   {
    "duration": 12,
    "start_time": "2024-07-20T05:33:13.072Z"
   },
   {
    "duration": 39,
    "start_time": "2024-07-20T05:33:13.085Z"
   },
   {
    "duration": 13,
    "start_time": "2024-07-20T05:33:13.127Z"
   },
   {
    "duration": 25,
    "start_time": "2024-07-20T05:33:13.141Z"
   },
   {
    "duration": 79,
    "start_time": "2024-07-20T05:33:13.167Z"
   },
   {
    "duration": 66,
    "start_time": "2024-07-20T05:33:13.247Z"
   },
   {
    "duration": 51,
    "start_time": "2024-07-20T05:33:13.315Z"
   },
   {
    "duration": 50,
    "start_time": "2024-07-20T05:33:13.367Z"
   },
   {
    "duration": 3,
    "start_time": "2024-07-20T05:33:13.418Z"
   },
   {
    "duration": 5,
    "start_time": "2024-07-20T05:33:13.422Z"
   },
   {
    "duration": 17,
    "start_time": "2024-07-20T05:33:13.428Z"
   },
   {
    "duration": 6,
    "start_time": "2024-07-20T05:33:13.446Z"
   },
   {
    "duration": 79,
    "start_time": "2024-07-20T05:33:13.453Z"
   },
   {
    "duration": 0,
    "start_time": "2024-07-20T05:33:13.534Z"
   },
   {
    "duration": 0,
    "start_time": "2024-07-20T05:33:13.535Z"
   },
   {
    "duration": 0,
    "start_time": "2024-07-20T05:33:13.536Z"
   },
   {
    "duration": 0,
    "start_time": "2024-07-20T05:33:13.537Z"
   },
   {
    "duration": 0,
    "start_time": "2024-07-20T05:33:13.538Z"
   },
   {
    "duration": 0,
    "start_time": "2024-07-20T05:33:13.539Z"
   },
   {
    "duration": 0,
    "start_time": "2024-07-20T05:33:13.540Z"
   },
   {
    "duration": 0,
    "start_time": "2024-07-20T05:33:13.541Z"
   },
   {
    "duration": 0,
    "start_time": "2024-07-20T05:33:13.542Z"
   },
   {
    "duration": 0,
    "start_time": "2024-07-20T05:33:13.544Z"
   },
   {
    "duration": 0,
    "start_time": "2024-07-20T05:33:13.545Z"
   },
   {
    "duration": 0,
    "start_time": "2024-07-20T05:33:13.546Z"
   },
   {
    "duration": 0,
    "start_time": "2024-07-20T05:33:13.547Z"
   },
   {
    "duration": 0,
    "start_time": "2024-07-20T05:33:13.549Z"
   },
   {
    "duration": 0,
    "start_time": "2024-07-20T05:33:13.550Z"
   },
   {
    "duration": 0,
    "start_time": "2024-07-20T05:33:13.551Z"
   },
   {
    "duration": 0,
    "start_time": "2024-07-20T05:33:13.552Z"
   },
   {
    "duration": 0,
    "start_time": "2024-07-20T05:33:13.553Z"
   },
   {
    "duration": 36,
    "start_time": "2024-07-20T05:33:32.663Z"
   },
   {
    "duration": 30,
    "start_time": "2024-07-20T05:34:16.833Z"
   },
   {
    "duration": 34,
    "start_time": "2024-07-20T05:34:37.731Z"
   },
   {
    "duration": 33,
    "start_time": "2024-07-20T05:35:06.047Z"
   },
   {
    "duration": 76,
    "start_time": "2024-07-20T05:37:13.193Z"
   },
   {
    "duration": 8,
    "start_time": "2024-07-20T05:37:36.883Z"
   },
   {
    "duration": 33,
    "start_time": "2024-07-20T05:38:19.947Z"
   },
   {
    "duration": 6,
    "start_time": "2024-07-20T07:20:26.349Z"
   },
   {
    "duration": 15,
    "start_time": "2024-07-20T07:21:06.706Z"
   },
   {
    "duration": 8,
    "start_time": "2024-07-20T07:21:23.592Z"
   },
   {
    "duration": 10,
    "start_time": "2024-07-20T07:21:42.009Z"
   },
   {
    "duration": 25,
    "start_time": "2024-07-20T07:22:19.361Z"
   },
   {
    "duration": 26,
    "start_time": "2024-07-20T07:28:01.075Z"
   },
   {
    "duration": 49,
    "start_time": "2024-07-20T07:28:45.466Z"
   },
   {
    "duration": 10,
    "start_time": "2024-07-20T07:28:55.745Z"
   },
   {
    "duration": 10,
    "start_time": "2024-07-20T07:31:22.363Z"
   },
   {
    "duration": 5,
    "start_time": "2024-07-20T07:41:57.064Z"
   },
   {
    "duration": 16,
    "start_time": "2024-07-20T07:47:17.593Z"
   },
   {
    "duration": 3,
    "start_time": "2024-07-20T07:49:47.322Z"
   },
   {
    "duration": 3,
    "start_time": "2024-07-20T07:49:58.496Z"
   },
   {
    "duration": 23,
    "start_time": "2024-07-20T07:50:57.552Z"
   },
   {
    "duration": 16,
    "start_time": "2024-07-20T07:51:47.609Z"
   },
   {
    "duration": 15,
    "start_time": "2024-07-20T07:52:48.450Z"
   },
   {
    "duration": 3,
    "start_time": "2024-07-20T07:54:11.404Z"
   },
   {
    "duration": 13,
    "start_time": "2024-07-20T07:54:15.941Z"
   },
   {
    "duration": 12,
    "start_time": "2024-07-20T07:54:18.560Z"
   },
   {
    "duration": 12,
    "start_time": "2024-07-20T07:54:50.523Z"
   },
   {
    "duration": 13,
    "start_time": "2024-07-20T07:56:07.612Z"
   },
   {
    "duration": 12,
    "start_time": "2024-07-20T07:56:08.221Z"
   },
   {
    "duration": 11,
    "start_time": "2024-07-20T07:56:08.783Z"
   },
   {
    "duration": 12,
    "start_time": "2024-07-20T07:56:09.543Z"
   },
   {
    "duration": 12,
    "start_time": "2024-07-20T07:56:10.233Z"
   },
   {
    "duration": 12,
    "start_time": "2024-07-20T07:56:10.825Z"
   },
   {
    "duration": 2,
    "start_time": "2024-07-20T08:17:33.002Z"
   },
   {
    "duration": 8,
    "start_time": "2024-07-20T08:19:06.392Z"
   },
   {
    "duration": 5,
    "start_time": "2024-07-20T08:22:13.661Z"
   },
   {
    "duration": 9,
    "start_time": "2024-07-20T08:22:21.140Z"
   },
   {
    "duration": 19,
    "start_time": "2024-07-20T08:22:32.711Z"
   },
   {
    "duration": 8,
    "start_time": "2024-07-20T08:22:41.626Z"
   },
   {
    "duration": 8,
    "start_time": "2024-07-20T08:23:04.549Z"
   },
   {
    "duration": 13,
    "start_time": "2024-07-20T08:26:07.625Z"
   },
   {
    "duration": 11,
    "start_time": "2024-07-20T08:26:10.237Z"
   },
   {
    "duration": 12,
    "start_time": "2024-07-20T08:26:34.648Z"
   },
   {
    "duration": 12,
    "start_time": "2024-07-20T08:26:49.543Z"
   },
   {
    "duration": 8,
    "start_time": "2024-07-20T08:26:59.342Z"
   },
   {
    "duration": 10,
    "start_time": "2024-07-20T08:27:03.059Z"
   },
   {
    "duration": 9,
    "start_time": "2024-07-20T08:27:23.906Z"
   },
   {
    "duration": 12,
    "start_time": "2024-07-20T08:28:04.947Z"
   },
   {
    "duration": 8,
    "start_time": "2024-07-20T08:28:14.971Z"
   },
   {
    "duration": 15,
    "start_time": "2024-07-20T08:44:09.623Z"
   },
   {
    "duration": 80,
    "start_time": "2024-07-20T08:59:28.076Z"
   },
   {
    "duration": 3,
    "start_time": "2024-07-20T09:02:51.802Z"
   },
   {
    "duration": 9,
    "start_time": "2024-07-20T09:41:06.219Z"
   },
   {
    "duration": 85,
    "start_time": "2024-07-20T09:42:54.371Z"
   },
   {
    "duration": 57,
    "start_time": "2024-07-20T09:43:03.672Z"
   },
   {
    "duration": 4,
    "start_time": "2024-07-20T09:43:10.041Z"
   },
   {
    "duration": 18,
    "start_time": "2024-07-20T09:44:11.165Z"
   },
   {
    "duration": 12,
    "start_time": "2024-07-20T09:44:48.279Z"
   },
   {
    "duration": 20,
    "start_time": "2024-07-20T09:45:13.410Z"
   },
   {
    "duration": 13,
    "start_time": "2024-07-20T09:45:53.897Z"
   },
   {
    "duration": 15,
    "start_time": "2024-07-20T09:45:59.709Z"
   },
   {
    "duration": 9,
    "start_time": "2024-07-20T09:46:28.218Z"
   },
   {
    "duration": 6,
    "start_time": "2024-07-20T10:23:32.569Z"
   },
   {
    "duration": 3,
    "start_time": "2024-07-20T10:25:03.907Z"
   },
   {
    "duration": 10,
    "start_time": "2024-07-20T10:26:12.185Z"
   },
   {
    "duration": 8,
    "start_time": "2024-07-20T10:26:39.278Z"
   },
   {
    "duration": 7,
    "start_time": "2024-07-20T10:27:08.180Z"
   },
   {
    "duration": 3,
    "start_time": "2024-07-20T10:27:16.414Z"
   },
   {
    "duration": 4,
    "start_time": "2024-07-20T10:27:31.968Z"
   },
   {
    "duration": 10,
    "start_time": "2024-07-20T10:27:47.196Z"
   },
   {
    "duration": 7,
    "start_time": "2024-07-20T10:28:35.449Z"
   },
   {
    "duration": 11,
    "start_time": "2024-07-20T10:30:39.411Z"
   },
   {
    "duration": 9,
    "start_time": "2024-07-20T10:30:54.331Z"
   },
   {
    "duration": 7,
    "start_time": "2024-07-20T10:31:12.948Z"
   },
   {
    "duration": 5,
    "start_time": "2024-07-20T10:31:44.825Z"
   },
   {
    "duration": 6,
    "start_time": "2024-07-20T10:32:59.413Z"
   },
   {
    "duration": 5,
    "start_time": "2024-07-20T10:33:05.361Z"
   },
   {
    "duration": 4,
    "start_time": "2024-07-20T10:33:36.395Z"
   }
  ],
  "celltoolbar": "Отсутствует",
  "colab": {
   "collapsed_sections": [
    "E0vqbgi9ay0H",
    "VUC88oWjTJw2"
   ],
   "provenance": []
  },
  "kernelspec": {
   "display_name": "Python [conda env:base] *",
   "language": "python",
   "name": "conda-base-py"
  },
  "language_info": {
   "codemirror_mode": {
    "name": "ipython",
    "version": 3
   },
   "file_extension": ".py",
   "mimetype": "text/x-python",
   "name": "python",
   "nbconvert_exporter": "python",
   "pygments_lexer": "ipython3",
   "version": "3.11.7"
  },
  "toc": {
   "base_numbering": 1,
   "nav_menu": {
    "height": "215px",
    "width": "403px"
   },
   "number_sections": true,
   "sideBar": true,
   "skip_h1_title": true,
   "title_cell": "Table of Contents",
   "title_sidebar": "Contents",
   "toc_cell": false,
   "toc_position": {
    "height": "calc(100% - 180px)",
    "left": "10px",
    "top": "150px",
    "width": "285.825px"
   },
   "toc_section_display": true,
   "toc_window_display": false
  }
 },
 "nbformat": 4,
 "nbformat_minor": 4
}
