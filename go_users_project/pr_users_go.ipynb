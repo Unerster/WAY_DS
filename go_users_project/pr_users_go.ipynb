{
 "cells": [
  {
   "cell_type": "markdown",
   "id": "46017641-a893-4970-b247-a43a4be81ce5",
   "metadata": {},
   "source": [
    "# Проект: Статистический анализ данных"
   ]
  },
  {
   "cell_type": "markdown",
   "id": "cb0d4e42-cae4-4302-86f0-fdff9c2f389c",
   "metadata": {},
   "source": [
    "Чтобы совершать поездки по городу, пользователи сервиса GoFast пользуются мобильным приложением. Сервисом можно пользоваться:\n",
    "- без подписки\n",
    "  - абонентская плата отсутствует;\n",
    "  - стоимость одной минуты поездки — 88 рублей;\n",
    "  - стоимость старта (начала поездки) — 5050 рублей;\n",
    "- с подпиской Ultra\n",
    "  - абонентская плата — 199199 рублей в месяц;\n",
    "  - стоимость одной минуты поездки — 66 рублей;\n",
    "  - стоимость старта — бесплатно.\n",
    " \n",
    "В основных данных есть информация о пользователях, их поездках и подписках."
   ]
  },
  {
   "cell_type": "markdown",
   "id": "66f7cfeb-050f-4773-b481-c417abb12086",
   "metadata": {},
   "source": [
    "**Цели проекта:** \n",
    "- Провести анализ о пользователях и их поездках\n",
    "- Выявить какие есть проблемы, решить их и получить достоверные данные\n",
    "- Проверить какие гипотезы помогут бизнесу стать лучше\n",
    "\n",
    "**Задачи исследования:**\n",
    "- Провести предобработку данных\n",
    "- Провести исследовательский анализ данных\n",
    "- Объединить данные\n",
    "- Подсёт выручки\n",
    "- Выполнить статистический анализ данных\n",
    "\n",
    "**План работы:**\n",
    "1) Изучим общую информацию о пользователях и их поездаках методами info(), head(), hist().\n",
    "2) Приведём столбец date к типу даты pandas.\n",
    "3) Создадим новый столбец с номером месяца на основе столбца date.\n",
    "4) Проверим наличие пропущенных значений и дубликатов в датафреймах. Обработаим их, если такие значения присутствуют.\n",
    "5) Опишим и визуализируем общую информацию о пользователях и поездках:\n",
    "    - частота встречаемости городов;\n",
    "    - соотношение пользователей с подпиской и без подписки;\n",
    "    - возраст пользователей;\n",
    "    - расстояние, которое пользователь преодолел за одну поездку;\n",
    "    - продолжительность поездок.\n",
    "6) Объединим данные о пользователях, поездках и подписках в один датафрейм. Для этого воспользуемся методом merge().\n",
    "7) Создадим ещё два датафрейма:\n",
    "   - c данными о пользователях без подписки;\n",
    "   - с данными о пользователях с подпиской.\n",
    "8) Визуализируем информацию о расстоянии и времени поездок для пользователей обеих категорий.\n",
    "9) Создадим датафрейм с агрегированными данными о поездках :\n",
    "    - найдём суммарное расстояние, количество поездок и суммарное время для каждого пользователя за каждый месяц?\n",
    "10) Проверим гипотезы:\n",
    "    - Тратят ли пользователи с подпиской больше времени на поездки? Если да, то пользователи с подпиской могут быть «выгоднее» для компании.\n",
    "    - Расстояние одной поездки в 3130 метров — оптимальное с точки зрения износа самоката. Можно ли сказать, что среднее расстояние, которое проезжают пользователи с подпиской за одну поездку, не превышает 3130 метров?\n",
    "    - Будет ли помесячная выручка от пользователей с подпиской по месяцам выше, чем выручка от пользователей без подписки.\n",
    "    - Представим такую ситуацию: техническая команда сервиса обновила сервера, с которыми взаимодействует мобильное приложение. Она надеется, что из-за этого количество обращений в техподдержку значимо снизилось. Некоторый файл содержит для каждого пользователя данные о количестве обращений до обновления и после него. Какой тест нам понадобился бы для проверки этой гипотезы?\n",
    "11) Подвёдем итоги проекта\n"
   ]
  },
  {
   "cell_type": "code",
   "execution_count": 100,
   "id": "bec1f363-86e7-49a6-bcdf-69ab702ed7c9",
   "metadata": {},
   "outputs": [],
   "source": [
    "#Подключаем нужные библиотеки\n",
    "import pandas as pd\n",
    "import matplotlib.pyplot as plt\n",
    "import seaborn as sns\n",
    "from scipy import stats as st\n",
    "import numpy as np\n",
    "from scipy.stats import binom, norm\n",
    "from math import sqrt"
   ]
  },
  {
   "cell_type": "markdown",
   "id": "240c8180-d029-404f-a53a-847abe8ca7f9",
   "metadata": {},
   "source": [
    "## 1 Загрузка данных"
   ]
  },
  {
   "cell_type": "code",
   "execution_count": 48,
   "id": "ccfa7bb1-359c-4d54-aced-967d26e833d0",
   "metadata": {},
   "outputs": [],
   "source": [
    "try:\n",
    "    data_users_go = pd.read_csv('users_go.csv')\n",
    "    data_rides_go = pd.read_csv('rides_go.csv', parse_dates=['date'])\n",
    "    data_subscriptions_go = pd.read_csv('subscriptions_go.csv')\n",
    "except:\n",
    "    data_users_go = pd.read_csv('/datasets/users_go.csv')\n",
    "    data_rides_go = pd.read_csv('/datasets/rides_go.csv', parse_dates=['date'])\n",
    "    data_subscriptions_go = pd.read_csv('/datasets/subscriptions_go.csv')"
   ]
  },
  {
   "cell_type": "code",
   "execution_count": 50,
   "id": "e97ca196-2709-46fe-a0ef-92dc51f2796b",
   "metadata": {},
   "outputs": [
    {
     "data": {
      "text/html": [
       "<div>\n",
       "<style scoped>\n",
       "    .dataframe tbody tr th:only-of-type {\n",
       "        vertical-align: middle;\n",
       "    }\n",
       "\n",
       "    .dataframe tbody tr th {\n",
       "        vertical-align: top;\n",
       "    }\n",
       "\n",
       "    .dataframe thead th {\n",
       "        text-align: right;\n",
       "    }\n",
       "</style>\n",
       "<table border=\"1\" class=\"dataframe\">\n",
       "  <thead>\n",
       "    <tr style=\"text-align: right;\">\n",
       "      <th></th>\n",
       "      <th>user_id</th>\n",
       "      <th>name</th>\n",
       "      <th>age</th>\n",
       "      <th>city</th>\n",
       "      <th>subscription_type</th>\n",
       "    </tr>\n",
       "  </thead>\n",
       "  <tbody>\n",
       "    <tr>\n",
       "      <th>0</th>\n",
       "      <td>1</td>\n",
       "      <td>Кира</td>\n",
       "      <td>22</td>\n",
       "      <td>Тюмень</td>\n",
       "      <td>ultra</td>\n",
       "    </tr>\n",
       "    <tr>\n",
       "      <th>1</th>\n",
       "      <td>2</td>\n",
       "      <td>Станислав</td>\n",
       "      <td>31</td>\n",
       "      <td>Омск</td>\n",
       "      <td>ultra</td>\n",
       "    </tr>\n",
       "    <tr>\n",
       "      <th>2</th>\n",
       "      <td>3</td>\n",
       "      <td>Алексей</td>\n",
       "      <td>20</td>\n",
       "      <td>Москва</td>\n",
       "      <td>ultra</td>\n",
       "    </tr>\n",
       "    <tr>\n",
       "      <th>3</th>\n",
       "      <td>4</td>\n",
       "      <td>Константин</td>\n",
       "      <td>26</td>\n",
       "      <td>Ростов-на-Дону</td>\n",
       "      <td>ultra</td>\n",
       "    </tr>\n",
       "    <tr>\n",
       "      <th>4</th>\n",
       "      <td>5</td>\n",
       "      <td>Адель</td>\n",
       "      <td>28</td>\n",
       "      <td>Омск</td>\n",
       "      <td>ultra</td>\n",
       "    </tr>\n",
       "  </tbody>\n",
       "</table>\n",
       "</div>"
      ],
      "text/plain": [
       "   user_id        name  age            city subscription_type\n",
       "0        1        Кира   22          Тюмень             ultra\n",
       "1        2   Станислав   31            Омск             ultra\n",
       "2        3     Алексей   20          Москва             ultra\n",
       "3        4  Константин   26  Ростов-на-Дону             ultra\n",
       "4        5       Адель   28            Омск             ultra"
      ]
     },
     "metadata": {},
     "output_type": "display_data"
    },
    {
     "name": "stdout",
     "output_type": "stream",
     "text": [
      "<class 'pandas.core.frame.DataFrame'>\n",
      "RangeIndex: 1565 entries, 0 to 1564\n",
      "Data columns (total 5 columns):\n",
      " #   Column             Non-Null Count  Dtype \n",
      "---  ------             --------------  ----- \n",
      " 0   user_id            1565 non-null   int64 \n",
      " 1   name               1565 non-null   object\n",
      " 2   age                1565 non-null   int64 \n",
      " 3   city               1565 non-null   object\n",
      " 4   subscription_type  1565 non-null   object\n",
      "dtypes: int64(2), object(3)\n",
      "memory usage: 61.3+ KB\n"
     ]
    },
    {
     "data": {
      "text/plain": [
       "None"
      ]
     },
     "metadata": {},
     "output_type": "display_data"
    }
   ],
   "source": [
    "#Посмотрим общую информацию данных методами head() и info()\n",
    "display(data_users_go.head())\n",
    "display(data_users_go.info())"
   ]
  },
  {
   "cell_type": "code",
   "execution_count": 52,
   "id": "4e503896-a2ad-4db7-938b-71511d1d751b",
   "metadata": {},
   "outputs": [
    {
     "data": {
      "text/html": [
       "<div>\n",
       "<style scoped>\n",
       "    .dataframe tbody tr th:only-of-type {\n",
       "        vertical-align: middle;\n",
       "    }\n",
       "\n",
       "    .dataframe tbody tr th {\n",
       "        vertical-align: top;\n",
       "    }\n",
       "\n",
       "    .dataframe thead th {\n",
       "        text-align: right;\n",
       "    }\n",
       "</style>\n",
       "<table border=\"1\" class=\"dataframe\">\n",
       "  <thead>\n",
       "    <tr style=\"text-align: right;\">\n",
       "      <th></th>\n",
       "      <th>user_id</th>\n",
       "      <th>distance</th>\n",
       "      <th>duration</th>\n",
       "      <th>date</th>\n",
       "    </tr>\n",
       "  </thead>\n",
       "  <tbody>\n",
       "    <tr>\n",
       "      <th>0</th>\n",
       "      <td>1</td>\n",
       "      <td>4409.919140</td>\n",
       "      <td>25.599769</td>\n",
       "      <td>2021-01-01</td>\n",
       "    </tr>\n",
       "    <tr>\n",
       "      <th>1</th>\n",
       "      <td>1</td>\n",
       "      <td>2617.592153</td>\n",
       "      <td>15.816871</td>\n",
       "      <td>2021-01-18</td>\n",
       "    </tr>\n",
       "    <tr>\n",
       "      <th>2</th>\n",
       "      <td>1</td>\n",
       "      <td>754.159807</td>\n",
       "      <td>6.232113</td>\n",
       "      <td>2021-04-20</td>\n",
       "    </tr>\n",
       "    <tr>\n",
       "      <th>3</th>\n",
       "      <td>1</td>\n",
       "      <td>2694.783254</td>\n",
       "      <td>18.511000</td>\n",
       "      <td>2021-08-11</td>\n",
       "    </tr>\n",
       "    <tr>\n",
       "      <th>4</th>\n",
       "      <td>1</td>\n",
       "      <td>4028.687306</td>\n",
       "      <td>26.265803</td>\n",
       "      <td>2021-08-28</td>\n",
       "    </tr>\n",
       "  </tbody>\n",
       "</table>\n",
       "</div>"
      ],
      "text/plain": [
       "   user_id     distance   duration       date\n",
       "0        1  4409.919140  25.599769 2021-01-01\n",
       "1        1  2617.592153  15.816871 2021-01-18\n",
       "2        1   754.159807   6.232113 2021-04-20\n",
       "3        1  2694.783254  18.511000 2021-08-11\n",
       "4        1  4028.687306  26.265803 2021-08-28"
      ]
     },
     "metadata": {},
     "output_type": "display_data"
    },
    {
     "name": "stdout",
     "output_type": "stream",
     "text": [
      "<class 'pandas.core.frame.DataFrame'>\n",
      "RangeIndex: 18068 entries, 0 to 18067\n",
      "Data columns (total 4 columns):\n",
      " #   Column    Non-Null Count  Dtype         \n",
      "---  ------    --------------  -----         \n",
      " 0   user_id   18068 non-null  int64         \n",
      " 1   distance  18068 non-null  float64       \n",
      " 2   duration  18068 non-null  float64       \n",
      " 3   date      18068 non-null  datetime64[ns]\n",
      "dtypes: datetime64[ns](1), float64(2), int64(1)\n",
      "memory usage: 564.8 KB\n"
     ]
    },
    {
     "data": {
      "text/plain": [
       "None"
      ]
     },
     "metadata": {},
     "output_type": "display_data"
    }
   ],
   "source": [
    "display(data_rides_go.head())\n",
    "display(data_rides_go.info())"
   ]
  },
  {
   "cell_type": "code",
   "execution_count": 54,
   "id": "5e468c90-c161-40ec-9470-6652fc57011e",
   "metadata": {},
   "outputs": [
    {
     "data": {
      "text/html": [
       "<div>\n",
       "<style scoped>\n",
       "    .dataframe tbody tr th:only-of-type {\n",
       "        vertical-align: middle;\n",
       "    }\n",
       "\n",
       "    .dataframe tbody tr th {\n",
       "        vertical-align: top;\n",
       "    }\n",
       "\n",
       "    .dataframe thead th {\n",
       "        text-align: right;\n",
       "    }\n",
       "</style>\n",
       "<table border=\"1\" class=\"dataframe\">\n",
       "  <thead>\n",
       "    <tr style=\"text-align: right;\">\n",
       "      <th></th>\n",
       "      <th>subscription_type</th>\n",
       "      <th>minute_price</th>\n",
       "      <th>start_ride_price</th>\n",
       "      <th>subscription_fee</th>\n",
       "    </tr>\n",
       "  </thead>\n",
       "  <tbody>\n",
       "    <tr>\n",
       "      <th>0</th>\n",
       "      <td>free</td>\n",
       "      <td>8</td>\n",
       "      <td>50</td>\n",
       "      <td>0</td>\n",
       "    </tr>\n",
       "    <tr>\n",
       "      <th>1</th>\n",
       "      <td>ultra</td>\n",
       "      <td>6</td>\n",
       "      <td>0</td>\n",
       "      <td>199</td>\n",
       "    </tr>\n",
       "  </tbody>\n",
       "</table>\n",
       "</div>"
      ],
      "text/plain": [
       "  subscription_type  minute_price  start_ride_price  subscription_fee\n",
       "0              free             8                50                 0\n",
       "1             ultra             6                 0               199"
      ]
     },
     "metadata": {},
     "output_type": "display_data"
    },
    {
     "name": "stdout",
     "output_type": "stream",
     "text": [
      "<class 'pandas.core.frame.DataFrame'>\n",
      "RangeIndex: 2 entries, 0 to 1\n",
      "Data columns (total 4 columns):\n",
      " #   Column             Non-Null Count  Dtype \n",
      "---  ------             --------------  ----- \n",
      " 0   subscription_type  2 non-null      object\n",
      " 1   minute_price       2 non-null      int64 \n",
      " 2   start_ride_price   2 non-null      int64 \n",
      " 3   subscription_fee   2 non-null      int64 \n",
      "dtypes: int64(3), object(1)\n",
      "memory usage: 196.0+ bytes\n"
     ]
    },
    {
     "data": {
      "text/plain": [
       "None"
      ]
     },
     "metadata": {},
     "output_type": "display_data"
    }
   ],
   "source": [
    "display(data_subscriptions_go.head())\n",
    "display(data_subscriptions_go.info())"
   ]
  },
  {
   "cell_type": "code",
   "execution_count": 56,
   "id": "64c91ea3-25d4-42ed-97d5-7ba7a0a73dbf",
   "metadata": {},
   "outputs": [
    {
     "data": {
      "image/png": "[encoded data removed]",
      "text/plain": [
       "<Figure size 640x480 with 1 Axes>"
      ]
     },
     "metadata": {},
     "output_type": "display_data"
    }
   ],
   "source": [
    "data_users_go['age'].hist()\n",
    "plt.title('Распределение возраста')\n",
    "plt.ylabel('Частота')\n",
    "plt.xlabel('age')\n",
    "plt.show()"
   ]
  },
  {
   "cell_type": "code",
   "execution_count": 58,
   "id": "6d93db39-bfe8-44bb-b44f-972ce77bc972",
   "metadata": {},
   "outputs": [
    {
     "data": {
      "text/html": [
       "<div>\n",
       "<style scoped>\n",
       "    .dataframe tbody tr th:only-of-type {\n",
       "        vertical-align: middle;\n",
       "    }\n",
       "\n",
       "    .dataframe tbody tr th {\n",
       "        vertical-align: top;\n",
       "    }\n",
       "\n",
       "    .dataframe thead th {\n",
       "        text-align: right;\n",
       "    }\n",
       "</style>\n",
       "<table border=\"1\" class=\"dataframe\">\n",
       "  <thead>\n",
       "    <tr style=\"text-align: right;\">\n",
       "      <th></th>\n",
       "      <th>age</th>\n",
       "    </tr>\n",
       "  </thead>\n",
       "  <tbody>\n",
       "    <tr>\n",
       "      <th>count</th>\n",
       "      <td>1565.000000</td>\n",
       "    </tr>\n",
       "    <tr>\n",
       "      <th>mean</th>\n",
       "      <td>24.922045</td>\n",
       "    </tr>\n",
       "    <tr>\n",
       "      <th>std</th>\n",
       "      <td>4.553496</td>\n",
       "    </tr>\n",
       "    <tr>\n",
       "      <th>min</th>\n",
       "      <td>12.000000</td>\n",
       "    </tr>\n",
       "    <tr>\n",
       "      <th>25%</th>\n",
       "      <td>22.000000</td>\n",
       "    </tr>\n",
       "    <tr>\n",
       "      <th>50%</th>\n",
       "      <td>25.000000</td>\n",
       "    </tr>\n",
       "    <tr>\n",
       "      <th>75%</th>\n",
       "      <td>28.000000</td>\n",
       "    </tr>\n",
       "    <tr>\n",
       "      <th>max</th>\n",
       "      <td>43.000000</td>\n",
       "    </tr>\n",
       "  </tbody>\n",
       "</table>\n",
       "</div>"
      ],
      "text/plain": [
       "               age\n",
       "count  1565.000000\n",
       "mean     24.922045\n",
       "std       4.553496\n",
       "min      12.000000\n",
       "25%      22.000000\n",
       "50%      25.000000\n",
       "75%      28.000000\n",
       "max      43.000000"
      ]
     },
     "execution_count": 58,
     "metadata": {},
     "output_type": "execute_result"
    }
   ],
   "source": [
    "data_users_go[['age']].describe()"
   ]
  },
  {
   "cell_type": "code",
   "execution_count": 60,
   "id": "a0941372-7d75-4d43-8296-3eceaa6a29dc",
   "metadata": {
    "scrolled": true
   },
   "outputs": [
    {
     "data": {
      "image/png": "[encoded data removed]",
      "text/plain": [
       "<Figure size 1000x500 with 2 Axes>"
      ]
     },
     "metadata": {},
     "output_type": "display_data"
    }
   ],
   "source": [
    "# гистограммы для всех числовых столбцов\n",
    "fig = plt.figure(figsize=(10,5))\n",
    "fig.suptitle('Распределение дистанции и продолжительности')\n",
    "num_columns = data_rides_go.drop(columns = ['user_id', 'date']).columns\n",
    "\n",
    "for i in range(len(num_columns)):\n",
    "    fig.add_subplot(1, 2, i+1)\n",
    "    plt.hist(data_rides_go[num_columns[i]], bins = 20)\n",
    "    plt.ylabel('Частота')\n",
    "    plt.xlabel(f\"{num_columns[i]}\")\n",
    "    plt.tight_layout(pad = 2)"
   ]
  },
  {
   "cell_type": "code",
   "execution_count": 61,
   "id": "1382c211-a667-4364-b307-c2c15cf32562",
   "metadata": {},
   "outputs": [
    {
     "data": {
      "text/html": [
       "<div>\n",
       "<style scoped>\n",
       "    .dataframe tbody tr th:only-of-type {\n",
       "        vertical-align: middle;\n",
       "    }\n",
       "\n",
       "    .dataframe tbody tr th {\n",
       "        vertical-align: top;\n",
       "    }\n",
       "\n",
       "    .dataframe thead th {\n",
       "        text-align: right;\n",
       "    }\n",
       "</style>\n",
       "<table border=\"1\" class=\"dataframe\">\n",
       "  <thead>\n",
       "    <tr style=\"text-align: right;\">\n",
       "      <th></th>\n",
       "      <th>distance</th>\n",
       "      <th>duration</th>\n",
       "    </tr>\n",
       "  </thead>\n",
       "  <tbody>\n",
       "    <tr>\n",
       "      <th>count</th>\n",
       "      <td>18068.000000</td>\n",
       "      <td>18068.000000</td>\n",
       "    </tr>\n",
       "    <tr>\n",
       "      <th>mean</th>\n",
       "      <td>3070.659976</td>\n",
       "      <td>17.805011</td>\n",
       "    </tr>\n",
       "    <tr>\n",
       "      <th>std</th>\n",
       "      <td>1116.831209</td>\n",
       "      <td>6.091051</td>\n",
       "    </tr>\n",
       "    <tr>\n",
       "      <th>min</th>\n",
       "      <td>0.855683</td>\n",
       "      <td>0.500000</td>\n",
       "    </tr>\n",
       "    <tr>\n",
       "      <th>25%</th>\n",
       "      <td>2543.226360</td>\n",
       "      <td>13.597563</td>\n",
       "    </tr>\n",
       "    <tr>\n",
       "      <th>50%</th>\n",
       "      <td>3133.609994</td>\n",
       "      <td>17.678395</td>\n",
       "    </tr>\n",
       "    <tr>\n",
       "      <th>75%</th>\n",
       "      <td>3776.222735</td>\n",
       "      <td>21.724800</td>\n",
       "    </tr>\n",
       "    <tr>\n",
       "      <th>max</th>\n",
       "      <td>7211.007745</td>\n",
       "      <td>40.823963</td>\n",
       "    </tr>\n",
       "  </tbody>\n",
       "</table>\n",
       "</div>"
      ],
      "text/plain": [
       "           distance      duration\n",
       "count  18068.000000  18068.000000\n",
       "mean    3070.659976     17.805011\n",
       "std     1116.831209      6.091051\n",
       "min        0.855683      0.500000\n",
       "25%     2543.226360     13.597563\n",
       "50%     3133.609994     17.678395\n",
       "75%     3776.222735     21.724800\n",
       "max     7211.007745     40.823963"
      ]
     },
     "execution_count": 61,
     "metadata": {},
     "output_type": "execute_result"
    }
   ],
   "source": [
    "data_rides_go[['distance', 'duration']].describe()"
   ]
  },
  {
   "cell_type": "markdown",
   "id": "cfccb1c2-8eed-4084-b231-e9243d7e4e31",
   "metadata": {},
   "source": [
    "В данных не замечена аномальных значений, пропусков не обнаружено, названия столбцов выглядят корректно, тип данных в порядке."
   ]
  },
  {
   "cell_type": "markdown",
   "id": "81a6fd0f-2f9d-4cff-ba30-18f409232caf",
   "metadata": {},
   "source": [
    "## 2  Предобработка данных"
   ]
  },
  {
   "cell_type": "code",
   "execution_count": 65,
   "id": "03e95a79-aaa0-4f3f-a644-7d11a52f542b",
   "metadata": {},
   "outputs": [],
   "source": [
    "#Добавим новый столбец 'month' для отображения какой месяц\n",
    "data_rides_go['month'] = pd.DatetimeIndex(data_rides_go['date']).month"
   ]
  },
  {
   "cell_type": "code",
   "execution_count": 67,
   "id": "4da66b82-c4e3-4b74-ab77-cba7a33bdc49",
   "metadata": {},
   "outputs": [
    {
     "data": {
      "text/html": [
       "<div>\n",
       "<style scoped>\n",
       "    .dataframe tbody tr th:only-of-type {\n",
       "        vertical-align: middle;\n",
       "    }\n",
       "\n",
       "    .dataframe tbody tr th {\n",
       "        vertical-align: top;\n",
       "    }\n",
       "\n",
       "    .dataframe thead th {\n",
       "        text-align: right;\n",
       "    }\n",
       "</style>\n",
       "<table border=\"1\" class=\"dataframe\">\n",
       "  <thead>\n",
       "    <tr style=\"text-align: right;\">\n",
       "      <th></th>\n",
       "      <th>user_id</th>\n",
       "      <th>distance</th>\n",
       "      <th>duration</th>\n",
       "      <th>date</th>\n",
       "      <th>month</th>\n",
       "    </tr>\n",
       "  </thead>\n",
       "  <tbody>\n",
       "    <tr>\n",
       "      <th>0</th>\n",
       "      <td>1</td>\n",
       "      <td>4409.919140</td>\n",
       "      <td>25.599769</td>\n",
       "      <td>2021-01-01</td>\n",
       "      <td>1</td>\n",
       "    </tr>\n",
       "    <tr>\n",
       "      <th>1</th>\n",
       "      <td>1</td>\n",
       "      <td>2617.592153</td>\n",
       "      <td>15.816871</td>\n",
       "      <td>2021-01-18</td>\n",
       "      <td>1</td>\n",
       "    </tr>\n",
       "    <tr>\n",
       "      <th>2</th>\n",
       "      <td>1</td>\n",
       "      <td>754.159807</td>\n",
       "      <td>6.232113</td>\n",
       "      <td>2021-04-20</td>\n",
       "      <td>4</td>\n",
       "    </tr>\n",
       "    <tr>\n",
       "      <th>3</th>\n",
       "      <td>1</td>\n",
       "      <td>2694.783254</td>\n",
       "      <td>18.511000</td>\n",
       "      <td>2021-08-11</td>\n",
       "      <td>8</td>\n",
       "    </tr>\n",
       "    <tr>\n",
       "      <th>4</th>\n",
       "      <td>1</td>\n",
       "      <td>4028.687306</td>\n",
       "      <td>26.265803</td>\n",
       "      <td>2021-08-28</td>\n",
       "      <td>8</td>\n",
       "    </tr>\n",
       "  </tbody>\n",
       "</table>\n",
       "</div>"
      ],
      "text/plain": [
       "   user_id     distance   duration       date  month\n",
       "0        1  4409.919140  25.599769 2021-01-01      1\n",
       "1        1  2617.592153  15.816871 2021-01-18      1\n",
       "2        1   754.159807   6.232113 2021-04-20      4\n",
       "3        1  2694.783254  18.511000 2021-08-11      8\n",
       "4        1  4028.687306  26.265803 2021-08-28      8"
      ]
     },
     "execution_count": 67,
     "metadata": {},
     "output_type": "execute_result"
    }
   ],
   "source": [
    "data_rides_go.head()"
   ]
  },
  {
   "cell_type": "code",
   "execution_count": 69,
   "id": "20cd0f85-b46b-486f-bdcf-40f6525ec5fc",
   "metadata": {},
   "outputs": [
    {
     "data": {
      "text/plain": [
       "user_id              0\n",
       "name                 0\n",
       "age                  0\n",
       "city                 0\n",
       "subscription_type    0\n",
       "dtype: int64"
      ]
     },
     "execution_count": 69,
     "metadata": {},
     "output_type": "execute_result"
    }
   ],
   "source": [
    "#Определим кол-во пропусков методами isna() и sum()\n",
    "data_users_go.isna().sum()"
   ]
  },
  {
   "cell_type": "code",
   "execution_count": 71,
   "id": "624c69f5-2b53-46e5-a433-c0ef5b82864c",
   "metadata": {},
   "outputs": [
    {
     "data": {
      "text/plain": [
       "user_id     0\n",
       "distance    0\n",
       "duration    0\n",
       "date        0\n",
       "month       0\n",
       "dtype: int64"
      ]
     },
     "execution_count": 71,
     "metadata": {},
     "output_type": "execute_result"
    }
   ],
   "source": [
    "data_rides_go.isna().sum()"
   ]
  },
  {
   "cell_type": "code",
   "execution_count": 73,
   "id": "f7c8185c-6c71-4ab0-8d84-d94c1a2285b1",
   "metadata": {},
   "outputs": [
    {
     "data": {
      "text/plain": [
       "subscription_type    0\n",
       "minute_price         0\n",
       "start_ride_price     0\n",
       "subscription_fee     0\n",
       "dtype: int64"
      ]
     },
     "execution_count": 73,
     "metadata": {},
     "output_type": "execute_result"
    }
   ],
   "source": [
    "data_subscriptions_go.isna().sum()"
   ]
  },
  {
   "cell_type": "markdown",
   "id": "f93969f2-2d4f-4a35-9e1b-838d117c520a",
   "metadata": {},
   "source": [
    "Пропуски не обнаружены."
   ]
  },
  {
   "cell_type": "code",
   "execution_count": 76,
   "id": "ba0b8982-f989-4c04-864e-f4bd2fb33ecf",
   "metadata": {},
   "outputs": [
    {
     "data": {
      "text/plain": [
       "31"
      ]
     },
     "execution_count": 76,
     "metadata": {},
     "output_type": "execute_result"
    }
   ],
   "source": [
    "#Определим кол-во дубликатов методами duplicated() и sum()\n",
    "data_users_go.duplicated().sum()"
   ]
  },
  {
   "cell_type": "code",
   "execution_count": 78,
   "id": "4ce07552-bff3-49c4-bd73-75d9023ceb26",
   "metadata": {},
   "outputs": [
    {
     "data": {
      "text/plain": [
       "0"
      ]
     },
     "execution_count": 78,
     "metadata": {},
     "output_type": "execute_result"
    }
   ],
   "source": [
    "data_rides_go.duplicated().sum()"
   ]
  },
  {
   "cell_type": "code",
   "execution_count": 80,
   "id": "4c995e94-7b2f-42ab-b265-d99d388a5afa",
   "metadata": {},
   "outputs": [
    {
     "data": {
      "text/plain": [
       "0"
      ]
     },
     "execution_count": 80,
     "metadata": {},
     "output_type": "execute_result"
    }
   ],
   "source": [
    "data_subscriptions_go.duplicated().sum()"
   ]
  },
  {
   "cell_type": "markdown",
   "id": "8a6d3805-0f4d-476c-acf4-b134fbdb9a57",
   "metadata": {},
   "source": [
    "Есть 31 дубликат, их достачно мало, можно просто удалить."
   ]
  },
  {
   "cell_type": "code",
   "execution_count": 83,
   "id": "1b36dfbf-d02e-46c2-ace9-c933d569f94a",
   "metadata": {},
   "outputs": [],
   "source": [
    "#Удалим дубликаты методом drop_duplicates(), нумирацию индексов восстановим методом reset_index(drop = True)\n",
    "data_users_go = data_users_go.drop_duplicates().reset_index(drop = True)"
   ]
  },
  {
   "cell_type": "code",
   "execution_count": 85,
   "id": "a44bc6e2-e118-4128-ac42-2829839b42ae",
   "metadata": {},
   "outputs": [
    {
     "data": {
      "text/plain": [
       "0"
      ]
     },
     "execution_count": 85,
     "metadata": {},
     "output_type": "execute_result"
    }
   ],
   "source": [
    "data_users_go.duplicated().sum()"
   ]
  },
  {
   "cell_type": "markdown",
   "id": "a9fc6bb7-5882-46b6-b92d-54a0ecf2db9b",
   "metadata": {},
   "source": [
    "Явные дубликаты удалены. Проверим неявные дубликаты."
   ]
  },
  {
   "cell_type": "code",
   "execution_count": 19,
   "id": "b4e02059-4897-48ac-ad38-d29247383c68",
   "metadata": {},
   "outputs": [
    {
     "data": {
      "text/plain": [
       "array(['Агата', 'Аделина', 'Адель', 'Айдар', 'Александр', 'Александра',\n",
       "       'Алексей', 'Алина', 'Алиса', 'Алия', 'Алла', 'Альберт', 'Альбина',\n",
       "       'Алёна', 'Амалия', 'Амина', 'Амир', 'Анастасия', 'Анатолий',\n",
       "       'Ангелина', 'Андрей', 'Анжелика', 'Анна', 'Антон', 'Антонина',\n",
       "       'Ариана', 'Арина', 'Арсен', 'Арсений', 'Артемий', 'Артур', 'Артём',\n",
       "       'Богдан', 'Борис', 'Вадим', 'Валентина', 'Валерий', 'Валерия',\n",
       "       'Варвара', 'Василий', 'Василина', 'Василиса', 'Вера', 'Вероника',\n",
       "       'Виктор', 'Виктория', 'Виолетта', 'Виталий', 'Виталина', 'Влад',\n",
       "       'Влада', 'Владимир', 'Владислав', 'Владислава', 'Всеволод',\n",
       "       'Вячеслав', 'Галина', 'Георгий', 'Герман', 'Глеб', 'Гордей',\n",
       "       'Григорий', 'Давид', 'Дамир', 'Даниил', 'Данил', 'Данила',\n",
       "       'Даниэль', 'Дарина', 'Дарья', 'Демид', 'Денис', 'Диана', 'Дмитрий',\n",
       "       'Ева', 'Евгений', 'Евгения', 'Егор', 'Екатерина', 'Елена',\n",
       "       'Елизавета', 'Елисей', 'Есения', 'Жанна', 'Зарина', 'Захар',\n",
       "       'Злата', 'Иван', 'Игнат', 'Игорь', 'Ильдар', 'Илья', 'Инна',\n",
       "       'Ирина', 'Камилла', 'Карина', 'Каролина', 'Кира', 'Кирилл',\n",
       "       'Константин', 'Кристина', 'Ксения', 'Лариса', 'Лев', 'Леонид',\n",
       "       'Лиана', 'Лидия', 'Лилия', 'Любовь', 'Людмила', 'Мадина', 'Майя',\n",
       "       'Макар', 'Максим', 'Марат', 'Маргарита', 'Марина', 'Мария', 'Марк',\n",
       "       'Марсель', 'Матвей', 'Мелания', 'Милана', 'Милена', 'Мирон',\n",
       "       'Мирослав', 'Мирослава', 'Михаил', 'Назар', 'Наталия', 'Наталья',\n",
       "       'Наташа', 'Нелли', 'Ника', 'Никита', 'Николай', 'Нина', 'Одиссей',\n",
       "       'Оксана', 'Олег', 'Олеся', 'Ольга', 'Павел', 'Петр', 'Платон',\n",
       "       'Полина', 'Радмир', 'Рамиль', 'Регина', 'Роберт', 'Родион',\n",
       "       'Роман', 'Ростислав', 'Руслан', 'Рустам', 'Савелий', 'Самир',\n",
       "       'Самира', 'Светлана', 'Святогор', 'Святослав', 'Семен', 'Сергей',\n",
       "       'Снежана', 'София', 'Софья', 'Станислав', 'Степан', 'Стефания',\n",
       "       'Таисия', 'Тамара', 'Тамерлан', 'Татьяна', 'Тимофей', 'Тимур',\n",
       "       'Тихон', 'Ульяна', 'Федор', 'Эвелина', 'Эдуард', 'Элина',\n",
       "       'Эльвира', 'Эльмира', 'Эмилия', 'Эмиль', 'Юлиана', 'Юлия', 'Юрий',\n",
       "       'Ян', 'Яна', 'Яромир', 'Ярослав', 'Ярослава', 'Ясмина'],\n",
       "      dtype=object)"
      ]
     },
     "execution_count": 19,
     "metadata": {},
     "output_type": "execute_result"
    }
   ],
   "source": [
    "#Методом unique() найдем уникальные значения\n",
    "data_users_go['name'].sort_values().unique()"
   ]
  },
  {
   "cell_type": "code",
   "execution_count": 20,
   "id": "b225d372-06b6-4e8e-add5-e91b43eaea58",
   "metadata": {},
   "outputs": [
    {
     "data": {
      "text/plain": [
       "array(['Екатеринбург', 'Краснодар', 'Москва', 'Омск', 'Пятигорск',\n",
       "       'Ростов-на-Дону', 'Сочи', 'Тюмень'], dtype=object)"
      ]
     },
     "execution_count": 20,
     "metadata": {},
     "output_type": "execute_result"
    }
   ],
   "source": [
    "data_users_go['city'].sort_values().unique()"
   ]
  },
  {
   "cell_type": "code",
   "execution_count": 21,
   "id": "64aea001-e78a-4cd3-8cd5-0d80340921e7",
   "metadata": {},
   "outputs": [
    {
     "data": {
      "text/plain": [
       "array(['free', 'ultra'], dtype=object)"
      ]
     },
     "execution_count": 21,
     "metadata": {},
     "output_type": "execute_result"
    }
   ],
   "source": [
    "data_users_go['subscription_type'].sort_values().unique()"
   ]
  },
  {
   "cell_type": "code",
   "execution_count": 22,
   "id": "4941f8cc-9a1d-473d-bcff-9cc911e79d89",
   "metadata": {},
   "outputs": [
    {
     "data": {
      "text/html": [
       "<div>\n",
       "<style scoped>\n",
       "    .dataframe tbody tr th:only-of-type {\n",
       "        vertical-align: middle;\n",
       "    }\n",
       "\n",
       "    .dataframe tbody tr th {\n",
       "        vertical-align: top;\n",
       "    }\n",
       "\n",
       "    .dataframe thead th {\n",
       "        text-align: right;\n",
       "    }\n",
       "</style>\n",
       "<table border=\"1\" class=\"dataframe\">\n",
       "  <thead>\n",
       "    <tr style=\"text-align: right;\">\n",
       "      <th></th>\n",
       "      <th>user_id</th>\n",
       "      <th>name</th>\n",
       "      <th>age</th>\n",
       "      <th>city</th>\n",
       "      <th>subscription_type</th>\n",
       "    </tr>\n",
       "  </thead>\n",
       "  <tbody>\n",
       "    <tr>\n",
       "      <th>326</th>\n",
       "      <td>327</td>\n",
       "      <td>Наташа</td>\n",
       "      <td>24</td>\n",
       "      <td>Краснодар</td>\n",
       "      <td>ultra</td>\n",
       "    </tr>\n",
       "    <tr>\n",
       "      <th>356</th>\n",
       "      <td>357</td>\n",
       "      <td>Наталья</td>\n",
       "      <td>30</td>\n",
       "      <td>Сочи</td>\n",
       "      <td>ultra</td>\n",
       "    </tr>\n",
       "    <tr>\n",
       "      <th>417</th>\n",
       "      <td>418</td>\n",
       "      <td>Наташа</td>\n",
       "      <td>26</td>\n",
       "      <td>Краснодар</td>\n",
       "      <td>ultra</td>\n",
       "    </tr>\n",
       "    <tr>\n",
       "      <th>480</th>\n",
       "      <td>481</td>\n",
       "      <td>Наташа</td>\n",
       "      <td>24</td>\n",
       "      <td>Тюмень</td>\n",
       "      <td>ultra</td>\n",
       "    </tr>\n",
       "    <tr>\n",
       "      <th>659</th>\n",
       "      <td>660</td>\n",
       "      <td>Наташа</td>\n",
       "      <td>26</td>\n",
       "      <td>Омск</td>\n",
       "      <td>ultra</td>\n",
       "    </tr>\n",
       "    <tr>\n",
       "      <th>809</th>\n",
       "      <td>810</td>\n",
       "      <td>Наталья</td>\n",
       "      <td>24</td>\n",
       "      <td>Ростов-на-Дону</td>\n",
       "      <td>free</td>\n",
       "    </tr>\n",
       "    <tr>\n",
       "      <th>885</th>\n",
       "      <td>886</td>\n",
       "      <td>Наташа</td>\n",
       "      <td>22</td>\n",
       "      <td>Тюмень</td>\n",
       "      <td>free</td>\n",
       "    </tr>\n",
       "    <tr>\n",
       "      <th>952</th>\n",
       "      <td>953</td>\n",
       "      <td>Наташа</td>\n",
       "      <td>26</td>\n",
       "      <td>Ростов-на-Дону</td>\n",
       "      <td>free</td>\n",
       "    </tr>\n",
       "    <tr>\n",
       "      <th>985</th>\n",
       "      <td>986</td>\n",
       "      <td>Наташа</td>\n",
       "      <td>30</td>\n",
       "      <td>Екатеринбург</td>\n",
       "      <td>free</td>\n",
       "    </tr>\n",
       "    <tr>\n",
       "      <th>1023</th>\n",
       "      <td>1024</td>\n",
       "      <td>Наташа</td>\n",
       "      <td>21</td>\n",
       "      <td>Москва</td>\n",
       "      <td>free</td>\n",
       "    </tr>\n",
       "    <tr>\n",
       "      <th>1076</th>\n",
       "      <td>1077</td>\n",
       "      <td>Наташа</td>\n",
       "      <td>22</td>\n",
       "      <td>Ростов-на-Дону</td>\n",
       "      <td>free</td>\n",
       "    </tr>\n",
       "    <tr>\n",
       "      <th>1209</th>\n",
       "      <td>1210</td>\n",
       "      <td>Наталья</td>\n",
       "      <td>24</td>\n",
       "      <td>Москва</td>\n",
       "      <td>free</td>\n",
       "    </tr>\n",
       "    <tr>\n",
       "      <th>1297</th>\n",
       "      <td>1298</td>\n",
       "      <td>Наталья</td>\n",
       "      <td>20</td>\n",
       "      <td>Москва</td>\n",
       "      <td>free</td>\n",
       "    </tr>\n",
       "    <tr>\n",
       "      <th>1336</th>\n",
       "      <td>1337</td>\n",
       "      <td>Наталья</td>\n",
       "      <td>23</td>\n",
       "      <td>Сочи</td>\n",
       "      <td>free</td>\n",
       "    </tr>\n",
       "    <tr>\n",
       "      <th>1385</th>\n",
       "      <td>1386</td>\n",
       "      <td>Наташа</td>\n",
       "      <td>26</td>\n",
       "      <td>Екатеринбург</td>\n",
       "      <td>free</td>\n",
       "    </tr>\n",
       "    <tr>\n",
       "      <th>1387</th>\n",
       "      <td>1388</td>\n",
       "      <td>Наташа</td>\n",
       "      <td>31</td>\n",
       "      <td>Москва</td>\n",
       "      <td>free</td>\n",
       "    </tr>\n",
       "  </tbody>\n",
       "</table>\n",
       "</div>"
      ],
      "text/plain": [
       "      user_id     name  age            city subscription_type\n",
       "326       327   Наташа   24       Краснодар             ultra\n",
       "356       357  Наталья   30            Сочи             ultra\n",
       "417       418   Наташа   26       Краснодар             ultra\n",
       "480       481   Наташа   24          Тюмень             ultra\n",
       "659       660   Наташа   26            Омск             ultra\n",
       "809       810  Наталья   24  Ростов-на-Дону              free\n",
       "885       886   Наташа   22          Тюмень              free\n",
       "952       953   Наташа   26  Ростов-на-Дону              free\n",
       "985       986   Наташа   30    Екатеринбург              free\n",
       "1023     1024   Наташа   21          Москва              free\n",
       "1076     1077   Наташа   22  Ростов-на-Дону              free\n",
       "1209     1210  Наталья   24          Москва              free\n",
       "1297     1298  Наталья   20          Москва              free\n",
       "1336     1337  Наталья   23            Сочи              free\n",
       "1385     1386   Наташа   26    Екатеринбург              free\n",
       "1387     1388   Наташа   31          Москва              free"
      ]
     },
     "execution_count": 22,
     "metadata": {},
     "output_type": "execute_result"
    }
   ],
   "source": [
    "#Проверим нет ли одинанковых id с разным написанием имени \"Наташа\"\n",
    "data_users_go.loc[(data_users_go['name'] == 'Наталья') | (data_users_go['name'] == 'Наташа')]"
   ]
  },
  {
   "cell_type": "markdown",
   "id": "fa5eda9f-d4fb-46b5-b561-b42a9be27154",
   "metadata": {},
   "source": [
    "Встречаются неявные дубликаты в столбце `name` в виде \"Наталья\" \"Наташа\", но на результаты исследования проекта это никак не повлияет, оставим как есть."
   ]
  },
  {
   "cell_type": "markdown",
   "id": "c1e91d27-81b0-4466-87ec-0b6ed61a7c0e",
   "metadata": {},
   "source": [
    "В итоге получили, что пропусков нет, дубликаты удалены."
   ]
  },
  {
   "cell_type": "markdown",
   "id": "0be72278-f429-4228-98d8-f6bd64ce46b4",
   "metadata": {},
   "source": [
    "## 3 Исследовательский анализ данных"
   ]
  },
  {
   "cell_type": "code",
   "execution_count": 88,
   "id": "6555c2ee-5e13-48c2-a60e-ad6f8da8e5ad",
   "metadata": {},
   "outputs": [
    {
     "data": {
      "image/png": "[encoded data removed]",
      "text/plain": [
       "<Figure size 640x480 with 1 Axes>"
      ]
     },
     "metadata": {},
     "output_type": "display_data"
    }
   ],
   "source": [
    "#Наглядно оценим частоту встречаемотси городов методом value_counts() и plot()\n",
    "data_users_go['city'].value_counts().plot(kind = 'bar', title = 'Частота встречаемотси городов', xlabel = 'Город', ylabel = 'Частота')\n",
    "plt.show()"
   ]
  },
  {
   "cell_type": "markdown",
   "id": "ba3fe025-8e77-4644-abfe-6d7af7ad9b65",
   "metadata": {},
   "source": [
    "В основном пользуются услугами аренды самокатов в Пятигорске, меньше всего в Москве."
   ]
  },
  {
   "cell_type": "code",
   "execution_count": 90,
   "id": "89191812-f7f4-4a36-b803-ff397a185221",
   "metadata": {},
   "outputs": [
    {
     "data": {
      "image/png": "[encoded data removed]",
      "text/plain": [
       "<Figure size 640x480 with 1 Axes>"
      ]
     },
     "metadata": {},
     "output_type": "display_data"
    }
   ],
   "source": [
    "#Наглядно оценим соотношение пользователей с подписикой и без подписки методом value_counts() и plot()\n",
    "plt.pie(data_users_go['subscription_type'].value_counts(), labels = data_users_go['subscription_type'].value_counts().index, autopct='%1.2f%%')\n",
    "plt.title('Доля пользователей с подпиской и без подписки')\n",
    "plt.show()"
   ]
  },
  {
   "cell_type": "markdown",
   "id": "99c59803-7e86-46aa-a955-7d287cc9ef0e",
   "metadata": {},
   "source": [
    "Большая часть(54%) пользователей не имеют подписку."
   ]
  },
  {
   "cell_type": "code",
   "execution_count": 155,
   "id": "2c5025f6-6925-40de-a9db-d3930c1e0f4d",
   "metadata": {},
   "outputs": [],
   "source": [
    "# создадим функцию для построения гистрограммы и диаграммы размаха\n",
    "def build_hist_boxplot(df, name_column, title, xlabel):\n",
    "    fig, ax = plt.subplots(2, 1, figsize=(15, 8), sharex=True, gridspec_kw=dict(height_ratios=[4,1]))\n",
    "    sns.histplot(data=df, x=name_column, discrete=True,\n",
    "             kde=True, ax=ax[0], bins = 15)\\\n",
    "    .set(title=title,\n",
    "     ylabel='Количество повторений')\n",
    "    sns.boxplot(data=df, x=name_column, ax=ax[1])\\\n",
    "    .set(xlabel=xlabel);"
   ]
  },
  {
   "cell_type": "code",
   "execution_count": 157,
   "id": "598e6cac-c33b-4b9b-b927-c24c04f98db1",
   "metadata": {},
   "outputs": [
    {
     "data": {
      "image/png": "[encoded data removed]",
      "text/plain": [
       "<Figure size 1500x800 with 2 Axes>"
      ]
     },
     "metadata": {},
     "output_type": "display_data"
    }
   ],
   "source": [
    "build_hist_boxplot(data_users_go, 'age', 'Возраст пользователей', 'Кол-во лет')"
   ]
  },
  {
   "cell_type": "code",
   "execution_count": 159,
   "id": "b1a8bec4",
   "metadata": {},
   "outputs": [
    {
     "data": {
      "text/html": [
       "<div>\n",
       "<style scoped>\n",
       "    .dataframe tbody tr th:only-of-type {\n",
       "        vertical-align: middle;\n",
       "    }\n",
       "\n",
       "    .dataframe tbody tr th {\n",
       "        vertical-align: top;\n",
       "    }\n",
       "\n",
       "    .dataframe thead th {\n",
       "        text-align: right;\n",
       "    }\n",
       "</style>\n",
       "<table border=\"1\" class=\"dataframe\">\n",
       "  <thead>\n",
       "    <tr style=\"text-align: right;\">\n",
       "      <th></th>\n",
       "      <th>age</th>\n",
       "    </tr>\n",
       "  </thead>\n",
       "  <tbody>\n",
       "    <tr>\n",
       "      <th>count</th>\n",
       "      <td>1534.000000</td>\n",
       "    </tr>\n",
       "    <tr>\n",
       "      <th>mean</th>\n",
       "      <td>24.903520</td>\n",
       "    </tr>\n",
       "    <tr>\n",
       "      <th>std</th>\n",
       "      <td>4.572367</td>\n",
       "    </tr>\n",
       "    <tr>\n",
       "      <th>min</th>\n",
       "      <td>12.000000</td>\n",
       "    </tr>\n",
       "    <tr>\n",
       "      <th>25%</th>\n",
       "      <td>22.000000</td>\n",
       "    </tr>\n",
       "    <tr>\n",
       "      <th>50%</th>\n",
       "      <td>25.000000</td>\n",
       "    </tr>\n",
       "    <tr>\n",
       "      <th>75%</th>\n",
       "      <td>28.000000</td>\n",
       "    </tr>\n",
       "    <tr>\n",
       "      <th>max</th>\n",
       "      <td>43.000000</td>\n",
       "    </tr>\n",
       "  </tbody>\n",
       "</table>\n",
       "</div>"
      ],
      "text/plain": [
       "               age\n",
       "count  1534.000000\n",
       "mean     24.903520\n",
       "std       4.572367\n",
       "min      12.000000\n",
       "25%      22.000000\n",
       "50%      25.000000\n",
       "75%      28.000000\n",
       "max      43.000000"
      ]
     },
     "execution_count": 159,
     "metadata": {},
     "output_type": "execute_result"
    }
   ],
   "source": [
    "data_users_go[['age']].describe()"
   ]
  },
  {
   "cell_type": "markdown",
   "id": "95340714-217b-4dcd-ae55-f4daba5fa26f",
   "metadata": {},
   "source": [
    "Самый часто встречаемый возраст 25 лет, минимальный возраст 12 лет, максимальный 43 года. Данные выглядят правдоподобно."
   ]
  },
  {
   "cell_type": "code",
   "execution_count": 162,
   "id": "71615144-a43c-4fef-9e53-13cc139dba03",
   "metadata": {},
   "outputs": [
    {
     "data": {
      "image/png": "[encoded data removed]",
      "text/plain": [
       "<Figure size 1500x800 with 2 Axes>"
      ]
     },
     "metadata": {},
     "output_type": "display_data"
    }
   ],
   "source": [
    "build_hist_boxplot(data_rides_go[['distance']]/1000, 'distance', 'Расстояния за одну поездку', 'Расстония (в км)')"
   ]
  },
  {
   "cell_type": "code",
   "execution_count": 163,
   "id": "2ceb56ec-c28c-415e-80b8-68c2daeba73b",
   "metadata": {},
   "outputs": [
    {
     "data": {
      "text/html": [
       "<div>\n",
       "<style scoped>\n",
       "    .dataframe tbody tr th:only-of-type {\n",
       "        vertical-align: middle;\n",
       "    }\n",
       "\n",
       "    .dataframe tbody tr th {\n",
       "        vertical-align: top;\n",
       "    }\n",
       "\n",
       "    .dataframe thead th {\n",
       "        text-align: right;\n",
       "    }\n",
       "</style>\n",
       "<table border=\"1\" class=\"dataframe\">\n",
       "  <thead>\n",
       "    <tr style=\"text-align: right;\">\n",
       "      <th></th>\n",
       "      <th>distance</th>\n",
       "    </tr>\n",
       "  </thead>\n",
       "  <tbody>\n",
       "    <tr>\n",
       "      <th>count</th>\n",
       "      <td>18068.000000</td>\n",
       "    </tr>\n",
       "    <tr>\n",
       "      <th>mean</th>\n",
       "      <td>3070.659976</td>\n",
       "    </tr>\n",
       "    <tr>\n",
       "      <th>std</th>\n",
       "      <td>1116.831209</td>\n",
       "    </tr>\n",
       "    <tr>\n",
       "      <th>min</th>\n",
       "      <td>0.855683</td>\n",
       "    </tr>\n",
       "    <tr>\n",
       "      <th>25%</th>\n",
       "      <td>2543.226360</td>\n",
       "    </tr>\n",
       "    <tr>\n",
       "      <th>50%</th>\n",
       "      <td>3133.609994</td>\n",
       "    </tr>\n",
       "    <tr>\n",
       "      <th>75%</th>\n",
       "      <td>3776.222735</td>\n",
       "    </tr>\n",
       "    <tr>\n",
       "      <th>max</th>\n",
       "      <td>7211.007745</td>\n",
       "    </tr>\n",
       "  </tbody>\n",
       "</table>\n",
       "</div>"
      ],
      "text/plain": [
       "           distance\n",
       "count  18068.000000\n",
       "mean    3070.659976\n",
       "std     1116.831209\n",
       "min        0.855683\n",
       "25%     2543.226360\n",
       "50%     3133.609994\n",
       "75%     3776.222735\n",
       "max     7211.007745"
      ]
     },
     "execution_count": 163,
     "metadata": {},
     "output_type": "execute_result"
    }
   ],
   "source": [
    "data_rides_go[['distance']].describe()"
   ]
  },
  {
   "cell_type": "markdown",
   "id": "e4064f63-effd-40c9-bba0-11da16b7600c",
   "metadata": {},
   "source": [
    "В основном расстояние за поездку в пределах 3100- 3200 метров. \n",
    "\n",
    "Минимальные растояния до 10 метров вполне возможны, так как самокат могут взять по ошибке, и тут же отменить заказ.\n",
    "\n",
    "Расстояния больше 6000 метров также возможноны, заряда может хватить и на гораздо больший километраж."
   ]
  },
  {
   "cell_type": "code",
   "execution_count": 167,
   "id": "15f064b6-12ea-4927-981b-10d6e7cba719",
   "metadata": {
    "scrolled": true
   },
   "outputs": [
    {
     "data": {
      "image/png": "[encoded data removed]",
      "text/plain": [
       "<Figure size 1500x800 with 2 Axes>"
      ]
     },
     "metadata": {},
     "output_type": "display_data"
    }
   ],
   "source": [
    "build_hist_boxplot(data_rides_go, 'duration', 'Продолжительность поездки', 'Время(в минутах)')"
   ]
  },
  {
   "cell_type": "code",
   "execution_count": 168,
   "id": "4f0da8f9-b982-4640-98ff-5827efba43de",
   "metadata": {},
   "outputs": [
    {
     "data": {
      "text/html": [
       "<div>\n",
       "<style scoped>\n",
       "    .dataframe tbody tr th:only-of-type {\n",
       "        vertical-align: middle;\n",
       "    }\n",
       "\n",
       "    .dataframe tbody tr th {\n",
       "        vertical-align: top;\n",
       "    }\n",
       "\n",
       "    .dataframe thead th {\n",
       "        text-align: right;\n",
       "    }\n",
       "</style>\n",
       "<table border=\"1\" class=\"dataframe\">\n",
       "  <thead>\n",
       "    <tr style=\"text-align: right;\">\n",
       "      <th></th>\n",
       "      <th>duration</th>\n",
       "    </tr>\n",
       "  </thead>\n",
       "  <tbody>\n",
       "    <tr>\n",
       "      <th>count</th>\n",
       "      <td>18068.000000</td>\n",
       "    </tr>\n",
       "    <tr>\n",
       "      <th>mean</th>\n",
       "      <td>17.805011</td>\n",
       "    </tr>\n",
       "    <tr>\n",
       "      <th>std</th>\n",
       "      <td>6.091051</td>\n",
       "    </tr>\n",
       "    <tr>\n",
       "      <th>min</th>\n",
       "      <td>0.500000</td>\n",
       "    </tr>\n",
       "    <tr>\n",
       "      <th>25%</th>\n",
       "      <td>13.597563</td>\n",
       "    </tr>\n",
       "    <tr>\n",
       "      <th>50%</th>\n",
       "      <td>17.678395</td>\n",
       "    </tr>\n",
       "    <tr>\n",
       "      <th>75%</th>\n",
       "      <td>21.724800</td>\n",
       "    </tr>\n",
       "    <tr>\n",
       "      <th>max</th>\n",
       "      <td>40.823963</td>\n",
       "    </tr>\n",
       "  </tbody>\n",
       "</table>\n",
       "</div>"
      ],
      "text/plain": [
       "           duration\n",
       "count  18068.000000\n",
       "mean      17.805011\n",
       "std        6.091051\n",
       "min        0.500000\n",
       "25%       13.597563\n",
       "50%       17.678395\n",
       "75%       21.724800\n",
       "max       40.823963"
      ]
     },
     "execution_count": 168,
     "metadata": {},
     "output_type": "execute_result"
    }
   ],
   "source": [
    "data_rides_go[['duration']].describe()"
   ]
  },
  {
   "cell_type": "markdown",
   "id": "e4a0f1cc-ffd5-4e9d-b823-6b4279f9094d",
   "metadata": {},
   "source": [
    "В освном на 1 поездку уходит от 14 до 21 минут. \n",
    "\n",
    "Поездки меньше 1 минуты вполне возможны либо пользователей отменил заказ сразу же.\n",
    "\n",
    "Поездки свыше 25 минут также реальны."
   ]
  },
  {
   "cell_type": "markdown",
   "id": "305e4b2b-0f4f-4f0a-9572-b571b6427177",
   "metadata": {},
   "source": [
    "## 4 Объединение данных"
   ]
  },
  {
   "cell_type": "code",
   "execution_count": 173,
   "id": "92382c9d-d636-4ebb-8aa8-5d8ebcae82b6",
   "metadata": {},
   "outputs": [],
   "source": [
    "#Объединим данные о поездках и пользователях в единую таблицу методом merge()\n",
    "data_users_rides = data_rides_go.merge(data_users_go, on = 'user_id', how = 'outer')"
   ]
  },
  {
   "cell_type": "code",
   "execution_count": 175,
   "id": "9b66739f-35c0-4235-8cc1-5793267452d7",
   "metadata": {},
   "outputs": [
    {
     "data": {
      "text/html": [
       "<div>\n",
       "<style scoped>\n",
       "    .dataframe tbody tr th:only-of-type {\n",
       "        vertical-align: middle;\n",
       "    }\n",
       "\n",
       "    .dataframe tbody tr th {\n",
       "        vertical-align: top;\n",
       "    }\n",
       "\n",
       "    .dataframe thead th {\n",
       "        text-align: right;\n",
       "    }\n",
       "</style>\n",
       "<table border=\"1\" class=\"dataframe\">\n",
       "  <thead>\n",
       "    <tr style=\"text-align: right;\">\n",
       "      <th></th>\n",
       "      <th>user_id</th>\n",
       "      <th>distance</th>\n",
       "      <th>duration</th>\n",
       "      <th>date</th>\n",
       "      <th>month</th>\n",
       "      <th>name</th>\n",
       "      <th>age</th>\n",
       "      <th>city</th>\n",
       "      <th>subscription_type</th>\n",
       "      <th>minute_price</th>\n",
       "      <th>start_ride_price</th>\n",
       "      <th>subscription_fee</th>\n",
       "    </tr>\n",
       "  </thead>\n",
       "  <tbody>\n",
       "    <tr>\n",
       "      <th>0</th>\n",
       "      <td>700</td>\n",
       "      <td>2515.690719</td>\n",
       "      <td>14.944286</td>\n",
       "      <td>2021-01-02</td>\n",
       "      <td>1</td>\n",
       "      <td>Айдар</td>\n",
       "      <td>22</td>\n",
       "      <td>Омск</td>\n",
       "      <td>free</td>\n",
       "      <td>8</td>\n",
       "      <td>50</td>\n",
       "      <td>0</td>\n",
       "    </tr>\n",
       "    <tr>\n",
       "      <th>1</th>\n",
       "      <td>700</td>\n",
       "      <td>846.932642</td>\n",
       "      <td>16.234663</td>\n",
       "      <td>2021-02-01</td>\n",
       "      <td>2</td>\n",
       "      <td>Айдар</td>\n",
       "      <td>22</td>\n",
       "      <td>Омск</td>\n",
       "      <td>free</td>\n",
       "      <td>8</td>\n",
       "      <td>50</td>\n",
       "      <td>0</td>\n",
       "    </tr>\n",
       "    <tr>\n",
       "      <th>2</th>\n",
       "      <td>700</td>\n",
       "      <td>4004.434142</td>\n",
       "      <td>20.016628</td>\n",
       "      <td>2021-02-04</td>\n",
       "      <td>2</td>\n",
       "      <td>Айдар</td>\n",
       "      <td>22</td>\n",
       "      <td>Омск</td>\n",
       "      <td>free</td>\n",
       "      <td>8</td>\n",
       "      <td>50</td>\n",
       "      <td>0</td>\n",
       "    </tr>\n",
       "    <tr>\n",
       "      <th>3</th>\n",
       "      <td>700</td>\n",
       "      <td>1205.911290</td>\n",
       "      <td>9.782872</td>\n",
       "      <td>2021-02-10</td>\n",
       "      <td>2</td>\n",
       "      <td>Айдар</td>\n",
       "      <td>22</td>\n",
       "      <td>Омск</td>\n",
       "      <td>free</td>\n",
       "      <td>8</td>\n",
       "      <td>50</td>\n",
       "      <td>0</td>\n",
       "    </tr>\n",
       "    <tr>\n",
       "      <th>4</th>\n",
       "      <td>700</td>\n",
       "      <td>3047.379435</td>\n",
       "      <td>17.427673</td>\n",
       "      <td>2021-02-14</td>\n",
       "      <td>2</td>\n",
       "      <td>Айдар</td>\n",
       "      <td>22</td>\n",
       "      <td>Омск</td>\n",
       "      <td>free</td>\n",
       "      <td>8</td>\n",
       "      <td>50</td>\n",
       "      <td>0</td>\n",
       "    </tr>\n",
       "  </tbody>\n",
       "</table>\n",
       "</div>"
      ],
      "text/plain": [
       "   user_id     distance   duration       date  month   name  age  city  \\\n",
       "0      700  2515.690719  14.944286 2021-01-02      1  Айдар   22  Омск   \n",
       "1      700   846.932642  16.234663 2021-02-01      2  Айдар   22  Омск   \n",
       "2      700  4004.434142  20.016628 2021-02-04      2  Айдар   22  Омск   \n",
       "3      700  1205.911290   9.782872 2021-02-10      2  Айдар   22  Омск   \n",
       "4      700  3047.379435  17.427673 2021-02-14      2  Айдар   22  Омск   \n",
       "\n",
       "  subscription_type  minute_price  start_ride_price  subscription_fee  \n",
       "0              free             8                50                 0  \n",
       "1              free             8                50                 0  \n",
       "2              free             8                50                 0  \n",
       "3              free             8                50                 0  \n",
       "4              free             8                50                 0  "
      ]
     },
     "execution_count": 175,
     "metadata": {},
     "output_type": "execute_result"
    }
   ],
   "source": [
    "#Добавим данные о подписке в таблицу data_users_rides\n",
    "data = data_users_rides.merge(data_subscriptions_go, on = 'subscription_type', how = 'outer')\n",
    "data.head()"
   ]
  },
  {
   "cell_type": "markdown",
   "id": "2eb2a901-571f-4477-9382-8f0443600f18",
   "metadata": {},
   "source": [
    "В итоге получили общую таблицу `data` с инорфацией о подписках, поездка и пользователях.\n"
   ]
  },
  {
   "cell_type": "code",
   "execution_count": 178,
   "id": "fe63e371-86cf-4b60-9c71-c8494bd86bbf",
   "metadata": {},
   "outputs": [
    {
     "data": {
      "text/plain": [
       "user_id              0\n",
       "distance             0\n",
       "duration             0\n",
       "date                 0\n",
       "month                0\n",
       "name                 0\n",
       "age                  0\n",
       "city                 0\n",
       "subscription_type    0\n",
       "minute_price         0\n",
       "start_ride_price     0\n",
       "subscription_fee     0\n",
       "dtype: int64"
      ]
     },
     "execution_count": 178,
     "metadata": {},
     "output_type": "execute_result"
    }
   ],
   "source": [
    "#После объединения могли получиться пропуски проверим их кол-во\n",
    "data.isna().sum()"
   ]
  },
  {
   "cell_type": "markdown",
   "id": "24a68f80-b42a-4afc-8627-116b6707a68c",
   "metadata": {},
   "source": [
    "Пропусков нет."
   ]
  },
  {
   "cell_type": "code",
   "execution_count": 181,
   "id": "fead2e11-5cc2-44ba-a2b8-48f9f5932ab7",
   "metadata": {},
   "outputs": [
    {
     "data": {
      "text/html": [
       "<div>\n",
       "<style scoped>\n",
       "    .dataframe tbody tr th:only-of-type {\n",
       "        vertical-align: middle;\n",
       "    }\n",
       "\n",
       "    .dataframe tbody tr th {\n",
       "        vertical-align: top;\n",
       "    }\n",
       "\n",
       "    .dataframe thead th {\n",
       "        text-align: right;\n",
       "    }\n",
       "</style>\n",
       "<table border=\"1\" class=\"dataframe\">\n",
       "  <thead>\n",
       "    <tr style=\"text-align: right;\">\n",
       "      <th></th>\n",
       "      <th>index</th>\n",
       "      <th>user_id</th>\n",
       "      <th>distance</th>\n",
       "      <th>duration</th>\n",
       "      <th>date</th>\n",
       "      <th>month</th>\n",
       "      <th>name</th>\n",
       "      <th>age</th>\n",
       "      <th>city</th>\n",
       "      <th>subscription_type</th>\n",
       "      <th>minute_price</th>\n",
       "      <th>start_ride_price</th>\n",
       "      <th>subscription_fee</th>\n",
       "    </tr>\n",
       "  </thead>\n",
       "  <tbody>\n",
       "    <tr>\n",
       "      <th>0</th>\n",
       "      <td>0</td>\n",
       "      <td>700</td>\n",
       "      <td>2515.690719</td>\n",
       "      <td>14.944286</td>\n",
       "      <td>2021-01-02</td>\n",
       "      <td>1</td>\n",
       "      <td>Айдар</td>\n",
       "      <td>22</td>\n",
       "      <td>Омск</td>\n",
       "      <td>free</td>\n",
       "      <td>8</td>\n",
       "      <td>50</td>\n",
       "      <td>0</td>\n",
       "    </tr>\n",
       "    <tr>\n",
       "      <th>1</th>\n",
       "      <td>1</td>\n",
       "      <td>700</td>\n",
       "      <td>846.932642</td>\n",
       "      <td>16.234663</td>\n",
       "      <td>2021-02-01</td>\n",
       "      <td>2</td>\n",
       "      <td>Айдар</td>\n",
       "      <td>22</td>\n",
       "      <td>Омск</td>\n",
       "      <td>free</td>\n",
       "      <td>8</td>\n",
       "      <td>50</td>\n",
       "      <td>0</td>\n",
       "    </tr>\n",
       "    <tr>\n",
       "      <th>2</th>\n",
       "      <td>2</td>\n",
       "      <td>700</td>\n",
       "      <td>4004.434142</td>\n",
       "      <td>20.016628</td>\n",
       "      <td>2021-02-04</td>\n",
       "      <td>2</td>\n",
       "      <td>Айдар</td>\n",
       "      <td>22</td>\n",
       "      <td>Омск</td>\n",
       "      <td>free</td>\n",
       "      <td>8</td>\n",
       "      <td>50</td>\n",
       "      <td>0</td>\n",
       "    </tr>\n",
       "    <tr>\n",
       "      <th>3</th>\n",
       "      <td>3</td>\n",
       "      <td>700</td>\n",
       "      <td>1205.911290</td>\n",
       "      <td>9.782872</td>\n",
       "      <td>2021-02-10</td>\n",
       "      <td>2</td>\n",
       "      <td>Айдар</td>\n",
       "      <td>22</td>\n",
       "      <td>Омск</td>\n",
       "      <td>free</td>\n",
       "      <td>8</td>\n",
       "      <td>50</td>\n",
       "      <td>0</td>\n",
       "    </tr>\n",
       "    <tr>\n",
       "      <th>4</th>\n",
       "      <td>4</td>\n",
       "      <td>700</td>\n",
       "      <td>3047.379435</td>\n",
       "      <td>17.427673</td>\n",
       "      <td>2021-02-14</td>\n",
       "      <td>2</td>\n",
       "      <td>Айдар</td>\n",
       "      <td>22</td>\n",
       "      <td>Омск</td>\n",
       "      <td>free</td>\n",
       "      <td>8</td>\n",
       "      <td>50</td>\n",
       "      <td>0</td>\n",
       "    </tr>\n",
       "  </tbody>\n",
       "</table>\n",
       "</div>"
      ],
      "text/plain": [
       "   index  user_id     distance   duration       date  month   name  age  city  \\\n",
       "0      0      700  2515.690719  14.944286 2021-01-02      1  Айдар   22  Омск   \n",
       "1      1      700   846.932642  16.234663 2021-02-01      2  Айдар   22  Омск   \n",
       "2      2      700  4004.434142  20.016628 2021-02-04      2  Айдар   22  Омск   \n",
       "3      3      700  1205.911290   9.782872 2021-02-10      2  Айдар   22  Омск   \n",
       "4      4      700  3047.379435  17.427673 2021-02-14      2  Айдар   22  Омск   \n",
       "\n",
       "  subscription_type  minute_price  start_ride_price  subscription_fee  \n",
       "0              free             8                50                 0  \n",
       "1              free             8                50                 0  \n",
       "2              free             8                50                 0  \n",
       "3              free             8                50                 0  \n",
       "4              free             8                50                 0  "
      ]
     },
     "metadata": {},
     "output_type": "display_data"
    },
    {
     "data": {
      "text/html": [
       "<div>\n",
       "<style scoped>\n",
       "    .dataframe tbody tr th:only-of-type {\n",
       "        vertical-align: middle;\n",
       "    }\n",
       "\n",
       "    .dataframe tbody tr th {\n",
       "        vertical-align: top;\n",
       "    }\n",
       "\n",
       "    .dataframe thead th {\n",
       "        text-align: right;\n",
       "    }\n",
       "</style>\n",
       "<table border=\"1\" class=\"dataframe\">\n",
       "  <thead>\n",
       "    <tr style=\"text-align: right;\">\n",
       "      <th></th>\n",
       "      <th>index</th>\n",
       "      <th>user_id</th>\n",
       "      <th>distance</th>\n",
       "      <th>duration</th>\n",
       "      <th>date</th>\n",
       "      <th>month</th>\n",
       "      <th>name</th>\n",
       "      <th>age</th>\n",
       "      <th>city</th>\n",
       "      <th>subscription_type</th>\n",
       "      <th>minute_price</th>\n",
       "      <th>start_ride_price</th>\n",
       "      <th>subscription_fee</th>\n",
       "    </tr>\n",
       "  </thead>\n",
       "  <tbody>\n",
       "    <tr>\n",
       "      <th>0</th>\n",
       "      <td>11568</td>\n",
       "      <td>1</td>\n",
       "      <td>4409.919140</td>\n",
       "      <td>25.599769</td>\n",
       "      <td>2021-01-01</td>\n",
       "      <td>1</td>\n",
       "      <td>Кира</td>\n",
       "      <td>22</td>\n",
       "      <td>Тюмень</td>\n",
       "      <td>ultra</td>\n",
       "      <td>6</td>\n",
       "      <td>0</td>\n",
       "      <td>199</td>\n",
       "    </tr>\n",
       "    <tr>\n",
       "      <th>1</th>\n",
       "      <td>11569</td>\n",
       "      <td>1</td>\n",
       "      <td>2617.592153</td>\n",
       "      <td>15.816871</td>\n",
       "      <td>2021-01-18</td>\n",
       "      <td>1</td>\n",
       "      <td>Кира</td>\n",
       "      <td>22</td>\n",
       "      <td>Тюмень</td>\n",
       "      <td>ultra</td>\n",
       "      <td>6</td>\n",
       "      <td>0</td>\n",
       "      <td>199</td>\n",
       "    </tr>\n",
       "    <tr>\n",
       "      <th>2</th>\n",
       "      <td>11570</td>\n",
       "      <td>1</td>\n",
       "      <td>754.159807</td>\n",
       "      <td>6.232113</td>\n",
       "      <td>2021-04-20</td>\n",
       "      <td>4</td>\n",
       "      <td>Кира</td>\n",
       "      <td>22</td>\n",
       "      <td>Тюмень</td>\n",
       "      <td>ultra</td>\n",
       "      <td>6</td>\n",
       "      <td>0</td>\n",
       "      <td>199</td>\n",
       "    </tr>\n",
       "    <tr>\n",
       "      <th>3</th>\n",
       "      <td>11571</td>\n",
       "      <td>1</td>\n",
       "      <td>2694.783254</td>\n",
       "      <td>18.511000</td>\n",
       "      <td>2021-08-11</td>\n",
       "      <td>8</td>\n",
       "      <td>Кира</td>\n",
       "      <td>22</td>\n",
       "      <td>Тюмень</td>\n",
       "      <td>ultra</td>\n",
       "      <td>6</td>\n",
       "      <td>0</td>\n",
       "      <td>199</td>\n",
       "    </tr>\n",
       "    <tr>\n",
       "      <th>4</th>\n",
       "      <td>11572</td>\n",
       "      <td>1</td>\n",
       "      <td>4028.687306</td>\n",
       "      <td>26.265803</td>\n",
       "      <td>2021-08-28</td>\n",
       "      <td>8</td>\n",
       "      <td>Кира</td>\n",
       "      <td>22</td>\n",
       "      <td>Тюмень</td>\n",
       "      <td>ultra</td>\n",
       "      <td>6</td>\n",
       "      <td>0</td>\n",
       "      <td>199</td>\n",
       "    </tr>\n",
       "  </tbody>\n",
       "</table>\n",
       "</div>"
      ],
      "text/plain": [
       "   index  user_id     distance   duration       date  month  name  age  \\\n",
       "0  11568        1  4409.919140  25.599769 2021-01-01      1  Кира   22   \n",
       "1  11569        1  2617.592153  15.816871 2021-01-18      1  Кира   22   \n",
       "2  11570        1   754.159807   6.232113 2021-04-20      4  Кира   22   \n",
       "3  11571        1  2694.783254  18.511000 2021-08-11      8  Кира   22   \n",
       "4  11572        1  4028.687306  26.265803 2021-08-28      8  Кира   22   \n",
       "\n",
       "     city subscription_type  minute_price  start_ride_price  subscription_fee  \n",
       "0  Тюмень             ultra             6                 0               199  \n",
       "1  Тюмень             ultra             6                 0               199  \n",
       "2  Тюмень             ultra             6                 0               199  \n",
       "3  Тюмень             ultra             6                 0               199  \n",
       "4  Тюмень             ultra             6                 0               199  "
      ]
     },
     "metadata": {},
     "output_type": "display_data"
    }
   ],
   "source": [
    "#Создадим два датафрейма с платной и бесплатной подпиской\n",
    "data_free = data.query('subscription_type == \"free\"').reset_index()\n",
    "data_ultra = data.query('subscription_type == \"ultra\"').reset_index()\n",
    "display(data_free.head())\n",
    "display(data_ultra.head())"
   ]
  },
  {
   "cell_type": "markdown",
   "id": "88a72d40-f176-422d-84fe-41cba1dacf33",
   "metadata": {},
   "source": [
    "## 5 Подсчёт выручки"
   ]
  },
  {
   "cell_type": "code",
   "execution_count": 184,
   "id": "0569b0ef-b4bf-4add-a987-861e1e6e95b4",
   "metadata": {},
   "outputs": [],
   "source": [
    "#Методом np.ceil() округлим суммарное время до целого числа\n",
    "data['duration'] = np.ceil(data['duration'])"
   ]
  },
  {
   "cell_type": "code",
   "execution_count": 186,
   "id": "efec866b-5213-4118-9bfa-6a984728651d",
   "metadata": {},
   "outputs": [
    {
     "data": {
      "text/html": [
       "<div>\n",
       "<style scoped>\n",
       "    .dataframe tbody tr th:only-of-type {\n",
       "        vertical-align: middle;\n",
       "    }\n",
       "\n",
       "    .dataframe tbody tr th {\n",
       "        vertical-align: top;\n",
       "    }\n",
       "\n",
       "    .dataframe thead th {\n",
       "        text-align: right;\n",
       "    }\n",
       "</style>\n",
       "<table border=\"1\" class=\"dataframe\">\n",
       "  <thead>\n",
       "    <tr style=\"text-align: right;\">\n",
       "      <th></th>\n",
       "      <th>user_id</th>\n",
       "      <th>distance</th>\n",
       "      <th>duration</th>\n",
       "      <th>date</th>\n",
       "      <th>month</th>\n",
       "      <th>name</th>\n",
       "      <th>age</th>\n",
       "      <th>city</th>\n",
       "      <th>subscription_type</th>\n",
       "      <th>minute_price</th>\n",
       "      <th>start_ride_price</th>\n",
       "      <th>subscription_fee</th>\n",
       "    </tr>\n",
       "  </thead>\n",
       "  <tbody>\n",
       "    <tr>\n",
       "      <th>0</th>\n",
       "      <td>700</td>\n",
       "      <td>2515.690719</td>\n",
       "      <td>15.0</td>\n",
       "      <td>2021-01-02</td>\n",
       "      <td>1</td>\n",
       "      <td>Айдар</td>\n",
       "      <td>22</td>\n",
       "      <td>Омск</td>\n",
       "      <td>free</td>\n",
       "      <td>8</td>\n",
       "      <td>50</td>\n",
       "      <td>0</td>\n",
       "    </tr>\n",
       "    <tr>\n",
       "      <th>1</th>\n",
       "      <td>700</td>\n",
       "      <td>846.932642</td>\n",
       "      <td>17.0</td>\n",
       "      <td>2021-02-01</td>\n",
       "      <td>2</td>\n",
       "      <td>Айдар</td>\n",
       "      <td>22</td>\n",
       "      <td>Омск</td>\n",
       "      <td>free</td>\n",
       "      <td>8</td>\n",
       "      <td>50</td>\n",
       "      <td>0</td>\n",
       "    </tr>\n",
       "    <tr>\n",
       "      <th>2</th>\n",
       "      <td>700</td>\n",
       "      <td>4004.434142</td>\n",
       "      <td>21.0</td>\n",
       "      <td>2021-02-04</td>\n",
       "      <td>2</td>\n",
       "      <td>Айдар</td>\n",
       "      <td>22</td>\n",
       "      <td>Омск</td>\n",
       "      <td>free</td>\n",
       "      <td>8</td>\n",
       "      <td>50</td>\n",
       "      <td>0</td>\n",
       "    </tr>\n",
       "    <tr>\n",
       "      <th>3</th>\n",
       "      <td>700</td>\n",
       "      <td>1205.911290</td>\n",
       "      <td>10.0</td>\n",
       "      <td>2021-02-10</td>\n",
       "      <td>2</td>\n",
       "      <td>Айдар</td>\n",
       "      <td>22</td>\n",
       "      <td>Омск</td>\n",
       "      <td>free</td>\n",
       "      <td>8</td>\n",
       "      <td>50</td>\n",
       "      <td>0</td>\n",
       "    </tr>\n",
       "    <tr>\n",
       "      <th>4</th>\n",
       "      <td>700</td>\n",
       "      <td>3047.379435</td>\n",
       "      <td>18.0</td>\n",
       "      <td>2021-02-14</td>\n",
       "      <td>2</td>\n",
       "      <td>Айдар</td>\n",
       "      <td>22</td>\n",
       "      <td>Омск</td>\n",
       "      <td>free</td>\n",
       "      <td>8</td>\n",
       "      <td>50</td>\n",
       "      <td>0</td>\n",
       "    </tr>\n",
       "  </tbody>\n",
       "</table>\n",
       "</div>"
      ],
      "text/plain": [
       "   user_id     distance  duration       date  month   name  age  city  \\\n",
       "0      700  2515.690719      15.0 2021-01-02      1  Айдар   22  Омск   \n",
       "1      700   846.932642      17.0 2021-02-01      2  Айдар   22  Омск   \n",
       "2      700  4004.434142      21.0 2021-02-04      2  Айдар   22  Омск   \n",
       "3      700  1205.911290      10.0 2021-02-10      2  Айдар   22  Омск   \n",
       "4      700  3047.379435      18.0 2021-02-14      2  Айдар   22  Омск   \n",
       "\n",
       "  subscription_type  minute_price  start_ride_price  subscription_fee  \n",
       "0              free             8                50                 0  \n",
       "1              free             8                50                 0  \n",
       "2              free             8                50                 0  \n",
       "3              free             8                50                 0  \n",
       "4              free             8                50                 0  "
      ]
     },
     "execution_count": 186,
     "metadata": {},
     "output_type": "execute_result"
    }
   ],
   "source": [
    "data.head()"
   ]
  },
  {
   "cell_type": "code",
   "execution_count": 188,
   "id": "3c23b58a-e826-4067-9d86-9be1122c8823",
   "metadata": {},
   "outputs": [],
   "source": [
    "#Создами сводную таблицу методом pivot_table.\n",
    "#В ней отобразим суммарное расстояние, суммарное время и кол-во поездок за каждый месяц.\n",
    "#Методом reset_index() восстановим нормальную нумерацию строк\n",
    "data_revenue_calculation = data.pivot_table(index = ['user_id', 'month', 'minute_price', 'start_ride_price', 'subscription_type', 'subscription_fee'], \n",
    "                                            aggfunc = ({'distance':'sum', 'duration':'sum', 'date':'count'})).reset_index()"
   ]
  },
  {
   "cell_type": "code",
   "execution_count": 190,
   "id": "6e9e99d4-8703-49b8-887d-9eee82561c52",
   "metadata": {},
   "outputs": [
    {
     "data": {
      "text/html": [
       "<div>\n",
       "<style scoped>\n",
       "    .dataframe tbody tr th:only-of-type {\n",
       "        vertical-align: middle;\n",
       "    }\n",
       "\n",
       "    .dataframe tbody tr th {\n",
       "        vertical-align: top;\n",
       "    }\n",
       "\n",
       "    .dataframe thead th {\n",
       "        text-align: right;\n",
       "    }\n",
       "</style>\n",
       "<table border=\"1\" class=\"dataframe\">\n",
       "  <thead>\n",
       "    <tr style=\"text-align: right;\">\n",
       "      <th></th>\n",
       "      <th>user_id</th>\n",
       "      <th>month</th>\n",
       "      <th>minute_price</th>\n",
       "      <th>start_ride_price</th>\n",
       "      <th>subscription_type</th>\n",
       "      <th>subscription_fee</th>\n",
       "      <th>count_trips</th>\n",
       "      <th>distance</th>\n",
       "      <th>duration</th>\n",
       "    </tr>\n",
       "  </thead>\n",
       "  <tbody>\n",
       "    <tr>\n",
       "      <th>0</th>\n",
       "      <td>1</td>\n",
       "      <td>1</td>\n",
       "      <td>6</td>\n",
       "      <td>0</td>\n",
       "      <td>ultra</td>\n",
       "      <td>199</td>\n",
       "      <td>2</td>\n",
       "      <td>7027.511294</td>\n",
       "      <td>42.0</td>\n",
       "    </tr>\n",
       "    <tr>\n",
       "      <th>1</th>\n",
       "      <td>1</td>\n",
       "      <td>4</td>\n",
       "      <td>6</td>\n",
       "      <td>0</td>\n",
       "      <td>ultra</td>\n",
       "      <td>199</td>\n",
       "      <td>1</td>\n",
       "      <td>754.159807</td>\n",
       "      <td>7.0</td>\n",
       "    </tr>\n",
       "    <tr>\n",
       "      <th>2</th>\n",
       "      <td>1</td>\n",
       "      <td>8</td>\n",
       "      <td>6</td>\n",
       "      <td>0</td>\n",
       "      <td>ultra</td>\n",
       "      <td>199</td>\n",
       "      <td>2</td>\n",
       "      <td>6723.470560</td>\n",
       "      <td>46.0</td>\n",
       "    </tr>\n",
       "    <tr>\n",
       "      <th>3</th>\n",
       "      <td>1</td>\n",
       "      <td>10</td>\n",
       "      <td>6</td>\n",
       "      <td>0</td>\n",
       "      <td>ultra</td>\n",
       "      <td>199</td>\n",
       "      <td>2</td>\n",
       "      <td>5809.911100</td>\n",
       "      <td>32.0</td>\n",
       "    </tr>\n",
       "    <tr>\n",
       "      <th>4</th>\n",
       "      <td>1</td>\n",
       "      <td>11</td>\n",
       "      <td>6</td>\n",
       "      <td>0</td>\n",
       "      <td>ultra</td>\n",
       "      <td>199</td>\n",
       "      <td>3</td>\n",
       "      <td>7003.499363</td>\n",
       "      <td>56.0</td>\n",
       "    </tr>\n",
       "  </tbody>\n",
       "</table>\n",
       "</div>"
      ],
      "text/plain": [
       "   user_id  month  minute_price  start_ride_price subscription_type  \\\n",
       "0        1      1             6                 0             ultra   \n",
       "1        1      4             6                 0             ultra   \n",
       "2        1      8             6                 0             ultra   \n",
       "3        1     10             6                 0             ultra   \n",
       "4        1     11             6                 0             ultra   \n",
       "\n",
       "   subscription_fee  count_trips     distance  duration  \n",
       "0               199            2  7027.511294      42.0  \n",
       "1               199            1   754.159807       7.0  \n",
       "2               199            2  6723.470560      46.0  \n",
       "3               199            2  5809.911100      32.0  \n",
       "4               199            3  7003.499363      56.0  "
      ]
     },
     "execution_count": 190,
     "metadata": {},
     "output_type": "execute_result"
    }
   ],
   "source": [
    "#Для удобства переименуем столбец date на count_trips(кол-во поездок за месяц)\n",
    "data_revenue_calculation = data_revenue_calculation.rename(columns = {'date':'count_trips'})\n",
    "data_revenue_calculation.head()"
   ]
  },
  {
   "cell_type": "markdown",
   "id": "10c92702-2dae-4023-a3be-2a52e58a8299",
   "metadata": {},
   "source": [
    "Помесячную выручку посчитаем как: \n",
    "\n",
    "стоимость старта поездки * кол-во поездок + стои-ть одной минуты поездки * общая продол-ть всех поездок в минутах + стоимость подписки"
   ]
  },
  {
   "cell_type": "code",
   "execution_count": 193,
   "id": "797de195-4ff6-49f4-8435-9f3981175d88",
   "metadata": {},
   "outputs": [],
   "source": [
    "#Добавим столбец с помесячной выручкой \n",
    "data_revenue_calculation['profit'] = (data_revenue_calculation['start_ride_price'] * data_revenue_calculation['count_trips']) + \\\n",
    "(data_revenue_calculation['minute_price'] * data_revenue_calculation['duration']) + \\\n",
    " data_revenue_calculation['subscription_fee']"
   ]
  },
  {
   "cell_type": "code",
   "execution_count": 199,
   "id": "8ffc6296-6da0-41e9-ab49-cecf0f0b6392",
   "metadata": {},
   "outputs": [
    {
     "data": {
      "text/html": [
       "<div>\n",
       "<style scoped>\n",
       "    .dataframe tbody tr th:only-of-type {\n",
       "        vertical-align: middle;\n",
       "    }\n",
       "\n",
       "    .dataframe tbody tr th {\n",
       "        vertical-align: top;\n",
       "    }\n",
       "\n",
       "    .dataframe thead th {\n",
       "        text-align: right;\n",
       "    }\n",
       "</style>\n",
       "<table border=\"1\" class=\"dataframe\">\n",
       "  <thead>\n",
       "    <tr style=\"text-align: right;\">\n",
       "      <th></th>\n",
       "      <th>user_id</th>\n",
       "      <th>month</th>\n",
       "      <th>minute_price</th>\n",
       "      <th>start_ride_price</th>\n",
       "      <th>subscription_type</th>\n",
       "      <th>subscription_fee</th>\n",
       "      <th>count_trips</th>\n",
       "      <th>distance</th>\n",
       "      <th>duration</th>\n",
       "      <th>profit</th>\n",
       "    </tr>\n",
       "  </thead>\n",
       "  <tbody>\n",
       "    <tr>\n",
       "      <th>0</th>\n",
       "      <td>1</td>\n",
       "      <td>1</td>\n",
       "      <td>6</td>\n",
       "      <td>0</td>\n",
       "      <td>ultra</td>\n",
       "      <td>199</td>\n",
       "      <td>2</td>\n",
       "      <td>7027.511294</td>\n",
       "      <td>42.0</td>\n",
       "      <td>451.0</td>\n",
       "    </tr>\n",
       "    <tr>\n",
       "      <th>1</th>\n",
       "      <td>1</td>\n",
       "      <td>4</td>\n",
       "      <td>6</td>\n",
       "      <td>0</td>\n",
       "      <td>ultra</td>\n",
       "      <td>199</td>\n",
       "      <td>1</td>\n",
       "      <td>754.159807</td>\n",
       "      <td>7.0</td>\n",
       "      <td>241.0</td>\n",
       "    </tr>\n",
       "    <tr>\n",
       "      <th>2</th>\n",
       "      <td>1</td>\n",
       "      <td>8</td>\n",
       "      <td>6</td>\n",
       "      <td>0</td>\n",
       "      <td>ultra</td>\n",
       "      <td>199</td>\n",
       "      <td>2</td>\n",
       "      <td>6723.470560</td>\n",
       "      <td>46.0</td>\n",
       "      <td>475.0</td>\n",
       "    </tr>\n",
       "    <tr>\n",
       "      <th>3</th>\n",
       "      <td>1</td>\n",
       "      <td>10</td>\n",
       "      <td>6</td>\n",
       "      <td>0</td>\n",
       "      <td>ultra</td>\n",
       "      <td>199</td>\n",
       "      <td>2</td>\n",
       "      <td>5809.911100</td>\n",
       "      <td>32.0</td>\n",
       "      <td>391.0</td>\n",
       "    </tr>\n",
       "    <tr>\n",
       "      <th>4</th>\n",
       "      <td>1</td>\n",
       "      <td>11</td>\n",
       "      <td>6</td>\n",
       "      <td>0</td>\n",
       "      <td>ultra</td>\n",
       "      <td>199</td>\n",
       "      <td>3</td>\n",
       "      <td>7003.499363</td>\n",
       "      <td>56.0</td>\n",
       "      <td>535.0</td>\n",
       "    </tr>\n",
       "  </tbody>\n",
       "</table>\n",
       "</div>"
      ],
      "text/plain": [
       "   user_id  month  minute_price  start_ride_price subscription_type  \\\n",
       "0        1      1             6                 0             ultra   \n",
       "1        1      4             6                 0             ultra   \n",
       "2        1      8             6                 0             ultra   \n",
       "3        1     10             6                 0             ultra   \n",
       "4        1     11             6                 0             ultra   \n",
       "\n",
       "   subscription_fee  count_trips     distance  duration  profit  \n",
       "0               199            2  7027.511294      42.0   451.0  \n",
       "1               199            1   754.159807       7.0   241.0  \n",
       "2               199            2  6723.470560      46.0   475.0  \n",
       "3               199            2  5809.911100      32.0   391.0  \n",
       "4               199            3  7003.499363      56.0   535.0  "
      ]
     },
     "execution_count": 199,
     "metadata": {},
     "output_type": "execute_result"
    }
   ],
   "source": [
    "data_revenue_calculation.head()"
   ]
  },
  {
   "cell_type": "code",
   "execution_count": 201,
   "id": "8be847d5-a30c-4197-b7c0-b2c71650ef8b",
   "metadata": {},
   "outputs": [],
   "source": [
    "total_expenses = data_revenue_calculation.pivot_table(index = 'user_id', values = 'profit', aggfunc = 'sum')"
   ]
  },
  {
   "cell_type": "code",
   "execution_count": 151,
   "id": "271eddbc-ff69-4b74-af04-533fe15df7c1",
   "metadata": {},
   "outputs": [
    {
     "data": {
      "text/html": [
       "<div>\n",
       "<style scoped>\n",
       "    .dataframe tbody tr th:only-of-type {\n",
       "        vertical-align: middle;\n",
       "    }\n",
       "\n",
       "    .dataframe tbody tr th {\n",
       "        vertical-align: top;\n",
       "    }\n",
       "\n",
       "    .dataframe thead th {\n",
       "        text-align: right;\n",
       "    }\n",
       "</style>\n",
       "<table border=\"1\" class=\"dataframe\">\n",
       "  <thead>\n",
       "    <tr style=\"text-align: right;\">\n",
       "      <th></th>\n",
       "      <th>profit</th>\n",
       "    </tr>\n",
       "    <tr>\n",
       "      <th>user_id</th>\n",
       "      <th></th>\n",
       "    </tr>\n",
       "  </thead>\n",
       "  <tbody>\n",
       "    <tr>\n",
       "      <th>1</th>\n",
       "      <td>2421.629452</td>\n",
       "    </tr>\n",
       "    <tr>\n",
       "      <th>2</th>\n",
       "      <td>2578.865675</td>\n",
       "    </tr>\n",
       "    <tr>\n",
       "      <th>3</th>\n",
       "      <td>2792.161081</td>\n",
       "    </tr>\n",
       "    <tr>\n",
       "      <th>4</th>\n",
       "      <td>2925.381486</td>\n",
       "    </tr>\n",
       "    <tr>\n",
       "      <th>5</th>\n",
       "      <td>2636.443594</td>\n",
       "    </tr>\n",
       "  </tbody>\n",
       "</table>\n",
       "</div>"
      ],
      "text/plain": [
       "              profit\n",
       "user_id             \n",
       "1        2421.629452\n",
       "2        2578.865675\n",
       "3        2792.161081\n",
       "4        2925.381486\n",
       "5        2636.443594"
      ]
     },
     "execution_count": 151,
     "metadata": {},
     "output_type": "execute_result"
    }
   ],
   "source": [
    "total_expenses.head()"
   ]
  },
  {
   "cell_type": "code",
   "execution_count": 207,
   "id": "a272e40f-9012-4f4e-bb96-8b49ccf3edfd",
   "metadata": {},
   "outputs": [
    {
     "data": {
      "image/png": "[encoded data removed]",
      "text/plain": [
       "<Figure size 1500x800 with 2 Axes>"
      ]
     },
     "metadata": {},
     "output_type": "display_data"
    }
   ],
   "source": [
    "build_hist_boxplot(total_expenses/1000, 'profit', 'Суммарные траты пользователя за 2021 год', 'тыс.руб')"
   ]
  },
  {
   "cell_type": "code",
   "execution_count": 209,
   "id": "e2cfe22c-da99-4952-8b33-a49ad8504921",
   "metadata": {},
   "outputs": [
    {
     "data": {
      "text/html": [
       "<div>\n",
       "<style scoped>\n",
       "    .dataframe tbody tr th:only-of-type {\n",
       "        vertical-align: middle;\n",
       "    }\n",
       "\n",
       "    .dataframe tbody tr th {\n",
       "        vertical-align: top;\n",
       "    }\n",
       "\n",
       "    .dataframe thead th {\n",
       "        text-align: right;\n",
       "    }\n",
       "</style>\n",
       "<table border=\"1\" class=\"dataframe\">\n",
       "  <thead>\n",
       "    <tr style=\"text-align: right;\">\n",
       "      <th></th>\n",
       "      <th>profit</th>\n",
       "    </tr>\n",
       "  </thead>\n",
       "  <tbody>\n",
       "    <tr>\n",
       "      <th>count</th>\n",
       "      <td>1534.000000</td>\n",
       "    </tr>\n",
       "    <tr>\n",
       "      <th>mean</th>\n",
       "      <td>2528.449153</td>\n",
       "    </tr>\n",
       "    <tr>\n",
       "      <th>std</th>\n",
       "      <td>740.607283</td>\n",
       "    </tr>\n",
       "    <tr>\n",
       "      <th>min</th>\n",
       "      <td>626.000000</td>\n",
       "    </tr>\n",
       "    <tr>\n",
       "      <th>25%</th>\n",
       "      <td>2012.500000</td>\n",
       "    </tr>\n",
       "    <tr>\n",
       "      <th>50%</th>\n",
       "      <td>2497.000000</td>\n",
       "    </tr>\n",
       "    <tr>\n",
       "      <th>75%</th>\n",
       "      <td>3003.000000</td>\n",
       "    </tr>\n",
       "    <tr>\n",
       "      <th>max</th>\n",
       "      <td>5022.000000</td>\n",
       "    </tr>\n",
       "  </tbody>\n",
       "</table>\n",
       "</div>"
      ],
      "text/plain": [
       "            profit\n",
       "count  1534.000000\n",
       "mean   2528.449153\n",
       "std     740.607283\n",
       "min     626.000000\n",
       "25%    2012.500000\n",
       "50%    2497.000000\n",
       "75%    3003.000000\n",
       "max    5022.000000"
      ]
     },
     "execution_count": 209,
     "metadata": {},
     "output_type": "execute_result"
    }
   ],
   "source": [
    "total_expenses.describe()"
   ]
  },
  {
   "cell_type": "markdown",
   "id": "a0c327b6-a223-4a66-95d0-889be1ca5bb9",
   "metadata": {},
   "source": [
    "Чаще всего за 2021 год пользователь суммарно отдавал примерно 2500 - 2900 рублей."
   ]
  },
  {
   "cell_type": "code",
   "execution_count": 43,
   "id": "fafa147b-a959-49c7-95c7-1f76d5a70dec",
   "metadata": {},
   "outputs": [
    {
     "data": {
      "text/html": [
       "<div>\n",
       "<style scoped>\n",
       "    .dataframe tbody tr th:only-of-type {\n",
       "        vertical-align: middle;\n",
       "    }\n",
       "\n",
       "    .dataframe tbody tr th {\n",
       "        vertical-align: top;\n",
       "    }\n",
       "\n",
       "    .dataframe thead th {\n",
       "        text-align: right;\n",
       "    }\n",
       "</style>\n",
       "<table border=\"1\" class=\"dataframe\">\n",
       "  <thead>\n",
       "    <tr style=\"text-align: right;\">\n",
       "      <th></th>\n",
       "      <th>profit</th>\n",
       "    </tr>\n",
       "  </thead>\n",
       "  <tbody>\n",
       "    <tr>\n",
       "      <th>count</th>\n",
       "      <td>12.000000</td>\n",
       "    </tr>\n",
       "    <tr>\n",
       "      <th>mean</th>\n",
       "      <td>323220.083333</td>\n",
       "    </tr>\n",
       "    <tr>\n",
       "      <th>std</th>\n",
       "      <td>13849.383731</td>\n",
       "    </tr>\n",
       "    <tr>\n",
       "      <th>min</th>\n",
       "      <td>290428.000000</td>\n",
       "    </tr>\n",
       "    <tr>\n",
       "      <th>25%</th>\n",
       "      <td>321027.000000</td>\n",
       "    </tr>\n",
       "    <tr>\n",
       "      <th>50%</th>\n",
       "      <td>325875.500000</td>\n",
       "    </tr>\n",
       "    <tr>\n",
       "      <th>75%</th>\n",
       "      <td>331361.000000</td>\n",
       "    </tr>\n",
       "    <tr>\n",
       "      <th>max</th>\n",
       "      <td>337958.000000</td>\n",
       "    </tr>\n",
       "  </tbody>\n",
       "</table>\n",
       "</div>"
      ],
      "text/plain": [
       "              profit\n",
       "count      12.000000\n",
       "mean   323220.083333\n",
       "std     13849.383731\n",
       "min    290428.000000\n",
       "25%    321027.000000\n",
       "50%    325875.500000\n",
       "75%    331361.000000\n",
       "max    337958.000000"
      ]
     },
     "execution_count": 43,
     "metadata": {},
     "output_type": "execute_result"
    },
    {
     "data": {
      "image/png": "[encoded data removed]",
      "text/plain": [
       "<Figure size 432x288 with 1 Axes>"
      ]
     },
     "metadata": {
      "needs_background": "light"
     },
     "output_type": "display_data"
    }
   ],
   "source": [
    "#Оценим как распеределяется выручка по месяцам\n",
    "data_revenue_calculation.pivot_table(index = 'month', values = 'profit', aggfunc = 'sum').plot(kind = 'bar', title = 'Суммарная выручка', legend = False,\n",
    "                                                                                              xlabel = 'Месяц', ylabel = 'Выручка(в рублях)')\n",
    "data_revenue_calculation.pivot_table(index = 'month', values = 'profit', aggfunc = 'sum').describe()"
   ]
  },
  {
   "cell_type": "markdown",
   "id": "61350ba8-5407-4dd8-a7b2-2409bf348185",
   "metadata": {},
   "source": [
    "Меньше всего получилось заработать в февраля месяце. Хотя в январе была достигнута маскимальная выручка."
   ]
  },
  {
   "cell_type": "markdown",
   "id": "cdbf59d5-eb3a-4bc8-badc-e2b9486d1255",
   "metadata": {},
   "source": [
    "## 6 Проверк гипотез"
   ]
  },
  {
   "cell_type": "markdown",
   "id": "9bb42db7-bacc-4e3a-8377-3e2799f1343c",
   "metadata": {},
   "source": [
    "### 6.1 "
   ]
  },
  {
   "cell_type": "markdown",
   "id": "2679a175-83e3-4908-866b-fff1540701c9",
   "metadata": {},
   "source": [
    "Нужно проверить гипотезу: тратят ли пользователи с подпиской больше времени на поездки?\n",
    "\n",
    "Нулевая гипотеза: средние время поездки двух категорий пользователей равны\n",
    "\n",
    "Альтернативная гипотеза: Пользователи с подпсисокй тратят больше времени на поездки чем пользователи без подписки"
   ]
  },
  {
   "cell_type": "code",
   "execution_count": 44,
   "id": "3db4907c-9108-48e0-91cb-d157df91a878",
   "metadata": {},
   "outputs": [
    {
     "name": "stdout",
     "output_type": "stream",
     "text": [
      "count    11568.000000\n",
      "mean        17.390909\n",
      "std          6.326803\n",
      "min          0.500000\n",
      "25%         12.958437\n",
      "50%         17.326890\n",
      "75%         21.594071\n",
      "max         34.948498\n",
      "Name: duration, dtype: float64\n"
     ]
    },
    {
     "data": {
      "image/png": "[encoded data removed]",
      "text/plain": [
       "<Figure size 432x288 with 1 Axes>"
      ]
     },
     "metadata": {
      "needs_background": "light"
     },
     "output_type": "display_data"
    },
    {
     "name": "stdout",
     "output_type": "stream",
     "text": [
      "count    6500.000000\n",
      "mean       18.541985\n",
      "std         5.572048\n",
      "min         3.760353\n",
      "25%        14.524654\n",
      "50%        18.178153\n",
      "75%        21.884129\n",
      "max        40.823963\n",
      "Name: duration, dtype: float64\n"
     ]
    },
    {
     "data": {
      "image/png": "[encoded data removed]",
      "text/plain": [
       "<Figure size 432x288 with 1 Axes>"
      ]
     },
     "metadata": {
      "needs_background": "light"
     },
     "output_type": "display_data"
    }
   ],
   "source": [
    "data_free['duration'].plot(kind = 'hist', title = 'Продолжительноси поездки без подписки', xlabel = 'время(в минутах)')\n",
    "print(data_free['duration'].describe())\n",
    "plt.show()\n",
    "data_ultra['duration'].plot(kind = 'hist', title = 'Продолжительноси поездки с подпиской', xlabel = 'время(в минутах)')\n",
    "print(data_ultra['duration'].describe())\n",
    "plt.show()"
   ]
  },
  {
   "cell_type": "code",
   "execution_count": 45,
   "id": "d95bb7bd-c3d3-4ca8-8030-cff676c78937",
   "metadata": {},
   "outputs": [
    {
     "name": "stdout",
     "output_type": "stream",
     "text": [
      "p-value: 1.2804098316645618e-34\n",
      "Отвергаем нулевую гипотезу\n"
     ]
    }
   ],
   "source": [
    "alpha = 0.05 # уровень статистической значимости\n",
    "\n",
    "# проводим ttest для двух выборок, в качестве альтернативной используем одностороннюю гипотезу «больше»\n",
    "results = st.ttest_ind(data_ultra['duration'], data_free['duration'], alternative='greater')\n",
    "\n",
    "print(f'p-value: {results.pvalue}')\n",
    "\n",
    "# проверяем p-value\n",
    "if results.pvalue < alpha:\n",
    "    print('Отвергаем нулевую гипотезу')\n",
    "else:\n",
    "    print('Нет оснований отвергнуть нулевую гипотезу')"
   ]
  },
  {
   "cell_type": "markdown",
   "id": "208f02f9-687c-4bcd-8368-41c8cc10686f",
   "metadata": {},
   "source": [
    "Нулевую гипотезу отвергаем, так как есть основания, что пользватели с подпсиской тратят больше времени на поездки, соотвественно они будет более выгодны для компании."
   ]
  },
  {
   "cell_type": "markdown",
   "id": "cc64a614-85a4-453d-b771-17f11386d74f",
   "metadata": {},
   "source": [
    "### 6.2"
   ]
  },
  {
   "cell_type": "markdown",
   "id": "ad6d4048-e19f-4aae-bd99-ac7ffe6c72c4",
   "metadata": {},
   "source": [
    "Нулевая гипотеза: Среднее расстояние которое проезжают пользователи с подпиской за одну поездку не превышает 3130 метров.\n",
    "\n",
    "Альтернативная гипотеза: Среднее расстояние за 1 поездку больше 3130 метров."
   ]
  },
  {
   "cell_type": "code",
   "execution_count": 46,
   "id": "ce91ab20-afd3-47ee-959d-967df2c4eec7",
   "metadata": {},
   "outputs": [
    {
     "data": {
      "text/plain": [
       "count    6500.000000\n",
       "mean     3115.445388\n",
       "std       836.895330\n",
       "min       244.210438\n",
       "25%      2785.444017\n",
       "50%      3148.637229\n",
       "75%      3560.574425\n",
       "max      5699.769662\n",
       "Name: distance, dtype: float64"
      ]
     },
     "execution_count": 46,
     "metadata": {},
     "output_type": "execute_result"
    },
    {
     "data": {
      "image/png": "[encoded data removed]",
      "text/plain": [
       "<Figure size 432x288 with 1 Axes>"
      ]
     },
     "metadata": {
      "needs_background": "light"
     },
     "output_type": "display_data"
    }
   ],
   "source": [
    "#Наглядно оценим какие расстояния пользователи с платной подпиской совершают за 1 поездку\n",
    "data_ultra['distance'].plot(kind = 'hist', title = 'Расстояния поездок пользователей с подпиской', xlabel = 'Кол-во метров', ylabel = 'Частота')\n",
    "data_ultra['distance'].describe()"
   ]
  },
  {
   "cell_type": "code",
   "execution_count": 47,
   "id": "1999b05a-235d-4b43-948c-7f3e5f04d9e8",
   "metadata": {},
   "outputs": [
    {
     "name": "stdout",
     "output_type": "stream",
     "text": [
      "p-значение: 0.9195368847849785\n",
      "Не получилось отвергнуть нулевую гипотезу: расстояние за 1 поездку удовлетворяет оптимальному\n"
     ]
    }
   ],
   "source": [
    "interested_value = 3130# оптимальнре расстояние для износа самоката\n",
    "alpha = 0.05# уровень статистической значимости\n",
    "\n",
    "#Используем ttest_1samp с односторонним вправо\n",
    "results = st.ttest_1samp(data_ultra['distance'], interested_value, alternative='greater')\n",
    "\n",
    "print('p-значение:', results.pvalue)\n",
    "\n",
    "if results.pvalue < alpha:\n",
    "    print('Отвергаем нулевую гипотезу: Расстоние превышает 3130 метров')\n",
    "else:\n",
    "    print('Не получилось отвергнуть нулевую гипотезу: расстояние за 1 поездку удовлетворяет оптимальному')"
   ]
  },
  {
   "cell_type": "markdown",
   "id": "06f3f0a1-3d33-4b97-a245-fcfab19652b1",
   "metadata": {},
   "source": [
    "Нулевую гипотезу не отвергаем, пользователи с платной подпиской преодолевают оптимальные расстояния для самоката."
   ]
  },
  {
   "cell_type": "markdown",
   "id": "372fc7c8-9214-4016-9a52-41fcc6c25089",
   "metadata": {},
   "source": [
    "### 6.3"
   ]
  },
  {
   "cell_type": "markdown",
   "id": "75ab7a9e-204a-4310-868a-0e7e3bf99a8e",
   "metadata": {},
   "source": [
    "Нулевая гипотеза: Помесячная выручка от пользователей с подпиской и без подписки равна\n",
    "\n",
    "Альтернативная гипотеза: Помесячная выручка от пользователей с подпиской по месяцам выше, чем от пользователей без подписки."
   ]
  },
  {
   "cell_type": "code",
   "execution_count": 48,
   "id": "d52e7ec9-f691-4ee4-9e1a-60bf5a2f7c3e",
   "metadata": {},
   "outputs": [
    {
     "data": {
      "text/html": [
       "<div>\n",
       "<style scoped>\n",
       "    .dataframe tbody tr th:only-of-type {\n",
       "        vertical-align: middle;\n",
       "    }\n",
       "\n",
       "    .dataframe tbody tr th {\n",
       "        vertical-align: top;\n",
       "    }\n",
       "\n",
       "    .dataframe thead th {\n",
       "        text-align: right;\n",
       "    }\n",
       "</style>\n",
       "<table border=\"1\" class=\"dataframe\">\n",
       "  <thead>\n",
       "    <tr style=\"text-align: right;\">\n",
       "      <th>subscription_type</th>\n",
       "      <th>month</th>\n",
       "      <th>free</th>\n",
       "      <th>ultra</th>\n",
       "    </tr>\n",
       "  </thead>\n",
       "  <tbody>\n",
       "    <tr>\n",
       "      <th>0</th>\n",
       "      <td>1</td>\n",
       "      <td>193850.0</td>\n",
       "      <td>144108.0</td>\n",
       "    </tr>\n",
       "    <tr>\n",
       "      <th>1</th>\n",
       "      <td>2</td>\n",
       "      <td>165856.0</td>\n",
       "      <td>124572.0</td>\n",
       "    </tr>\n",
       "    <tr>\n",
       "      <th>2</th>\n",
       "      <td>3</td>\n",
       "      <td>187214.0</td>\n",
       "      <td>142608.0</td>\n",
       "    </tr>\n",
       "    <tr>\n",
       "      <th>3</th>\n",
       "      <td>4</td>\n",
       "      <td>185598.0</td>\n",
       "      <td>137318.0</td>\n",
       "    </tr>\n",
       "    <tr>\n",
       "      <th>4</th>\n",
       "      <td>5</td>\n",
       "      <td>188030.0</td>\n",
       "      <td>149235.0</td>\n",
       "    </tr>\n",
       "    <tr>\n",
       "      <th>5</th>\n",
       "      <td>6</td>\n",
       "      <td>192144.0</td>\n",
       "      <td>143834.0</td>\n",
       "    </tr>\n",
       "    <tr>\n",
       "      <th>6</th>\n",
       "      <td>7</td>\n",
       "      <td>185038.0</td>\n",
       "      <td>143466.0</td>\n",
       "    </tr>\n",
       "    <tr>\n",
       "      <th>7</th>\n",
       "      <td>8</td>\n",
       "      <td>187116.0</td>\n",
       "      <td>138534.0</td>\n",
       "    </tr>\n",
       "    <tr>\n",
       "      <th>8</th>\n",
       "      <td>9</td>\n",
       "      <td>193700.0</td>\n",
       "      <td>129337.0</td>\n",
       "    </tr>\n",
       "    <tr>\n",
       "      <th>9</th>\n",
       "      <td>10</td>\n",
       "      <td>181428.0</td>\n",
       "      <td>133932.0</td>\n",
       "    </tr>\n",
       "    <tr>\n",
       "      <th>10</th>\n",
       "      <td>11</td>\n",
       "      <td>179076.0</td>\n",
       "      <td>126546.0</td>\n",
       "    </tr>\n",
       "    <tr>\n",
       "      <th>11</th>\n",
       "      <td>12</td>\n",
       "      <td>195054.0</td>\n",
       "      <td>131047.0</td>\n",
       "    </tr>\n",
       "  </tbody>\n",
       "</table>\n",
       "</div>"
      ],
      "text/plain": [
       "subscription_type  month      free     ultra\n",
       "0                      1  193850.0  144108.0\n",
       "1                      2  165856.0  124572.0\n",
       "2                      3  187214.0  142608.0\n",
       "3                      4  185598.0  137318.0\n",
       "4                      5  188030.0  149235.0\n",
       "5                      6  192144.0  143834.0\n",
       "6                      7  185038.0  143466.0\n",
       "7                      8  187116.0  138534.0\n",
       "8                      9  193700.0  129337.0\n",
       "9                     10  181428.0  133932.0\n",
       "10                    11  179076.0  126546.0\n",
       "11                    12  195054.0  131047.0"
      ]
     },
     "execution_count": 48,
     "metadata": {},
     "output_type": "execute_result"
    }
   ],
   "source": [
    "#Создадим переменную data_pofit в который сохраним таблицу с помесячной выручкой для разного типа подписки\n",
    "data_profit = data_revenue_calculation.pivot_table(index = 'month', columns = 'subscription_type', values = 'profit', aggfunc = 'sum').reset_index()\n",
    "data_profit"
   ]
  },
  {
   "cell_type": "code",
   "execution_count": 49,
   "id": "8a1144ef-7ed9-4441-95ce-cf9783db3817",
   "metadata": {},
   "outputs": [
    {
     "data": {
      "image/png": "[encoded data removed]",
      "text/plain": [
       "<Figure size 1080x576 with 1 Axes>"
      ]
     },
     "metadata": {
      "needs_background": "light"
     },
     "output_type": "display_data"
    }
   ],
   "source": [
    "#С помощию библиотеки matplotlib создам столбчатые диаграмм, где покажем помесячную выручку пользователей с подпиской и без\n",
    "fig, ax = plt.subplots(figsize=(15, 8)) #  одна строка вместо двух:\n",
    "                                        #  fig = plt.figure()\n",
    "                                        #  ax = fig.add_subplot()\n",
    "\n",
    "# Получаем кол-во месяцев и ширину каждого столбца\n",
    "num_stores = len(data_profit.index)\n",
    "bar_width = 0.2\n",
    "\n",
    "# Создаем массив индексов по месяцам(1,2,3....12)\n",
    "index = np.arange(num_stores)\n",
    "# Построение гистограммы для разных подписок\n",
    "for i, product in [(0 ,'free'), (1, 'ultra')]:\n",
    "    ax.bar(index + i* bar_width, data_profit[product], bar_width, label=product)\n",
    "\n",
    "ax.set_xlabel('Месяц')\n",
    "ax.set_ylabel('Суммарная прибыль за месяц')\n",
    "ax.set_title('Суммарная выручка от пользователей с подпиской и без подписки')\n",
    "ax.set_xticks(index + bar_width / 2)\n",
    "ax.set_xticklabels(data_profit.index)\n",
    "ax.legend(title='Вид подписки') # добавляем легенду\n",
    "ax.grid(True)\n",
    "plt.show()\n"
   ]
  },
  {
   "cell_type": "markdown",
   "id": "dd6e6107-ec5e-4dd3-a309-cae921533672",
   "metadata": {},
   "source": [
    "Помесячная выручка от пользователей без подписки всегда выше, чем у пользователей с подпиской.\n",
    "\n",
    "Так как пользователей без подписки гораздо больше, соответсвенно, прибыль выше. \n",
    "\n",
    "Нужно смотреть сколько в среднем выручка от одного пользователя с подпиской и без."
   ]
  },
  {
   "cell_type": "code",
   "execution_count": 50,
   "id": "78d19e51-4022-40b0-a657-fa21314a4246",
   "metadata": {},
   "outputs": [
    {
     "name": "stdout",
     "output_type": "stream",
     "text": [
      "count    4533.000000\n",
      "mean      362.792191\n",
      "std        88.262737\n",
      "min       223.000000\n",
      "25%       301.000000\n",
      "50%       337.000000\n",
      "75%       409.000000\n",
      "max       955.000000\n",
      "Name: profit, dtype: float64\n"
     ]
    },
    {
     "data": {
      "text/plain": [
       "<AxesSubplot:title={'center':'Траты пользователей с подпиской'}, ylabel='Frequency'>"
      ]
     },
     "execution_count": 50,
     "metadata": {},
     "output_type": "execute_result"
    },
    {
     "data": {
      "image/png": "[encoded data removed]",
      "text/plain": [
       "<Figure size 432x288 with 1 Axes>"
      ]
     },
     "metadata": {
      "needs_background": "light"
     },
     "output_type": "display_data"
    }
   ],
   "source": [
    "print(data_revenue_calculation.query('subscription_type == \"ultra\"')['profit'].describe())\n",
    "data_revenue_calculation.query('subscription_type == \"ultra\"')['profit'].plot(kind = 'hist', title = 'Траты пользователей с подпиской',\n",
    "                                                                             xlabel = 'Кол-во рублей', ylabel = 'Частота')"
   ]
  },
  {
   "cell_type": "code",
   "execution_count": 51,
   "id": "0fd4426b-d6db-400e-bd5b-b1c5305f5b7e",
   "metadata": {},
   "outputs": [
    {
     "name": "stdout",
     "output_type": "stream",
     "text": [
      "count    6798.000000\n",
      "mean      328.641365\n",
      "std       183.868330\n",
      "min        58.000000\n",
      "25%       194.000000\n",
      "50%       274.000000\n",
      "75%       428.000000\n",
      "max      1444.000000\n",
      "Name: profit, dtype: float64\n"
     ]
    },
    {
     "data": {
      "text/plain": [
       "<AxesSubplot:title={'center':'Траты пользователей без подписки'}, ylabel='Frequency'>"
      ]
     },
     "execution_count": 51,
     "metadata": {},
     "output_type": "execute_result"
    },
    {
     "data": {
      "image/png": "[encoded data removed]",
      "text/plain": [
       "<Figure size 432x288 with 1 Axes>"
      ]
     },
     "metadata": {
      "needs_background": "light"
     },
     "output_type": "display_data"
    }
   ],
   "source": [
    "print(data_revenue_calculation.query('subscription_type == \"free\"')['profit'].describe())\n",
    "data_revenue_calculation.query('subscription_type == \"free\"')['profit'].plot(kind = 'hist', title = 'Траты пользователей без подписки',\n",
    "                                                                             xlabel = 'Кол-во рублей', ylabel = 'Частота')"
   ]
  },
  {
   "cell_type": "markdown",
   "id": "1823e732-b9d7-422e-b6cf-841d17681890",
   "metadata": {},
   "source": [
    "В итоге получаем, что в среднем на одного пользователя с подпсиской(331 руб.) прибыли больше чем от пользователя без подписки(268 руб.). "
   ]
  },
  {
   "cell_type": "code",
   "execution_count": 52,
   "id": "9d95eb79-301f-476a-a688-13db1afdcb44",
   "metadata": {},
   "outputs": [
    {
     "name": "stdout",
     "output_type": "stream",
     "text": [
      "p-value: 8.874140893976874e-40\n",
      "Отвергаем нулевую гипотезу\n"
     ]
    }
   ],
   "source": [
    "alpha = 0.05 # уровень статистической значимости\n",
    "\n",
    "# проводим ttest для двух выборок, в качестве альтернативной используем одностороннюю гипотезу «больше»\n",
    "results = st.ttest_ind(data_revenue_calculation.query('subscription_type == \"ultra\"')['profit'],\n",
    "                       data_revenue_calculation.query('subscription_type == \"free\"')['profit'], equal_var= False, alternative='greater')\n",
    "\n",
    "print(f'p-value: {results.pvalue}')\n",
    "\n",
    "# проверяем p-value\n",
    "if results.pvalue < alpha:\n",
    "    print('Отвергаем нулевую гипотезу')\n",
    "else:\n",
    "    print('Нет оснований отвергнуть нулевую гипотезу')"
   ]
  },
  {
   "cell_type": "markdown",
   "id": "33f1688b-b896-4423-9286-35e2b8ba0947",
   "metadata": {},
   "source": [
    "В итоге отвергаем нулевую гипотезу, получаем, что помесячная выручка от пользователей с подпиской выше.\n"
   ]
  },
  {
   "cell_type": "markdown",
   "id": "c651a01c-be58-4203-9b7b-271d86d37382",
   "metadata": {},
   "source": [
    "### 6.4 "
   ]
  },
  {
   "cell_type": "markdown",
   "id": "863c5bb9-6f89-4b7d-88f3-d3e02a02876f",
   "metadata": {},
   "source": [
    "Техническая команда обновила сервера. Она надеется, что после этого кол-во обращений в поддержку уменьшится. Есть данные до и после обновления. Какой тест понадобится для проверки гипотезы?\n",
    "\n",
    "Мы будем проверять равны ли средние совокупности до и после изменения. \n",
    "\n",
    "Нулевая гипотеза: они равны;\n",
    "\n",
    "Альтернативная: не равны;\n",
    "\n",
    "Чтобы проверить гипотезы о равенстве средней генеральной совокупности для зависимых выборок, применяют метод `scipy.stats.ttest_rel()`, где в качестве параметров передаются два аргумента: набор данных до и после.\n",
    "\n"
   ]
  },
  {
   "cell_type": "markdown",
   "id": "7be7b139-4aff-4af7-9dc4-26f1944e7e38",
   "metadata": {},
   "source": [
    "## 7 Распределение"
   ]
  },
  {
   "cell_type": "markdown",
   "id": "8939bd51-546c-4351-954c-94739a9f33f8",
   "metadata": {},
   "source": [
    "### 7.1"
   ]
  },
  {
   "cell_type": "markdown",
   "id": "8473f03c-0da1-44e2-9496-d7c0040cccdc",
   "metadata": {},
   "source": [
    "Отделу маркетинга GoFast поставили задачу: нужно провести акцию с раздачей промокодов на один бесплатный месяц подписки, в рамках которой как минимум 100 существующих клиентов должны продлить эту подписку. То есть по завершении периода действия подписки пользователь может либо отказаться от неё, либо продлить, совершив соответствующий платёж. \n",
    "\n",
    "Эта акция уже проводилась ранее и по итогу выяснилось, что после бесплатного пробного периода подписку продлевают 10 % пользователей. Выясните, какое минимальное количество промокодов нужно разослать, чтобы вероятность не выполнить план была примерно 5 %. Подберите параметры распределения, описывающего эту ситуацию, постройте график распределения и сформулируйте ответ на вопрос о количестве промокодов.\n"
   ]
  },
  {
   "cell_type": "code",
   "execution_count": 53,
   "id": "6c8652fd-5fd8-4746-817f-41b05ef03e61",
   "metadata": {},
   "outputs": [
    {
     "name": "stdout",
     "output_type": "stream",
     "text": [
      "1167\n",
      "1168\n",
      "1169\n",
      "1170\n",
      "1171\n",
      "1172\n",
      "1173\n",
      "1174\n",
      "1175\n",
      "1176\n"
     ]
    }
   ],
   "source": [
    "# найдем с помощью метода cdf минимальное кол-во промокодов, чтобы вероятность не выполнить план была примерно 5%\n",
    "# k = 100 - минимальное кол-во пользователь которые продлят подписку\n",
    "# p = 0.1 - веро-ть успеха\n",
    "for i in range(0, 2000):\n",
    "    if binom.cdf(100, i, 0.1).round(2) == 0.05:\n",
    "        print(i)"
   ]
  },
  {
   "cell_type": "markdown",
   "id": "ea941f6d-006b-44c9-a4ea-e80f4b881add",
   "metadata": {},
   "source": [
    "Получается что минимальное кол-во промокодов = 1167 \n",
    "\n",
    "Нарисуем график распределения с параметрами биномиального распределения n = 1167 и p = 0.1"
   ]
  },
  {
   "cell_type": "code",
   "execution_count": 54,
   "id": "4355fbc8-c7f0-45cb-964b-aebef83544c9",
   "metadata": {},
   "outputs": [
    {
     "name": "stderr",
     "output_type": "stream",
     "text": [
      "/opt/conda/lib/python3.9/site-packages/scipy/stats/_discrete_distns.py:78: RuntimeWarning: divide by zero encountered in _binom_pdf\n",
      "  return _boost._binom_pdf(x, n, p)\n"
     ]
    },
    {
     "data": {
      "text/plain": [
       "Text(0, 0.5, 'Вероятность')"
      ]
     },
     "execution_count": 54,
     "metadata": {},
     "output_type": "execute_result"
    },
    {
     "data": {
      "image/png": "[encoded data removed]",
      "text/plain": [
       "<Figure size 432x288 with 1 Axes>"
      ]
     },
     "metadata": {
      "needs_background": "light"
     },
     "output_type": "display_data"
    }
   ],
   "source": [
    "n = 1167 # количество попыток\n",
    "p = 0.9 # вероятность успеха\n",
    "\n",
    "distr = []\n",
    "\n",
    "for k in range(0, n + 1):\n",
    "    current_value = binom.pmf(k, n, p)\n",
    "    distr.append(current_value)\n",
    "    \n",
    "plt.plot(range(0, n + 1), distr)\n",
    "plt.title('Биномиальное распределения оптимального кол-ва промокодов')\n",
    "plt.xlabel('Кол-во промокодов')\n",
    "plt.ylabel('Вероятность')\n"
   ]
  },
  {
   "cell_type": "markdown",
   "id": "fdc1967e-eab2-4a65-baa4-68d9edd97fbe",
   "metadata": {},
   "source": [
    "В итоге получаем, нужно разослать минимум 1167 промокодов,чтобы вероятность не выполнить план равнялась примерно 5%."
   ]
  },
  {
   "cell_type": "markdown",
   "id": "4c9ef404-e920-4e29-bbaa-83bdbdaf81a9",
   "metadata": {},
   "source": [
    "### 7.2"
   ]
  },
  {
   "cell_type": "markdown",
   "id": "1c98ad15-4d2e-4c26-868e-58535cd9c96a",
   "metadata": {},
   "source": [
    "Отдел маркетинга рассылает клиентам push-уведомления в мобильном приложении. Клиенты могут открыть его или не открывать. Известно, что уведомления открывают около 40 % получивших клиентов. Отдел планирует разослать 11 млн уведомлений. С помощью аппроксимации постройте примерный график распределения и оцените вероятность того, что уведомление откроют не более 399,5 тыс. пользователей."
   ]
  },
  {
   "cell_type": "code",
   "execution_count": 55,
   "id": "434357a2-2f39-4372-ae0e-80c737f8db9c",
   "metadata": {},
   "outputs": [
    {
     "data": {
      "image/png": "[encoded data removed]",
      "text/plain": [
       "<Figure size 432x288 with 1 Axes>"
      ]
     },
     "metadata": {
      "needs_background": "light"
     },
     "output_type": "display_data"
    },
    {
     "name": "stdout",
     "output_type": "stream",
     "text": [
      "Условие выполняется\n"
     ]
    }
   ],
   "source": [
    "#зададим функцию, которая выдаёт <num> чисел,\n",
    "# равномерно распределённых от <start> до <stop>\n",
    "# (понадобится для визуализации нормального распределения)\n",
    "def linspace(start, stop, num):\n",
    "    step = (stop - start) / (num - 1)\n",
    "    result = []\n",
    "    for i in range(num):\n",
    "        result.append(start + step * i)\n",
    "    return result\n",
    " \n",
    "# задаём параметры биномиального распределения\n",
    "n = 1000000\n",
    "p = 0.4\n",
    "\n",
    "# границы промежутка, в котором будем строить аппроксимацию -\n",
    "# от n*p минус 4 ст.отклонения бином.распределения\n",
    "# до n*p плюс 4 ст.отклонения бином.распределения\n",
    "# (там, где вероятности значений почти не равны нулю)\n",
    "left = int(n * p - 4 * sqrt(n * p * (1 - p)))\n",
    "right = int(n * p + 4 * sqrt(n * p * (1 - p)))\n",
    " \n",
    "# зададим набор значений биномиальной величины на выбранном промежутке:\n",
    "# все неотрицательные целые числа от left до right\n",
    "x = list(range(max(0, left), right))\n",
    "# рисуем график биномиального распределения\n",
    "ax = plt.subplot()\n",
    "\n",
    "# используем синие о-образные маркеры и размер маркера 5\n",
    "ax.plot(x, binom.pmf(x, n, p), 'bo', ms=5,\n",
    "\t      label='вероятности биномиального распределения')\n",
    "\n",
    "# зададим мат.ожидание и ст.отклонение нормального распределения равными\n",
    "# мат.ожиданию и ст.отклонению биномиального распределения\n",
    "mu = n * p\n",
    "sigma = sqrt(n * p * (1 - p))\n",
    " \n",
    "# рисуем график нормального распределения:\n",
    "# получим список из 100 чисел от left до right\n",
    "x = linspace(left, right, 100)\n",
    "# используем красную линию ширины 3 и прозрачности 0.3\n",
    "ax.plot(x, norm.pdf(x, mu, sigma), 'r-', lw=3, alpha=0.3, label='плотность вероятности нормального распределения')\n",
    " \n",
    "# зададим подписи по оси x в пределах ± 3 ст.отклонений от мат.ожидания\n",
    "# (последний аргумент в методе range - интервал между подписями)\n",
    "x_ticks = list(range(int(mu - 3 * sigma), int(mu + 3 * sigma), 500))\n",
    "ax.set_xticks(x_ticks)\n",
    "\n",
    "# настраиваем оптимальное расположение легенды и выводим график\n",
    "ax.legend(loc='best')\n",
    "plt.title('Аппроксимация биномиального распределения')\n",
    "plt.xlabel('Кол-во пользователей')\n",
    "plt.ylabel('Вероятность')\n",
    "plt.show()\n",
    "\n",
    "# выводим, выполняется ли наше условие аппроксимации:\n",
    "# лежит ли mu ± 3 sigma в промежутке от 0 до n:\n",
    "if (mu - (3 * sigma) >= 0) and ((mu + (3 * sigma) <= n)):\n",
    "    print('Условие выполняется')\n",
    "else:\n",
    "    print('Условие не выполняется')"
   ]
  },
  {
   "cell_type": "code",
   "execution_count": 56,
   "id": "0555b016-d434-4e53-bc15-7a1250311998",
   "metadata": {},
   "outputs": [
    {
     "name": "stdout",
     "output_type": "stream",
     "text": [
      "Вероятность, что уведомления откроют не более 399.5 тыс. пользователей: 15.4 процентов\n"
     ]
    }
   ],
   "source": [
    "#Определим вероятность, что уведомления откроют не более 399.5 тыс. пользователей.\n",
    "print('Вероятность, что уведомления откроют не более 399.5 тыс. пользователей:', (st.norm(mu, sigma).cdf(399500)*100).round(1), 'процентов')"
   ]
  },
  {
   "cell_type": "markdown",
   "id": "c332b4a3-6112-44d2-9591-f7a1ce1621c0",
   "metadata": {},
   "source": [
    "## Вывод"
   ]
  },
  {
   "cell_type": "markdown",
   "id": "e7399da9-552c-45cf-89d3-16eca117111b",
   "metadata": {},
   "source": [
    "1) Загрузили данные о пользовтелях и их поездках .\n",
    "\n",
    "2) Провели предобработку данных, пропуски не выявлены, удалены дубликаты.\n",
    "\n",
    "3) Исследоветельский анализ показал:\n",
    "- Аномальных значений не выявлено, серьёзных выбросов не обнаружено\n",
    "- В Пятигорске больше всех пользуются услугами аренды самоката, в Москве меньше всех;\n",
    "- 54.43% пользователей без подписки, 45.57% пользователей с подпиской;\n",
    "- Чаще всего встречаются пользователи возрастом 25 лет\n",
    "- В основном проезжают расстояния в пределах 3100 - 3200 метров\n",
    "- Время 1 поездки в основном 14 - 21 минут\n",
    "\n",
    "4) Объединили все данные о пользвателях и поездках в одну таблицу\n",
    "5) Рассчитали помесячную выручку от каждого пользователя:\n",
    "- Чаще всего за 2021 год пользователь суммарно отдавал примерно 2500 - 2900 рублей.\n",
    "- Наибольшая выручка вышла в Январе\n",
    "\n",
    "6) Проверили гипотезы и получили выводы:\n",
    "- Пользватели с подпсиской тратят больше времени на поездки\n",
    "- Пользователи с платной подпиской преодолевают оптимальные расстояния для самоката.\n",
    "- Помесячная выручка от пользователей с подпиской больше\n",
    "- Чтобы проверить гипотезы о равенстве средней генеральной совокупности для зависимых выборок, применяем метод scipy.stats.ttest_rel().\n",
    "\n",
    "7) Построилили распределения и получили следующие:\n",
    "- Нужно разослать минимум 1167 промокодов,чтобы вероятность не выполнить план равнялась примерно 5%.\n",
    "- Вероятность, что уведомления откроют не более 399.5 тыс. пользователей: 15.4 процентов"
   ]
  }
 ],
 "metadata": {
  "ExecuteTimeLog": [
   {
    "duration": 1018,
    "start_time": "2024-10-30T18:11:11.979Z"
   },
   {
    "duration": 418,
    "start_time": "2024-10-30T18:11:12.999Z"
   },
   {
    "duration": 20,
    "start_time": "2024-10-30T18:11:13.419Z"
   },
   {
    "duration": 70,
    "start_time": "2024-10-30T18:11:13.441Z"
   },
   {
    "duration": 14,
    "start_time": "2024-10-30T18:11:13.513Z"
   },
   {
    "duration": 523,
    "start_time": "2024-10-30T18:11:13.529Z"
   },
   {
    "duration": 7,
    "start_time": "2024-10-30T18:11:14.053Z"
   },
   {
    "duration": 28,
    "start_time": "2024-10-30T18:11:14.062Z"
   },
   {
    "duration": 28,
    "start_time": "2024-10-30T18:11:14.091Z"
   },
   {
    "duration": 28,
    "start_time": "2024-10-30T18:11:14.121Z"
   },
   {
    "duration": 26,
    "start_time": "2024-10-30T18:11:14.150Z"
   },
   {
    "duration": 7,
    "start_time": "2024-10-30T18:11:14.178Z"
   },
   {
    "duration": 5,
    "start_time": "2024-10-30T18:11:14.186Z"
   },
   {
    "duration": 15,
    "start_time": "2024-10-30T18:11:14.194Z"
   },
   {
    "duration": 9,
    "start_time": "2024-10-30T18:11:14.210Z"
   },
   {
    "duration": 4,
    "start_time": "2024-10-30T18:11:14.220Z"
   },
   {
    "duration": 8,
    "start_time": "2024-10-30T18:11:14.225Z"
   },
   {
    "duration": 5,
    "start_time": "2024-10-30T18:11:14.235Z"
   },
   {
    "duration": 8,
    "start_time": "2024-10-30T18:11:14.241Z"
   },
   {
    "duration": 8,
    "start_time": "2024-10-30T18:11:14.250Z"
   },
   {
    "duration": 8,
    "start_time": "2024-10-30T18:11:14.259Z"
   },
   {
    "duration": 73,
    "start_time": "2024-10-30T18:11:14.269Z"
   },
   {
    "duration": 140,
    "start_time": "2024-10-30T18:11:14.343Z"
   },
   {
    "duration": 128,
    "start_time": "2024-10-30T18:11:14.484Z"
   },
   {
    "duration": 11,
    "start_time": "2024-10-30T18:11:14.614Z"
   },
   {
    "duration": 35,
    "start_time": "2024-10-30T18:11:14.627Z"
   },
   {
    "duration": 149,
    "start_time": "2024-10-30T18:11:14.663Z"
   },
   {
    "duration": 7,
    "start_time": "2024-10-30T18:11:14.814Z"
   },
   {
    "duration": 159,
    "start_time": "2024-10-30T18:11:14.822Z"
   },
   {
    "duration": 148,
    "start_time": "2024-10-30T18:11:14.983Z"
   },
   {
    "duration": 9,
    "start_time": "2024-10-30T18:11:15.133Z"
   },
   {
    "duration": 52,
    "start_time": "2024-10-30T18:11:15.144Z"
   },
   {
    "duration": 18,
    "start_time": "2024-10-30T18:11:15.198Z"
   },
   {
    "duration": 54,
    "start_time": "2024-10-30T18:11:15.218Z"
   },
   {
    "duration": 27,
    "start_time": "2024-10-30T18:11:15.273Z"
   },
   {
    "duration": 17,
    "start_time": "2024-10-30T18:11:15.301Z"
   },
   {
    "duration": 86,
    "start_time": "2024-10-30T18:11:15.320Z"
   },
   {
    "duration": 102,
    "start_time": "2024-10-30T18:11:15.408Z"
   },
   {
    "duration": 46,
    "start_time": "2024-10-30T18:11:15.512Z"
   },
   {
    "duration": 187,
    "start_time": "2024-10-30T18:11:15.560Z"
   },
   {
    "duration": 235,
    "start_time": "2024-10-30T18:11:15.752Z"
   },
   {
    "duration": 294,
    "start_time": "2024-10-30T18:11:15.988Z"
   },
   {
    "duration": 6,
    "start_time": "2024-10-30T18:11:16.284Z"
   },
   {
    "duration": 130,
    "start_time": "2024-10-30T18:11:16.292Z"
   },
   {
    "duration": 6,
    "start_time": "2024-10-30T18:11:16.424Z"
   },
   {
    "duration": 44,
    "start_time": "2024-10-30T18:11:16.432Z"
   },
   {
    "duration": 302,
    "start_time": "2024-10-30T18:11:16.478Z"
   },
   {
    "duration": 166,
    "start_time": "2024-10-30T18:11:16.782Z"
   },
   {
    "duration": 150,
    "start_time": "2024-10-30T18:11:16.950Z"
   },
   {
    "duration": 20,
    "start_time": "2024-10-30T18:11:17.101Z"
   },
   {
    "duration": 279,
    "start_time": "2024-10-30T18:11:17.122Z"
   },
   {
    "duration": 270,
    "start_time": "2024-10-30T18:11:17.403Z"
   },
   {
    "duration": 200,
    "start_time": "2024-10-30T18:11:17.674Z"
   },
   {
    "duration": 5,
    "start_time": "2024-10-30T18:11:17.875Z"
   },
   {
    "duration": 11,
    "start_time": "2024-10-30T18:16:30.770Z"
   },
   {
    "duration": 16,
    "start_time": "2024-10-30T18:16:33.233Z"
   },
   {
    "duration": 7,
    "start_time": "2024-10-30T18:16:47.618Z"
   },
   {
    "duration": 10,
    "start_time": "2024-10-30T18:17:53.480Z"
   },
   {
    "duration": 1170,
    "start_time": "2024-11-01T07:56:27.710Z"
   },
   {
    "duration": 387,
    "start_time": "2024-11-01T07:56:28.882Z"
   },
   {
    "duration": 22,
    "start_time": "2024-11-01T07:56:29.271Z"
   },
   {
    "duration": 37,
    "start_time": "2024-11-01T07:56:29.296Z"
   },
   {
    "duration": 38,
    "start_time": "2024-11-01T07:56:29.334Z"
   },
   {
    "duration": 584,
    "start_time": "2024-11-01T07:56:29.373Z"
   },
   {
    "duration": 6,
    "start_time": "2024-11-01T07:56:29.959Z"
   },
   {
    "duration": 35,
    "start_time": "2024-11-01T07:56:29.967Z"
   },
   {
    "duration": 23,
    "start_time": "2024-11-01T07:56:30.005Z"
   },
   {
    "duration": 31,
    "start_time": "2024-11-01T07:56:30.031Z"
   },
   {
    "duration": 22,
    "start_time": "2024-11-01T07:56:30.064Z"
   },
   {
    "duration": 54,
    "start_time": "2024-11-01T07:56:30.087Z"
   },
   {
    "duration": 37,
    "start_time": "2024-11-01T07:56:30.142Z"
   },
   {
    "duration": 41,
    "start_time": "2024-11-01T07:56:30.180Z"
   },
   {
    "duration": 22,
    "start_time": "2024-11-01T07:56:30.222Z"
   },
   {
    "duration": 17,
    "start_time": "2024-11-01T07:56:30.245Z"
   },
   {
    "duration": 55,
    "start_time": "2024-11-01T07:56:30.263Z"
   },
   {
    "duration": 39,
    "start_time": "2024-11-01T07:56:30.320Z"
   },
   {
    "duration": 16,
    "start_time": "2024-11-01T07:56:30.361Z"
   },
   {
    "duration": 31,
    "start_time": "2024-11-01T07:56:30.378Z"
   },
   {
    "duration": 22,
    "start_time": "2024-11-01T07:56:30.411Z"
   },
   {
    "duration": 30,
    "start_time": "2024-11-01T07:56:30.435Z"
   },
   {
    "duration": 168,
    "start_time": "2024-11-01T07:56:30.467Z"
   },
   {
    "duration": 5,
    "start_time": "2024-11-01T07:56:30.637Z"
   },
   {
    "duration": 95,
    "start_time": "2024-11-01T07:56:30.644Z"
   },
   {
    "duration": 8,
    "start_time": "2024-11-01T07:56:30.741Z"
   },
   {
    "duration": 32,
    "start_time": "2024-11-01T07:56:30.751Z"
   },
   {
    "duration": 171,
    "start_time": "2024-11-01T07:56:30.787Z"
   },
   {
    "duration": 4,
    "start_time": "2024-11-01T07:56:30.960Z"
   },
   {
    "duration": 163,
    "start_time": "2024-11-01T07:56:30.966Z"
   },
   {
    "duration": 161,
    "start_time": "2024-11-01T07:56:31.131Z"
   },
   {
    "duration": 10,
    "start_time": "2024-11-01T07:56:31.294Z"
   },
   {
    "duration": 28,
    "start_time": "2024-11-01T07:56:31.306Z"
   },
   {
    "duration": 9,
    "start_time": "2024-11-01T07:56:31.336Z"
   },
   {
    "duration": 70,
    "start_time": "2024-11-01T07:56:31.347Z"
   },
   {
    "duration": 4,
    "start_time": "2024-11-01T07:56:31.419Z"
   },
   {
    "duration": 20,
    "start_time": "2024-11-01T07:56:31.425Z"
   },
   {
    "duration": 54,
    "start_time": "2024-11-01T07:56:31.447Z"
   },
   {
    "duration": 21,
    "start_time": "2024-11-01T07:56:31.503Z"
   },
   {
    "duration": 84,
    "start_time": "2024-11-01T07:56:31.526Z"
   },
   {
    "duration": 23,
    "start_time": "2024-11-01T07:56:31.612Z"
   },
   {
    "duration": 194,
    "start_time": "2024-11-01T07:56:31.637Z"
   },
   {
    "duration": 267,
    "start_time": "2024-11-01T07:56:31.833Z"
   },
   {
    "duration": 365,
    "start_time": "2024-11-01T07:56:32.103Z"
   },
   {
    "duration": 5,
    "start_time": "2024-11-01T07:56:32.470Z"
   },
   {
    "duration": 179,
    "start_time": "2024-11-01T07:56:32.477Z"
   },
   {
    "duration": 5,
    "start_time": "2024-11-01T07:56:32.658Z"
   },
   {
    "duration": 26,
    "start_time": "2024-11-01T07:56:32.664Z"
   },
   {
    "duration": 299,
    "start_time": "2024-11-01T07:56:32.692Z"
   },
   {
    "duration": 175,
    "start_time": "2024-11-01T07:56:32.993Z"
   },
   {
    "duration": 159,
    "start_time": "2024-11-01T07:56:33.170Z"
   },
   {
    "duration": 10,
    "start_time": "2024-11-01T07:56:33.332Z"
   },
   {
    "duration": 321,
    "start_time": "2024-11-01T07:56:33.344Z"
   },
   {
    "duration": 360,
    "start_time": "2024-11-01T07:56:33.667Z"
   },
   {
    "duration": 210,
    "start_time": "2024-11-01T07:56:34.028Z"
   },
   {
    "duration": 4,
    "start_time": "2024-11-01T07:56:34.240Z"
   },
   {
    "duration": 1095,
    "start_time": "2024-11-01T13:11:51.683Z"
   },
   {
    "duration": 109,
    "start_time": "2024-11-01T13:11:52.780Z"
   },
   {
    "duration": 20,
    "start_time": "2024-11-01T13:11:52.890Z"
   },
   {
    "duration": 15,
    "start_time": "2024-11-01T13:11:52.912Z"
   },
   {
    "duration": 21,
    "start_time": "2024-11-01T13:11:52.929Z"
   },
   {
    "duration": 557,
    "start_time": "2024-11-01T13:11:52.952Z"
   },
   {
    "duration": 7,
    "start_time": "2024-11-01T13:11:53.517Z"
   },
   {
    "duration": 26,
    "start_time": "2024-11-01T13:11:53.525Z"
   },
   {
    "duration": 4,
    "start_time": "2024-11-01T13:11:53.553Z"
   },
   {
    "duration": 21,
    "start_time": "2024-11-01T13:11:53.560Z"
   },
   {
    "duration": 8,
    "start_time": "2024-11-01T13:11:53.583Z"
   },
   {
    "duration": 7,
    "start_time": "2024-11-01T13:11:53.593Z"
   },
   {
    "duration": 17,
    "start_time": "2024-11-01T13:11:53.601Z"
   },
   {
    "duration": 9,
    "start_time": "2024-11-01T13:11:53.620Z"
   },
   {
    "duration": 19,
    "start_time": "2024-11-01T13:11:53.631Z"
   },
   {
    "duration": 21,
    "start_time": "2024-11-01T13:11:53.652Z"
   },
   {
    "duration": 11,
    "start_time": "2024-11-01T13:11:53.675Z"
   },
   {
    "duration": 11,
    "start_time": "2024-11-01T13:11:53.688Z"
   },
   {
    "duration": 20,
    "start_time": "2024-11-01T13:11:53.700Z"
   },
   {
    "duration": 10,
    "start_time": "2024-11-01T13:11:53.721Z"
   },
   {
    "duration": 7,
    "start_time": "2024-11-01T13:11:53.733Z"
   },
   {
    "duration": 19,
    "start_time": "2024-11-01T13:11:53.742Z"
   },
   {
    "duration": 165,
    "start_time": "2024-11-01T13:11:53.762Z"
   },
   {
    "duration": 5,
    "start_time": "2024-11-01T13:11:53.928Z"
   },
   {
    "duration": 93,
    "start_time": "2024-11-01T13:11:53.934Z"
   },
   {
    "duration": 7,
    "start_time": "2024-11-01T13:11:54.029Z"
   },
   {
    "duration": 7,
    "start_time": "2024-11-01T13:11:54.038Z"
   },
   {
    "duration": 168,
    "start_time": "2024-11-01T13:11:54.048Z"
   },
   {
    "duration": 5,
    "start_time": "2024-11-01T13:11:54.218Z"
   },
   {
    "duration": 156,
    "start_time": "2024-11-01T13:11:54.224Z"
   },
   {
    "duration": 154,
    "start_time": "2024-11-01T13:11:54.381Z"
   },
   {
    "duration": 10,
    "start_time": "2024-11-01T13:11:54.536Z"
   },
   {
    "duration": 43,
    "start_time": "2024-11-01T13:11:54.547Z"
   },
   {
    "duration": 9,
    "start_time": "2024-11-01T13:11:54.592Z"
   },
   {
    "duration": 45,
    "start_time": "2024-11-01T13:11:54.603Z"
   },
   {
    "duration": 4,
    "start_time": "2024-11-01T13:11:54.649Z"
   },
   {
    "duration": 23,
    "start_time": "2024-11-01T13:11:54.654Z"
   },
   {
    "duration": 44,
    "start_time": "2024-11-01T13:11:54.679Z"
   },
   {
    "duration": 16,
    "start_time": "2024-11-01T13:11:54.724Z"
   },
   {
    "duration": 6,
    "start_time": "2024-11-01T13:11:54.741Z"
   },
   {
    "duration": 25,
    "start_time": "2024-11-01T13:11:54.748Z"
   },
   {
    "duration": 295,
    "start_time": "2024-11-01T13:11:54.774Z"
   },
   {
    "duration": 401,
    "start_time": "2024-11-01T13:11:55.118Z"
   },
   {
    "duration": 549,
    "start_time": "2024-11-01T13:11:55.521Z"
   },
   {
    "duration": 5,
    "start_time": "2024-11-01T13:11:56.072Z"
   },
   {
    "duration": 190,
    "start_time": "2024-11-01T13:11:56.078Z"
   },
   {
    "duration": 6,
    "start_time": "2024-11-01T13:11:56.317Z"
   },
   {
    "duration": 32,
    "start_time": "2024-11-01T13:11:56.324Z"
   },
   {
    "duration": 670,
    "start_time": "2024-11-01T13:11:56.357Z"
   },
   {
    "duration": 312,
    "start_time": "2024-11-01T13:11:57.029Z"
   },
   {
    "duration": 478,
    "start_time": "2024-11-01T13:11:57.342Z"
   },
   {
    "duration": 11,
    "start_time": "2024-11-01T13:11:57.821Z"
   },
   {
    "duration": 524,
    "start_time": "2024-11-01T13:11:57.834Z"
   },
   {
    "duration": 760,
    "start_time": "2024-11-01T13:11:58.360Z"
   },
   {
    "duration": 213,
    "start_time": "2024-11-01T13:11:59.122Z"
   },
   {
    "duration": 5,
    "start_time": "2024-11-01T13:11:59.336Z"
   },
   {
    "duration": 157,
    "start_time": "2024-11-01T13:12:11.576Z"
   },
   {
    "duration": 134,
    "start_time": "2024-11-01T13:14:57.162Z"
   },
   {
    "duration": 228,
    "start_time": "2024-11-01T13:15:01.942Z"
   },
   {
    "duration": 147,
    "start_time": "2024-11-01T13:16:05.496Z"
   },
   {
    "duration": 182,
    "start_time": "2024-11-01T13:16:18.008Z"
   },
   {
    "duration": 134,
    "start_time": "2024-11-01T13:16:22.561Z"
   },
   {
    "duration": 130,
    "start_time": "2024-11-01T13:16:23.972Z"
   },
   {
    "duration": 17869,
    "start_time": "2024-11-01T13:16:34.662Z"
   },
   {
    "duration": 1120,
    "start_time": "2024-11-01T13:18:35.738Z"
   },
   {
    "duration": 284,
    "start_time": "2024-11-01T13:18:36.860Z"
   },
   {
    "duration": 20,
    "start_time": "2024-11-01T13:18:37.146Z"
   },
   {
    "duration": 16,
    "start_time": "2024-11-01T13:18:37.168Z"
   },
   {
    "duration": 20,
    "start_time": "2024-11-01T13:18:37.185Z"
   },
   {
    "duration": 563,
    "start_time": "2024-11-01T13:18:37.219Z"
   },
   {
    "duration": 7,
    "start_time": "2024-11-01T13:18:37.783Z"
   },
   {
    "duration": 26,
    "start_time": "2024-11-01T13:18:37.792Z"
   },
   {
    "duration": 6,
    "start_time": "2024-11-01T13:18:37.820Z"
   },
   {
    "duration": 23,
    "start_time": "2024-11-01T13:18:37.828Z"
   },
   {
    "duration": 10,
    "start_time": "2024-11-01T13:18:37.853Z"
   },
   {
    "duration": 22,
    "start_time": "2024-11-01T13:18:37.864Z"
   },
   {
    "duration": 15,
    "start_time": "2024-11-01T13:18:37.888Z"
   },
   {
    "duration": 12,
    "start_time": "2024-11-01T13:18:37.907Z"
   },
   {
    "duration": 9,
    "start_time": "2024-11-01T13:18:37.920Z"
   },
   {
    "duration": 4,
    "start_time": "2024-11-01T13:18:37.931Z"
   },
   {
    "duration": 20,
    "start_time": "2024-11-01T13:18:37.937Z"
   },
   {
    "duration": 29,
    "start_time": "2024-11-01T13:18:37.959Z"
   },
   {
    "duration": 9,
    "start_time": "2024-11-01T13:18:37.990Z"
   },
   {
    "duration": 5,
    "start_time": "2024-11-01T13:18:38.000Z"
   },
   {
    "duration": 7,
    "start_time": "2024-11-01T13:18:38.007Z"
   },
   {
    "duration": 12,
    "start_time": "2024-11-01T13:18:38.016Z"
   },
   {
    "duration": 152,
    "start_time": "2024-11-01T13:18:38.029Z"
   },
   {
    "duration": 5,
    "start_time": "2024-11-01T13:18:38.182Z"
   },
   {
    "duration": 86,
    "start_time": "2024-11-01T13:18:38.188Z"
   },
   {
    "duration": 7,
    "start_time": "2024-11-01T13:18:38.275Z"
   },
   {
    "duration": 12,
    "start_time": "2024-11-01T13:18:38.284Z"
   },
   {
    "duration": 162,
    "start_time": "2024-11-01T13:18:38.297Z"
   },
   {
    "duration": 4,
    "start_time": "2024-11-01T13:18:38.461Z"
   },
   {
    "duration": 159,
    "start_time": "2024-11-01T13:18:38.467Z"
   },
   {
    "duration": 154,
    "start_time": "2024-11-01T13:18:38.628Z"
   },
   {
    "duration": 9,
    "start_time": "2024-11-01T13:18:38.784Z"
   },
   {
    "duration": 42,
    "start_time": "2024-11-01T13:18:38.794Z"
   },
   {
    "duration": 8,
    "start_time": "2024-11-01T13:18:38.838Z"
   },
   {
    "duration": 52,
    "start_time": "2024-11-01T13:18:38.848Z"
   },
   {
    "duration": 16,
    "start_time": "2024-11-01T13:18:38.902Z"
   },
   {
    "duration": 22,
    "start_time": "2024-11-01T13:18:38.919Z"
   },
   {
    "duration": 32,
    "start_time": "2024-11-01T13:18:38.943Z"
   },
   {
    "duration": 15,
    "start_time": "2024-11-01T13:18:38.976Z"
   },
   {
    "duration": 4,
    "start_time": "2024-11-01T13:18:38.993Z"
   },
   {
    "duration": 23,
    "start_time": "2024-11-01T13:18:39.017Z"
   },
   {
    "duration": 177,
    "start_time": "2024-11-01T13:18:39.042Z"
   },
   {
    "duration": 284,
    "start_time": "2024-11-01T13:18:39.221Z"
   },
   {
    "duration": 338,
    "start_time": "2024-11-01T13:18:39.507Z"
   },
   {
    "duration": 5,
    "start_time": "2024-11-01T13:18:39.847Z"
   },
   {
    "duration": 150,
    "start_time": "2024-11-01T13:18:39.854Z"
   },
   {
    "duration": 5,
    "start_time": "2024-11-01T13:18:40.006Z"
   },
   {
    "duration": 38,
    "start_time": "2024-11-01T13:18:40.017Z"
   },
   {
    "duration": 255,
    "start_time": "2024-11-01T13:18:40.057Z"
   },
   {
    "duration": 161,
    "start_time": "2024-11-01T13:18:40.313Z"
   },
   {
    "duration": 149,
    "start_time": "2024-11-01T13:18:40.475Z"
   },
   {
    "duration": 11,
    "start_time": "2024-11-01T13:18:40.625Z"
   },
   {
    "duration": 303,
    "start_time": "2024-11-01T13:18:40.637Z"
   },
   {
    "duration": 368,
    "start_time": "2024-11-01T13:18:40.942Z"
   },
   {
    "duration": 194,
    "start_time": "2024-11-01T13:18:41.312Z"
   },
   {
    "duration": 13,
    "start_time": "2024-11-01T13:18:41.507Z"
   },
   {
    "duration": 150,
    "start_time": "2024-11-01T13:19:33.646Z"
   },
   {
    "duration": 152,
    "start_time": "2024-11-01T13:19:43.576Z"
   },
   {
    "duration": 221,
    "start_time": "2024-11-01T13:19:52.382Z"
   },
   {
    "duration": 168,
    "start_time": "2024-11-01T13:20:31.830Z"
   }
  ],
  "kernelspec": {
   "display_name": "Python [conda env:base] *",
   "language": "python",
   "name": "conda-base-py"
  },
  "language_info": {
   "codemirror_mode": {
    "name": "ipython",
    "version": 3
   },
   "file_extension": ".py",
   "mimetype": "text/x-python",
   "name": "python",
   "nbconvert_exporter": "python",
   "pygments_lexer": "ipython3",
   "version": "3.11.7"
  },
  "toc": {
   "base_numbering": 1,
   "nav_menu": {},
   "number_sections": true,
   "sideBar": true,
   "skip_h1_title": true,
   "title_cell": "Table of Contents",
   "title_sidebar": "Contents",
   "toc_cell": false,
   "toc_position": {},
   "toc_section_display": true,
   "toc_window_display": false
  }
 },
 "nbformat": 4,
 "nbformat_minor": 5
}
