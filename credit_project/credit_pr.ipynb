{
 "cells": [
  {
   "cell_type": "markdown",
   "id": "a8594f5a",
   "metadata": {
    "deletable": false,
    "editable": false,
    "id": "c81daeeb"
   },
   "source": [
    "# Исследование надежности заемщиков\n"
   ]
  },
  {
   "cell_type": "markdown",
   "id": "e213bb32-ff02-4e92-98e8-fe05867cc2e4",
   "metadata": {
    "deletable": false,
    "editable": false,
    "id": "827c20bf"
   },
   "source": [
    "Во второй части проекта вы выполните шаги 3 и 4. Их вручную проверит ревьюер.\n",
    "Чтобы вам не пришлось писать код заново для шагов 1 и 2, мы добавили авторские решения в ячейки с кодом. \n",
    "\n"
   ]
  },
  {
   "cell_type": "markdown",
   "id": "b4937d2e",
   "metadata": {
    "deletable": false,
    "editable": false,
    "id": "744d7639"
   },
   "source": [
    "## Откройте таблицу и изучите общую информацию о данных"
   ]
  },
  {
   "cell_type": "markdown",
   "id": "296c8aa4",
   "metadata": {
    "deletable": false,
    "editable": false,
    "id": "e7a14c31"
   },
   "source": [
    "**Задание 1. Импортируйте библиотеку pandas. Считайте данные из csv-файла в датафрейм и сохраните в переменную `data`. Путь к файлу:**\n",
    "\n",
    "`/datasets/data.csv`"
   ]
  },
  {
   "cell_type": "code",
   "execution_count": 5,
   "id": "8e03839f",
   "metadata": {
    "deletable": false,
    "id": "7bcf75c9"
   },
   "outputs": [],
   "source": [
    "import pandas as pd\n",
    "\n",
    "try:\n",
    "    data = pd.read_csv('/datasets/data.csv')\n",
    "except:\n",
    "    data = pd.read_csv('https://code.s3.yandex.net/datasets/data.csv')"
   ]
  },
  {
   "cell_type": "markdown",
   "id": "7921f715",
   "metadata": {
    "deletable": false,
    "editable": false,
    "id": "b8038fe3"
   },
   "source": [
    "**Задание 2. Выведите первые 20 строчек датафрейма `data` на экран.**"
   ]
  },
  {
   "cell_type": "code",
   "execution_count": 7,
   "id": "d23d709e",
   "metadata": {
    "deletable": false,
    "id": "2a7cab99",
    "outputId": "1a8f3ef2-d323-4ec2-ddf7-89670b5944c4"
   },
   "outputs": [
    {
     "data": {
      "text/html": [
       "<div>\n",
       "<style scoped>\n",
       "    .dataframe tbody tr th:only-of-type {\n",
       "        vertical-align: middle;\n",
       "    }\n",
       "\n",
       "    .dataframe tbody tr th {\n",
       "        vertical-align: top;\n",
       "    }\n",
       "\n",
       "    .dataframe thead th {\n",
       "        text-align: right;\n",
       "    }\n",
       "</style>\n",
       "<table border=\"1\" class=\"dataframe\">\n",
       "  <thead>\n",
       "    <tr style=\"text-align: right;\">\n",
       "      <th></th>\n",
       "      <th>children</th>\n",
       "      <th>days_employed</th>\n",
       "      <th>dob_years</th>\n",
       "      <th>education</th>\n",
       "      <th>education_id</th>\n",
       "      <th>family_status</th>\n",
       "      <th>family_status_id</th>\n",
       "      <th>gender</th>\n",
       "      <th>income_type</th>\n",
       "      <th>debt</th>\n",
       "      <th>total_income</th>\n",
       "      <th>purpose</th>\n",
       "    </tr>\n",
       "  </thead>\n",
       "  <tbody>\n",
       "    <tr>\n",
       "      <th>0</th>\n",
       "      <td>1</td>\n",
       "      <td>-8437.673028</td>\n",
       "      <td>42</td>\n",
       "      <td>высшее</td>\n",
       "      <td>0</td>\n",
       "      <td>женат / замужем</td>\n",
       "      <td>0</td>\n",
       "      <td>F</td>\n",
       "      <td>сотрудник</td>\n",
       "      <td>0</td>\n",
       "      <td>253875.639453</td>\n",
       "      <td>покупка жилья</td>\n",
       "    </tr>\n",
       "    <tr>\n",
       "      <th>1</th>\n",
       "      <td>1</td>\n",
       "      <td>-4024.803754</td>\n",
       "      <td>36</td>\n",
       "      <td>среднее</td>\n",
       "      <td>1</td>\n",
       "      <td>женат / замужем</td>\n",
       "      <td>0</td>\n",
       "      <td>F</td>\n",
       "      <td>сотрудник</td>\n",
       "      <td>0</td>\n",
       "      <td>112080.014102</td>\n",
       "      <td>приобретение автомобиля</td>\n",
       "    </tr>\n",
       "    <tr>\n",
       "      <th>2</th>\n",
       "      <td>0</td>\n",
       "      <td>-5623.422610</td>\n",
       "      <td>33</td>\n",
       "      <td>Среднее</td>\n",
       "      <td>1</td>\n",
       "      <td>женат / замужем</td>\n",
       "      <td>0</td>\n",
       "      <td>M</td>\n",
       "      <td>сотрудник</td>\n",
       "      <td>0</td>\n",
       "      <td>145885.952297</td>\n",
       "      <td>покупка жилья</td>\n",
       "    </tr>\n",
       "    <tr>\n",
       "      <th>3</th>\n",
       "      <td>3</td>\n",
       "      <td>-4124.747207</td>\n",
       "      <td>32</td>\n",
       "      <td>среднее</td>\n",
       "      <td>1</td>\n",
       "      <td>женат / замужем</td>\n",
       "      <td>0</td>\n",
       "      <td>M</td>\n",
       "      <td>сотрудник</td>\n",
       "      <td>0</td>\n",
       "      <td>267628.550329</td>\n",
       "      <td>дополнительное образование</td>\n",
       "    </tr>\n",
       "    <tr>\n",
       "      <th>4</th>\n",
       "      <td>0</td>\n",
       "      <td>340266.072047</td>\n",
       "      <td>53</td>\n",
       "      <td>среднее</td>\n",
       "      <td>1</td>\n",
       "      <td>гражданский брак</td>\n",
       "      <td>1</td>\n",
       "      <td>F</td>\n",
       "      <td>пенсионер</td>\n",
       "      <td>0</td>\n",
       "      <td>158616.077870</td>\n",
       "      <td>сыграть свадьбу</td>\n",
       "    </tr>\n",
       "    <tr>\n",
       "      <th>5</th>\n",
       "      <td>0</td>\n",
       "      <td>-926.185831</td>\n",
       "      <td>27</td>\n",
       "      <td>высшее</td>\n",
       "      <td>0</td>\n",
       "      <td>гражданский брак</td>\n",
       "      <td>1</td>\n",
       "      <td>M</td>\n",
       "      <td>компаньон</td>\n",
       "      <td>0</td>\n",
       "      <td>255763.565419</td>\n",
       "      <td>покупка жилья</td>\n",
       "    </tr>\n",
       "    <tr>\n",
       "      <th>6</th>\n",
       "      <td>0</td>\n",
       "      <td>-2879.202052</td>\n",
       "      <td>43</td>\n",
       "      <td>высшее</td>\n",
       "      <td>0</td>\n",
       "      <td>женат / замужем</td>\n",
       "      <td>0</td>\n",
       "      <td>F</td>\n",
       "      <td>компаньон</td>\n",
       "      <td>0</td>\n",
       "      <td>240525.971920</td>\n",
       "      <td>операции с жильем</td>\n",
       "    </tr>\n",
       "    <tr>\n",
       "      <th>7</th>\n",
       "      <td>0</td>\n",
       "      <td>-152.779569</td>\n",
       "      <td>50</td>\n",
       "      <td>СРЕДНЕЕ</td>\n",
       "      <td>1</td>\n",
       "      <td>женат / замужем</td>\n",
       "      <td>0</td>\n",
       "      <td>M</td>\n",
       "      <td>сотрудник</td>\n",
       "      <td>0</td>\n",
       "      <td>135823.934197</td>\n",
       "      <td>образование</td>\n",
       "    </tr>\n",
       "    <tr>\n",
       "      <th>8</th>\n",
       "      <td>2</td>\n",
       "      <td>-6929.865299</td>\n",
       "      <td>35</td>\n",
       "      <td>ВЫСШЕЕ</td>\n",
       "      <td>0</td>\n",
       "      <td>гражданский брак</td>\n",
       "      <td>1</td>\n",
       "      <td>F</td>\n",
       "      <td>сотрудник</td>\n",
       "      <td>0</td>\n",
       "      <td>95856.832424</td>\n",
       "      <td>на проведение свадьбы</td>\n",
       "    </tr>\n",
       "    <tr>\n",
       "      <th>9</th>\n",
       "      <td>0</td>\n",
       "      <td>-2188.756445</td>\n",
       "      <td>41</td>\n",
       "      <td>среднее</td>\n",
       "      <td>1</td>\n",
       "      <td>женат / замужем</td>\n",
       "      <td>0</td>\n",
       "      <td>M</td>\n",
       "      <td>сотрудник</td>\n",
       "      <td>0</td>\n",
       "      <td>144425.938277</td>\n",
       "      <td>покупка жилья для семьи</td>\n",
       "    </tr>\n",
       "    <tr>\n",
       "      <th>10</th>\n",
       "      <td>2</td>\n",
       "      <td>-4171.483647</td>\n",
       "      <td>36</td>\n",
       "      <td>высшее</td>\n",
       "      <td>0</td>\n",
       "      <td>женат / замужем</td>\n",
       "      <td>0</td>\n",
       "      <td>M</td>\n",
       "      <td>компаньон</td>\n",
       "      <td>0</td>\n",
       "      <td>113943.491460</td>\n",
       "      <td>покупка недвижимости</td>\n",
       "    </tr>\n",
       "    <tr>\n",
       "      <th>11</th>\n",
       "      <td>0</td>\n",
       "      <td>-792.701887</td>\n",
       "      <td>40</td>\n",
       "      <td>среднее</td>\n",
       "      <td>1</td>\n",
       "      <td>женат / замужем</td>\n",
       "      <td>0</td>\n",
       "      <td>F</td>\n",
       "      <td>сотрудник</td>\n",
       "      <td>0</td>\n",
       "      <td>77069.234271</td>\n",
       "      <td>покупка коммерческой недвижимости</td>\n",
       "    </tr>\n",
       "    <tr>\n",
       "      <th>12</th>\n",
       "      <td>0</td>\n",
       "      <td>NaN</td>\n",
       "      <td>65</td>\n",
       "      <td>среднее</td>\n",
       "      <td>1</td>\n",
       "      <td>гражданский брак</td>\n",
       "      <td>1</td>\n",
       "      <td>M</td>\n",
       "      <td>пенсионер</td>\n",
       "      <td>0</td>\n",
       "      <td>NaN</td>\n",
       "      <td>сыграть свадьбу</td>\n",
       "    </tr>\n",
       "    <tr>\n",
       "      <th>13</th>\n",
       "      <td>0</td>\n",
       "      <td>-1846.641941</td>\n",
       "      <td>54</td>\n",
       "      <td>неоконченное высшее</td>\n",
       "      <td>2</td>\n",
       "      <td>женат / замужем</td>\n",
       "      <td>0</td>\n",
       "      <td>F</td>\n",
       "      <td>сотрудник</td>\n",
       "      <td>0</td>\n",
       "      <td>130458.228857</td>\n",
       "      <td>приобретение автомобиля</td>\n",
       "    </tr>\n",
       "    <tr>\n",
       "      <th>14</th>\n",
       "      <td>0</td>\n",
       "      <td>-1844.956182</td>\n",
       "      <td>56</td>\n",
       "      <td>высшее</td>\n",
       "      <td>0</td>\n",
       "      <td>гражданский брак</td>\n",
       "      <td>1</td>\n",
       "      <td>F</td>\n",
       "      <td>компаньон</td>\n",
       "      <td>1</td>\n",
       "      <td>165127.911772</td>\n",
       "      <td>покупка жилой недвижимости</td>\n",
       "    </tr>\n",
       "    <tr>\n",
       "      <th>15</th>\n",
       "      <td>1</td>\n",
       "      <td>-972.364419</td>\n",
       "      <td>26</td>\n",
       "      <td>среднее</td>\n",
       "      <td>1</td>\n",
       "      <td>женат / замужем</td>\n",
       "      <td>0</td>\n",
       "      <td>F</td>\n",
       "      <td>сотрудник</td>\n",
       "      <td>0</td>\n",
       "      <td>116820.904450</td>\n",
       "      <td>строительство собственной недвижимости</td>\n",
       "    </tr>\n",
       "    <tr>\n",
       "      <th>16</th>\n",
       "      <td>0</td>\n",
       "      <td>-1719.934226</td>\n",
       "      <td>35</td>\n",
       "      <td>среднее</td>\n",
       "      <td>1</td>\n",
       "      <td>женат / замужем</td>\n",
       "      <td>0</td>\n",
       "      <td>F</td>\n",
       "      <td>сотрудник</td>\n",
       "      <td>0</td>\n",
       "      <td>289202.704229</td>\n",
       "      <td>недвижимость</td>\n",
       "    </tr>\n",
       "    <tr>\n",
       "      <th>17</th>\n",
       "      <td>0</td>\n",
       "      <td>-2369.999720</td>\n",
       "      <td>33</td>\n",
       "      <td>высшее</td>\n",
       "      <td>0</td>\n",
       "      <td>гражданский брак</td>\n",
       "      <td>1</td>\n",
       "      <td>M</td>\n",
       "      <td>сотрудник</td>\n",
       "      <td>0</td>\n",
       "      <td>90410.586745</td>\n",
       "      <td>строительство недвижимости</td>\n",
       "    </tr>\n",
       "    <tr>\n",
       "      <th>18</th>\n",
       "      <td>0</td>\n",
       "      <td>400281.136913</td>\n",
       "      <td>53</td>\n",
       "      <td>среднее</td>\n",
       "      <td>1</td>\n",
       "      <td>вдовец / вдова</td>\n",
       "      <td>2</td>\n",
       "      <td>F</td>\n",
       "      <td>пенсионер</td>\n",
       "      <td>0</td>\n",
       "      <td>56823.777243</td>\n",
       "      <td>на покупку подержанного автомобиля</td>\n",
       "    </tr>\n",
       "    <tr>\n",
       "      <th>19</th>\n",
       "      <td>0</td>\n",
       "      <td>-10038.818549</td>\n",
       "      <td>48</td>\n",
       "      <td>СРЕДНЕЕ</td>\n",
       "      <td>1</td>\n",
       "      <td>в разводе</td>\n",
       "      <td>3</td>\n",
       "      <td>F</td>\n",
       "      <td>сотрудник</td>\n",
       "      <td>0</td>\n",
       "      <td>242831.107982</td>\n",
       "      <td>на покупку своего автомобиля</td>\n",
       "    </tr>\n",
       "  </tbody>\n",
       "</table>\n",
       "</div>"
      ],
      "text/plain": [
       "    children  days_employed  dob_years            education  education_id  \\\n",
       "0          1   -8437.673028         42               высшее             0   \n",
       "1          1   -4024.803754         36              среднее             1   \n",
       "2          0   -5623.422610         33              Среднее             1   \n",
       "3          3   -4124.747207         32              среднее             1   \n",
       "4          0  340266.072047         53              среднее             1   \n",
       "5          0    -926.185831         27               высшее             0   \n",
       "6          0   -2879.202052         43               высшее             0   \n",
       "7          0    -152.779569         50              СРЕДНЕЕ             1   \n",
       "8          2   -6929.865299         35               ВЫСШЕЕ             0   \n",
       "9          0   -2188.756445         41              среднее             1   \n",
       "10         2   -4171.483647         36               высшее             0   \n",
       "11         0    -792.701887         40              среднее             1   \n",
       "12         0            NaN         65              среднее             1   \n",
       "13         0   -1846.641941         54  неоконченное высшее             2   \n",
       "14         0   -1844.956182         56               высшее             0   \n",
       "15         1    -972.364419         26              среднее             1   \n",
       "16         0   -1719.934226         35              среднее             1   \n",
       "17         0   -2369.999720         33               высшее             0   \n",
       "18         0  400281.136913         53              среднее             1   \n",
       "19         0  -10038.818549         48              СРЕДНЕЕ             1   \n",
       "\n",
       "       family_status  family_status_id gender income_type  debt  \\\n",
       "0    женат / замужем                 0      F   сотрудник     0   \n",
       "1    женат / замужем                 0      F   сотрудник     0   \n",
       "2    женат / замужем                 0      M   сотрудник     0   \n",
       "3    женат / замужем                 0      M   сотрудник     0   \n",
       "4   гражданский брак                 1      F   пенсионер     0   \n",
       "5   гражданский брак                 1      M   компаньон     0   \n",
       "6    женат / замужем                 0      F   компаньон     0   \n",
       "7    женат / замужем                 0      M   сотрудник     0   \n",
       "8   гражданский брак                 1      F   сотрудник     0   \n",
       "9    женат / замужем                 0      M   сотрудник     0   \n",
       "10   женат / замужем                 0      M   компаньон     0   \n",
       "11   женат / замужем                 0      F   сотрудник     0   \n",
       "12  гражданский брак                 1      M   пенсионер     0   \n",
       "13   женат / замужем                 0      F   сотрудник     0   \n",
       "14  гражданский брак                 1      F   компаньон     1   \n",
       "15   женат / замужем                 0      F   сотрудник     0   \n",
       "16   женат / замужем                 0      F   сотрудник     0   \n",
       "17  гражданский брак                 1      M   сотрудник     0   \n",
       "18    вдовец / вдова                 2      F   пенсионер     0   \n",
       "19         в разводе                 3      F   сотрудник     0   \n",
       "\n",
       "     total_income                                 purpose  \n",
       "0   253875.639453                           покупка жилья  \n",
       "1   112080.014102                 приобретение автомобиля  \n",
       "2   145885.952297                           покупка жилья  \n",
       "3   267628.550329              дополнительное образование  \n",
       "4   158616.077870                         сыграть свадьбу  \n",
       "5   255763.565419                           покупка жилья  \n",
       "6   240525.971920                       операции с жильем  \n",
       "7   135823.934197                             образование  \n",
       "8    95856.832424                   на проведение свадьбы  \n",
       "9   144425.938277                 покупка жилья для семьи  \n",
       "10  113943.491460                    покупка недвижимости  \n",
       "11   77069.234271       покупка коммерческой недвижимости  \n",
       "12            NaN                         сыграть свадьбу  \n",
       "13  130458.228857                 приобретение автомобиля  \n",
       "14  165127.911772              покупка жилой недвижимости  \n",
       "15  116820.904450  строительство собственной недвижимости  \n",
       "16  289202.704229                            недвижимость  \n",
       "17   90410.586745              строительство недвижимости  \n",
       "18   56823.777243      на покупку подержанного автомобиля  \n",
       "19  242831.107982            на покупку своего автомобиля  "
      ]
     },
     "execution_count": 7,
     "metadata": {},
     "output_type": "execute_result"
    }
   ],
   "source": [
    "data.head(20)"
   ]
  },
  {
   "cell_type": "markdown",
   "id": "636a74c0",
   "metadata": {
    "deletable": false,
    "editable": false,
    "id": "1c12e233"
   },
   "source": [
    "**Задание 3. Выведите основную информацию о датафрейме с помощью метода `info()`.**"
   ]
  },
  {
   "cell_type": "code",
   "execution_count": 9,
   "id": "c3784c52",
   "metadata": {
    "deletable": false,
    "id": "2b757bca",
    "outputId": "15376089-8dad-46c9-b520-c05248d43158"
   },
   "outputs": [
    {
     "name": "stdout",
     "output_type": "stream",
     "text": [
      "<class 'pandas.core.frame.DataFrame'>\n",
      "RangeIndex: 21525 entries, 0 to 21524\n",
      "Data columns (total 12 columns):\n",
      " #   Column            Non-Null Count  Dtype  \n",
      "---  ------            --------------  -----  \n",
      " 0   children          21525 non-null  int64  \n",
      " 1   days_employed     19351 non-null  float64\n",
      " 2   dob_years         21525 non-null  int64  \n",
      " 3   education         21525 non-null  object \n",
      " 4   education_id      21525 non-null  int64  \n",
      " 5   family_status     21525 non-null  object \n",
      " 6   family_status_id  21525 non-null  int64  \n",
      " 7   gender            21525 non-null  object \n",
      " 8   income_type       21525 non-null  object \n",
      " 9   debt              21525 non-null  int64  \n",
      " 10  total_income      19351 non-null  float64\n",
      " 11  purpose           21525 non-null  object \n",
      "dtypes: float64(2), int64(5), object(5)\n",
      "memory usage: 2.0+ MB\n"
     ]
    }
   ],
   "source": [
    "data.info()"
   ]
  },
  {
   "cell_type": "markdown",
   "id": "c732f8ad",
   "metadata": {
    "deletable": false,
    "editable": false,
    "id": "333ec665"
   },
   "source": [
    "## Предобработка данных"
   ]
  },
  {
   "cell_type": "markdown",
   "id": "2f873aa1",
   "metadata": {
    "deletable": false,
    "editable": false,
    "id": "02d92d53"
   },
   "source": [
    "### Удаление пропусков"
   ]
  },
  {
   "cell_type": "markdown",
   "id": "4e740692",
   "metadata": {
    "deletable": false,
    "editable": false,
    "id": "cd84967c"
   },
   "source": [
    "**Задание 4. Выведите количество пропущенных значений для каждого столбца. Используйте комбинацию двух методов.**"
   ]
  },
  {
   "cell_type": "code",
   "execution_count": 13,
   "id": "6d0ac06d",
   "metadata": {
    "deletable": false,
    "id": "7f9b2309",
    "outputId": "81f4d817-781c-465c-ed15-91ce4446810d"
   },
   "outputs": [
    {
     "data": {
      "text/plain": [
       "children               0\n",
       "days_employed       2174\n",
       "dob_years              0\n",
       "education              0\n",
       "education_id           0\n",
       "family_status          0\n",
       "family_status_id       0\n",
       "gender                 0\n",
       "income_type            0\n",
       "debt                   0\n",
       "total_income        2174\n",
       "purpose                0\n",
       "dtype: int64"
      ]
     },
     "execution_count": 13,
     "metadata": {},
     "output_type": "execute_result"
    }
   ],
   "source": [
    "data.isna().sum()"
   ]
  },
  {
   "cell_type": "markdown",
   "id": "cfbfe9ba",
   "metadata": {
    "deletable": false,
    "editable": false,
    "id": "db86e27b"
   },
   "source": [
    "**Задание 5. В двух столбцах есть пропущенные значения. Один из них — `days_employed`. Пропуски в этом столбце вы обработаете на следующем этапе. Другой столбец с пропущенными значениями — `total_income` — хранит данные о доходах. На сумму дохода сильнее всего влияет тип занятости, поэтому заполнить пропуски в этом столбце нужно медианным значением по каждому типу из столбца `income_type`. Например, у человека с типом занятости `сотрудник` пропуск в столбце `total_income` должен быть заполнен медианным доходом среди всех записей с тем же типом.**"
   ]
  },
  {
   "cell_type": "code",
   "execution_count": 15,
   "id": "f54efd54",
   "metadata": {
    "deletable": false,
    "id": "42006a93"
   },
   "outputs": [],
   "source": [
    "for t in data['income_type'].unique():\n",
    "    data.loc[(data['income_type'] == t) & (data['total_income'].isna()), 'total_income'] = \\\n",
    "    data.loc[(data['income_type'] == t), 'total_income'].median()"
   ]
  },
  {
   "cell_type": "markdown",
   "id": "cf6e6b9d",
   "metadata": {
    "deletable": false,
    "editable": false,
    "id": "89da5ece"
   },
   "source": [
    "### Обработка аномальных значений"
   ]
  },
  {
   "cell_type": "markdown",
   "id": "1ab74392",
   "metadata": {
    "deletable": false,
    "editable": false,
    "id": "57964554"
   },
   "source": [
    "**Задание 6. В данных могут встречаться артефакты (аномалии) — значения, которые не отражают действительность и появились по какой-то ошибке. таким артефактом будет отрицательное количество дней трудового стажа в столбце `days_employed`. Для реальных данных это нормально. Обработайте значения в этом столбце: замените все отрицательные значения положительными с помощью метода `abs()`.**"
   ]
  },
  {
   "cell_type": "code",
   "execution_count": 18,
   "id": "05879d82",
   "metadata": {
    "deletable": false,
    "id": "f6f055bf"
   },
   "outputs": [],
   "source": [
    "data['days_employed'] = data['days_employed'].abs()"
   ]
  },
  {
   "cell_type": "markdown",
   "id": "ff95f6ee",
   "metadata": {
    "deletable": false,
    "editable": false,
    "id": "6107dd2f"
   },
   "source": [
    "**Задание 7. Для каждого типа занятости выведите медианное значение трудового стажа `days_employed` в днях.**"
   ]
  },
  {
   "cell_type": "code",
   "execution_count": 20,
   "id": "b9c8a03a",
   "metadata": {
    "deletable": false,
    "id": "85a5faf6",
    "outputId": "801ef80e-522b-4668-f34e-565af7432bcf"
   },
   "outputs": [
    {
     "data": {
      "text/plain": [
       "income_type\n",
       "безработный        366413.652744\n",
       "в декрете            3296.759962\n",
       "госслужащий          2689.368353\n",
       "компаньон            1547.382223\n",
       "пенсионер          365213.306266\n",
       "предприниматель       520.848083\n",
       "сотрудник            1574.202821\n",
       "студент               578.751554\n",
       "Name: days_employed, dtype: float64"
      ]
     },
     "execution_count": 20,
     "metadata": {},
     "output_type": "execute_result"
    }
   ],
   "source": [
    "data.groupby('income_type')['days_employed'].agg('median')"
   ]
  },
  {
   "cell_type": "markdown",
   "id": "05833342",
   "metadata": {
    "deletable": false,
    "editable": false,
    "id": "38d1a030"
   },
   "source": [
    "У двух типов (безработные и пенсионеры) получатся аномально большие значения. Исправить такие значения сложно, поэтому оставьте их как есть. Тем более этот столбец не понадобится вам для исследования."
   ]
  },
  {
   "cell_type": "markdown",
   "id": "e95ec9ce",
   "metadata": {
    "deletable": false,
    "editable": false,
    "id": "d8a9f147"
   },
   "source": [
    "**Задание 8. Выведите перечень уникальных значений столбца `children`.**"
   ]
  },
  {
   "cell_type": "code",
   "execution_count": 23,
   "id": "d50e07db",
   "metadata": {
    "deletable": false,
    "id": "ef5056eb",
    "outputId": "6975b15c-7f95-4697-d16d-a0c79b657b03"
   },
   "outputs": [
    {
     "data": {
      "text/plain": [
       "array([ 1,  0,  3,  2, -1,  4, 20,  5], dtype=int64)"
      ]
     },
     "execution_count": 23,
     "metadata": {},
     "output_type": "execute_result"
    }
   ],
   "source": [
    "data['children'].unique()"
   ]
  },
  {
   "cell_type": "markdown",
   "id": "b81ce54c",
   "metadata": {
    "deletable": false,
    "editable": false,
    "id": "40b9ebf2"
   },
   "source": [
    "**Задание 9. В столбце `children` есть два аномальных значения. Удалите строки, в которых встречаются такие аномальные значения из датафрейма `data`.**"
   ]
  },
  {
   "cell_type": "code",
   "execution_count": 25,
   "id": "1fad86af",
   "metadata": {
    "deletable": false,
    "id": "3ff9801d"
   },
   "outputs": [],
   "source": [
    "data = data[(data['children'] != -1) & (data['children'] != 20)]"
   ]
  },
  {
   "cell_type": "markdown",
   "id": "24130374",
   "metadata": {
    "deletable": false,
    "editable": false,
    "id": "bbc4d0ce"
   },
   "source": [
    "**Задание 10. Ещё раз выведите перечень уникальных значений столбца `children`, чтобы убедиться, что артефакты удалены.**"
   ]
  },
  {
   "cell_type": "code",
   "execution_count": 27,
   "id": "a82eff0c",
   "metadata": {
    "deletable": false,
    "id": "ad4fa8b7",
    "outputId": "b2097101-d49d-44d9-901b-32a65c9463d1"
   },
   "outputs": [
    {
     "data": {
      "text/plain": [
       "array([1, 0, 3, 2, 4, 5], dtype=int64)"
      ]
     },
     "execution_count": 27,
     "metadata": {},
     "output_type": "execute_result"
    }
   ],
   "source": [
    "data['children'].unique()"
   ]
  },
  {
   "cell_type": "markdown",
   "id": "34e4ad5e",
   "metadata": {
    "deletable": false,
    "editable": false,
    "id": "75440b63"
   },
   "source": [
    "### Удаление пропусков (продолжение)"
   ]
  },
  {
   "cell_type": "markdown",
   "id": "ff34e96e",
   "metadata": {
    "deletable": false,
    "editable": false,
    "id": "f4ea573f"
   },
   "source": [
    "**Задание 11. Заполните пропуски в столбце `days_employed` медианными значениями по каждого типа занятости `income_type`.**"
   ]
  },
  {
   "cell_type": "code",
   "execution_count": 30,
   "id": "289064ec",
   "metadata": {
    "deletable": false,
    "id": "af6b1a7e"
   },
   "outputs": [],
   "source": [
    "for t in data['income_type'].unique():\n",
    "    data.loc[(data['income_type'] == t) & (data['days_employed'].isna()), 'days_employed'] = \\\n",
    "    data.loc[(data['income_type'] == t), 'days_employed'].median()"
   ]
  },
  {
   "cell_type": "markdown",
   "id": "93731257",
   "metadata": {
    "deletable": false,
    "editable": false,
    "id": "2753f40d"
   },
   "source": [
    "**Задание 12. Убедитесь, что все пропуски заполнены. Проверьте себя и ещё раз выведите количество пропущенных значений для каждого столбца с помощью двух методов.**"
   ]
  },
  {
   "cell_type": "code",
   "execution_count": 32,
   "id": "dec106b4",
   "metadata": {
    "deletable": false,
    "id": "55f78bc2",
    "outputId": "8da1e4e1-358e-4e87-98c9-f261bce0a7b2"
   },
   "outputs": [
    {
     "data": {
      "text/plain": [
       "children            0\n",
       "days_employed       0\n",
       "dob_years           0\n",
       "education           0\n",
       "education_id        0\n",
       "family_status       0\n",
       "family_status_id    0\n",
       "gender              0\n",
       "income_type         0\n",
       "debt                0\n",
       "total_income        0\n",
       "purpose             0\n",
       "dtype: int64"
      ]
     },
     "execution_count": 32,
     "metadata": {},
     "output_type": "execute_result"
    }
   ],
   "source": [
    "data.isna().sum()"
   ]
  },
  {
   "cell_type": "markdown",
   "id": "95aeffa1",
   "metadata": {
    "deletable": false,
    "editable": false,
    "id": "ddc81e43"
   },
   "source": [
    "### Изменение типов данных"
   ]
  },
  {
   "cell_type": "markdown",
   "id": "2aae84ef",
   "metadata": {
    "deletable": false,
    "editable": false,
    "id": "42d19d24"
   },
   "source": [
    "**Задание 13. Замените вещественный тип данных в столбце `total_income` на целочисленный с помощью метода `astype()`.**"
   ]
  },
  {
   "cell_type": "code",
   "execution_count": 35,
   "id": "a6745bac",
   "metadata": {
    "deletable": false,
    "id": "920b65ad"
   },
   "outputs": [],
   "source": [
    "data['total_income'] = data['total_income'].astype(int)"
   ]
  },
  {
   "cell_type": "markdown",
   "id": "d974aca7",
   "metadata": {
    "deletable": false,
    "editable": false,
    "id": "80c420ba"
   },
   "source": [
    "### Обработка дубликатов"
   ]
  },
  {
   "cell_type": "markdown",
   "id": "7c4967d6",
   "metadata": {
    "deletable": false,
    "editable": false
   },
   "source": [
    "**Задание 14. Обработайте неявные дубликаты в столбце `education`. В этом столбце есть одни и те же значения, но записанные по-разному: с использованием заглавных и строчных букв. Приведите их к нижнему регистру. Проверьте остальные столбцы.**"
   ]
  },
  {
   "cell_type": "code",
   "execution_count": 38,
   "id": "6fe989be",
   "metadata": {
    "deletable": false
   },
   "outputs": [],
   "source": [
    "data['education'] = data['education'].str.lower()"
   ]
  },
  {
   "cell_type": "markdown",
   "id": "499df9de",
   "metadata": {
    "deletable": false,
    "editable": false,
    "id": "dc587695"
   },
   "source": [
    "**Задание 15. Выведите на экран количество строк-дубликатов в данных. Если такие строки присутствуют, удалите их.**"
   ]
  },
  {
   "cell_type": "code",
   "execution_count": 40,
   "id": "8780ec77",
   "metadata": {
    "deletable": false,
    "id": "3ee445e4",
    "outputId": "9684deba-1934-42d1-99e1-cda61740f822"
   },
   "outputs": [
    {
     "data": {
      "text/plain": [
       "71"
      ]
     },
     "execution_count": 40,
     "metadata": {},
     "output_type": "execute_result"
    }
   ],
   "source": [
    "data.duplicated().sum()"
   ]
  },
  {
   "cell_type": "code",
   "execution_count": 41,
   "id": "55c8a4de",
   "metadata": {
    "deletable": false,
    "id": "8575fe05"
   },
   "outputs": [],
   "source": [
    "data = data.drop_duplicates()"
   ]
  },
  {
   "cell_type": "markdown",
   "id": "bf0e3d14",
   "metadata": {
    "deletable": false,
    "editable": false,
    "id": "9904cf55"
   },
   "source": [
    "### Категоризация данных"
   ]
  },
  {
   "cell_type": "markdown",
   "id": "a2b816a5",
   "metadata": {
    "deletable": false,
    "editable": false,
    "id": "72fcc8a2"
   },
   "source": [
    "**Задание 16. На основании диапазонов, указанных ниже, создайте в датафрейме `data` столбец `total_income_category` с категориями:**\n",
    "\n",
    "- 0–30000 — `'E'`;\n",
    "- 30001–50000 — `'D'`;\n",
    "- 50001–200000 — `'C'`;\n",
    "- 200001–1000000 — `'B'`;\n",
    "- 1000001 и выше — `'A'`.\n",
    "\n",
    "\n",
    "**Например, кредитополучателю с доходом 25000 нужно назначить категорию `'E'`, а клиенту, получающему 235000, — `'B'`. Используйте собственную функцию с именем `categorize_income()` и метод `apply()`.**"
   ]
  },
  {
   "cell_type": "code",
   "execution_count": 44,
   "id": "50162822",
   "metadata": {
    "deletable": false,
    "id": "e1771346"
   },
   "outputs": [],
   "source": [
    "def categorize_income(income):\n",
    "    try:\n",
    "        if 0 <= income <= 30000:\n",
    "            return 'E'\n",
    "        elif 30001 <= income <= 50000:\n",
    "            return 'D'\n",
    "        elif 50001 <= income <= 200000:\n",
    "            return 'C'\n",
    "        elif 200001 <= income <= 1000000:\n",
    "            return 'B'\n",
    "        elif income >= 1000001:\n",
    "            return 'A'\n",
    "    except:\n",
    "        pass"
   ]
  },
  {
   "cell_type": "code",
   "execution_count": 45,
   "id": "40e8c0e5",
   "metadata": {
    "deletable": false,
    "id": "d5f3586d"
   },
   "outputs": [],
   "source": [
    "data['total_income_category'] = data['total_income'].apply(categorize_income)"
   ]
  },
  {
   "cell_type": "markdown",
   "id": "5e226c3f",
   "metadata": {
    "deletable": false,
    "editable": false,
    "id": "dde49b5c"
   },
   "source": [
    "**Задание 17. Выведите на экран перечень уникальных целей взятия кредита из столбца `purpose`.**"
   ]
  },
  {
   "cell_type": "code",
   "execution_count": 47,
   "id": "92d636aa",
   "metadata": {
    "deletable": false,
    "id": "f67ce9b3",
    "outputId": "673c12d9-7d7e-4ae0-9812-c622c89dd244"
   },
   "outputs": [
    {
     "data": {
      "text/plain": [
       "array(['покупка жилья', 'приобретение автомобиля',\n",
       "       'дополнительное образование', 'сыграть свадьбу',\n",
       "       'операции с жильем', 'образование', 'на проведение свадьбы',\n",
       "       'покупка жилья для семьи', 'покупка недвижимости',\n",
       "       'покупка коммерческой недвижимости', 'покупка жилой недвижимости',\n",
       "       'строительство собственной недвижимости', 'недвижимость',\n",
       "       'строительство недвижимости', 'на покупку подержанного автомобиля',\n",
       "       'на покупку своего автомобиля',\n",
       "       'операции с коммерческой недвижимостью',\n",
       "       'строительство жилой недвижимости', 'жилье',\n",
       "       'операции со своей недвижимостью', 'автомобили',\n",
       "       'заняться образованием', 'сделка с подержанным автомобилем',\n",
       "       'получение образования', 'автомобиль', 'свадьба',\n",
       "       'получение дополнительного образования', 'покупка своего жилья',\n",
       "       'операции с недвижимостью', 'получение высшего образования',\n",
       "       'свой автомобиль', 'сделка с автомобилем',\n",
       "       'профильное образование', 'высшее образование',\n",
       "       'покупка жилья для сдачи', 'на покупку автомобиля', 'ремонт жилью',\n",
       "       'заняться высшим образованием'], dtype=object)"
      ]
     },
     "execution_count": 47,
     "metadata": {},
     "output_type": "execute_result"
    }
   ],
   "source": [
    "data['purpose'].unique()"
   ]
  },
  {
   "cell_type": "markdown",
   "id": "6ea37740",
   "metadata": {
    "deletable": false,
    "editable": false,
    "id": "85d0aef0"
   },
   "source": [
    "**Задание 18. Создайте функцию, которая на основании данных из столбца `purpose` сформирует новый столбец `purpose_category`, в который войдут следующие категории:**\n",
    "\n",
    "- `'операции с автомобилем'`,\n",
    "- `'операции с недвижимостью'`,\n",
    "- `'проведение свадьбы'`,\n",
    "- `'получение образования'`.\n",
    "\n",
    "**Например, если в столбце `purpose` находится подстрока `'на покупку автомобиля'`, то в столбце `purpose_category` должна появиться строка `'операции с автомобилем'`.**\n",
    "\n",
    "**Используйте собственную функцию с именем `categorize_purpose()` и метод `apply()`. Изучите данные в столбце `purpose` и определите, какие подстроки помогут вам правильно определить категорию.**"
   ]
  },
  {
   "cell_type": "code",
   "execution_count": 49,
   "id": "16cd0a50",
   "metadata": {
    "deletable": false,
    "id": "e149fab4"
   },
   "outputs": [],
   "source": [
    "def categorize_purpose(row):\n",
    "    try:\n",
    "        if 'автом' in row:\n",
    "            return 'операции с автомобилем'\n",
    "        elif 'жил' in row or 'недвиж' in row:\n",
    "            return 'операции с недвижимостью'\n",
    "        elif 'свад' in row:\n",
    "            return 'проведение свадьбы'\n",
    "        elif 'образов' in row:\n",
    "            return 'получение образования'\n",
    "    except:\n",
    "        return 'нет категории'"
   ]
  },
  {
   "cell_type": "code",
   "execution_count": 50,
   "id": "b6c4a688",
   "metadata": {
    "deletable": false,
    "id": "bf36e69b"
   },
   "outputs": [],
   "source": [
    "data['purpose_category'] = data['purpose'].apply(categorize_purpose)"
   ]
  },
  {
   "cell_type": "markdown",
   "id": "d4d51334",
   "metadata": {
    "deletable": false,
    "editable": false,
    "id": "09b242bf"
   },
   "source": [
    "### Шаг 3. Исследуйте данные и ответьте на вопросы"
   ]
  },
  {
   "cell_type": "markdown",
   "id": "81ca7c5e",
   "metadata": {
    "deletable": false,
    "editable": false,
    "id": "c5d66278"
   },
   "source": [
    "#### 3.1 Есть ли зависимость между количеством детей и возвратом кредита в срок?"
   ]
  },
  {
   "cell_type": "code",
   "execution_count": 120,
   "id": "287eaafe",
   "metadata": {
    "deletable": false,
    "id": "2cacfc4a"
   },
   "outputs": [
    {
     "data": {
      "text/html": [
       "<style type=\"text/css\">\n",
       "</style>\n",
       "<table id=\"T_76c79\">\n",
       "  <thead>\n",
       "    <tr>\n",
       "      <th class=\"blank level0\" >&nbsp;</th>\n",
       "      <th id=\"T_76c79_level0_col0\" class=\"col_heading level0 col0\" >count</th>\n",
       "      <th id=\"T_76c79_level0_col1\" class=\"col_heading level0 col1\" >sum</th>\n",
       "      <th id=\"T_76c79_level0_col2\" class=\"col_heading level0 col2\" >mean</th>\n",
       "    </tr>\n",
       "    <tr>\n",
       "      <th class=\"blank level1\" >&nbsp;</th>\n",
       "      <th id=\"T_76c79_level1_col0\" class=\"col_heading level1 col0\" >debt</th>\n",
       "      <th id=\"T_76c79_level1_col1\" class=\"col_heading level1 col1\" >debt</th>\n",
       "      <th id=\"T_76c79_level1_col2\" class=\"col_heading level1 col2\" >debt</th>\n",
       "    </tr>\n",
       "    <tr>\n",
       "      <th class=\"index_name level0\" >children</th>\n",
       "      <th class=\"blank col0\" >&nbsp;</th>\n",
       "      <th class=\"blank col1\" >&nbsp;</th>\n",
       "      <th class=\"blank col2\" >&nbsp;</th>\n",
       "    </tr>\n",
       "  </thead>\n",
       "  <tbody>\n",
       "    <tr>\n",
       "      <th id=\"T_76c79_level0_row0\" class=\"row_heading level0 row0\" >4</th>\n",
       "      <td id=\"T_76c79_row0_col0\" class=\"data row0 col0\" >41</td>\n",
       "      <td id=\"T_76c79_row0_col1\" class=\"data row0 col1\" >4</td>\n",
       "      <td id=\"T_76c79_row0_col2\" class=\"data row0 col2\" >9.76%</td>\n",
       "    </tr>\n",
       "    <tr>\n",
       "      <th id=\"T_76c79_level0_row1\" class=\"row_heading level0 row1\" >2</th>\n",
       "      <td id=\"T_76c79_row1_col0\" class=\"data row1 col0\" >2052</td>\n",
       "      <td id=\"T_76c79_row1_col1\" class=\"data row1 col1\" >194</td>\n",
       "      <td id=\"T_76c79_row1_col2\" class=\"data row1 col2\" >9.45%</td>\n",
       "    </tr>\n",
       "    <tr>\n",
       "      <th id=\"T_76c79_level0_row2\" class=\"row_heading level0 row2\" >1</th>\n",
       "      <td id=\"T_76c79_row2_col0\" class=\"data row2 col0\" >4808</td>\n",
       "      <td id=\"T_76c79_row2_col1\" class=\"data row2 col1\" >444</td>\n",
       "      <td id=\"T_76c79_row2_col2\" class=\"data row2 col2\" >9.23%</td>\n",
       "    </tr>\n",
       "    <tr>\n",
       "      <th id=\"T_76c79_level0_row3\" class=\"row_heading level0 row3\" >3</th>\n",
       "      <td id=\"T_76c79_row3_col0\" class=\"data row3 col0\" >330</td>\n",
       "      <td id=\"T_76c79_row3_col1\" class=\"data row3 col1\" >27</td>\n",
       "      <td id=\"T_76c79_row3_col2\" class=\"data row3 col2\" >8.18%</td>\n",
       "    </tr>\n",
       "    <tr>\n",
       "      <th id=\"T_76c79_level0_row4\" class=\"row_heading level0 row4\" >0</th>\n",
       "      <td id=\"T_76c79_row4_col0\" class=\"data row4 col0\" >14091</td>\n",
       "      <td id=\"T_76c79_row4_col1\" class=\"data row4 col1\" >1063</td>\n",
       "      <td id=\"T_76c79_row4_col2\" class=\"data row4 col2\" >7.54%</td>\n",
       "    </tr>\n",
       "    <tr>\n",
       "      <th id=\"T_76c79_level0_row5\" class=\"row_heading level0 row5\" >5</th>\n",
       "      <td id=\"T_76c79_row5_col0\" class=\"data row5 col0\" >9</td>\n",
       "      <td id=\"T_76c79_row5_col1\" class=\"data row5 col1\" >0</td>\n",
       "      <td id=\"T_76c79_row5_col2\" class=\"data row5 col2\" >0.00%</td>\n",
       "    </tr>\n",
       "  </tbody>\n",
       "</table>\n"
      ],
      "text/plain": [
       "<pandas.io.formats.style.Styler at 0x24945da0b90>"
      ]
     },
     "execution_count": 120,
     "metadata": {},
     "output_type": "execute_result"
    }
   ],
   "source": [
    "# Ваш код будет здесь. Вы можете создавать новые ячейки.\n",
    "data.pivot_table(index = 'children', values = 'debt', aggfunc = ['count', 'sum', 'mean'])\\\n",
    "    .sort_values(by = ('mean', 'debt'), ascending = False)\\\n",
    "    .style.format({('mean', 'debt') : '{:.2%}'})"
   ]
  },
  {
   "cell_type": "markdown",
   "id": "1dee02ec",
   "metadata": {
    "deletable": false,
    "id": "3a6b99ec"
   },
   "source": [
    "**Вывод:**\n",
    "- Не учитывая группу '5 детей' наблюдается зависимость: чем меньше детей, тем больше вероятность, что кредит отдадут в срок;\n",
    "\n",
    "- Возможно, если количество детей равно 5 или больше, то возравт будет либо всегда вовремя, либо с очень большой вероятностью, но для проверкти нужны дополнительные данные и исследования;"
   ]
  },
  {
   "cell_type": "markdown",
   "id": "e656091e",
   "metadata": {
    "deletable": false,
    "editable": false,
    "id": "97be82ca"
   },
   "source": [
    "#### 3.2 Есть ли зависимость между семейным положением и возвратом кредита в срок?"
   ]
  },
  {
   "cell_type": "code",
   "execution_count": 125,
   "id": "e7c18cc6",
   "metadata": {
    "deletable": false,
    "id": "dc3f7ee8"
   },
   "outputs": [
    {
     "data": {
      "text/html": [
       "<style type=\"text/css\">\n",
       "</style>\n",
       "<table id=\"T_a52ed\">\n",
       "  <thead>\n",
       "    <tr>\n",
       "      <th class=\"blank level0\" >&nbsp;</th>\n",
       "      <th id=\"T_a52ed_level0_col0\" class=\"col_heading level0 col0\" >count</th>\n",
       "      <th id=\"T_a52ed_level0_col1\" class=\"col_heading level0 col1\" >sum</th>\n",
       "      <th id=\"T_a52ed_level0_col2\" class=\"col_heading level0 col2\" >mean</th>\n",
       "    </tr>\n",
       "    <tr>\n",
       "      <th class=\"blank level1\" >&nbsp;</th>\n",
       "      <th id=\"T_a52ed_level1_col0\" class=\"col_heading level1 col0\" >debt</th>\n",
       "      <th id=\"T_a52ed_level1_col1\" class=\"col_heading level1 col1\" >debt</th>\n",
       "      <th id=\"T_a52ed_level1_col2\" class=\"col_heading level1 col2\" >debt</th>\n",
       "    </tr>\n",
       "    <tr>\n",
       "      <th class=\"index_name level0\" >family_status</th>\n",
       "      <th class=\"blank col0\" >&nbsp;</th>\n",
       "      <th class=\"blank col1\" >&nbsp;</th>\n",
       "      <th class=\"blank col2\" >&nbsp;</th>\n",
       "    </tr>\n",
       "  </thead>\n",
       "  <tbody>\n",
       "    <tr>\n",
       "      <th id=\"T_a52ed_level0_row0\" class=\"row_heading level0 row0\" >Не женат / не замужем</th>\n",
       "      <td id=\"T_a52ed_row0_col0\" class=\"data row0 col0\" >2796</td>\n",
       "      <td id=\"T_a52ed_row0_col1\" class=\"data row0 col1\" >273</td>\n",
       "      <td id=\"T_a52ed_row0_col2\" class=\"data row0 col2\" >9.76%</td>\n",
       "    </tr>\n",
       "    <tr>\n",
       "      <th id=\"T_a52ed_level0_row1\" class=\"row_heading level0 row1\" >гражданский брак</th>\n",
       "      <td id=\"T_a52ed_row1_col0\" class=\"data row1 col0\" >4134</td>\n",
       "      <td id=\"T_a52ed_row1_col1\" class=\"data row1 col1\" >385</td>\n",
       "      <td id=\"T_a52ed_row1_col2\" class=\"data row1 col2\" >9.31%</td>\n",
       "    </tr>\n",
       "    <tr>\n",
       "      <th id=\"T_a52ed_level0_row2\" class=\"row_heading level0 row2\" >женат / замужем</th>\n",
       "      <td id=\"T_a52ed_row2_col0\" class=\"data row2 col0\" >12261</td>\n",
       "      <td id=\"T_a52ed_row2_col1\" class=\"data row2 col1\" >927</td>\n",
       "      <td id=\"T_a52ed_row2_col2\" class=\"data row2 col2\" >7.56%</td>\n",
       "    </tr>\n",
       "    <tr>\n",
       "      <th id=\"T_a52ed_level0_row3\" class=\"row_heading level0 row3\" >в разводе</th>\n",
       "      <td id=\"T_a52ed_row3_col0\" class=\"data row3 col0\" >1189</td>\n",
       "      <td id=\"T_a52ed_row3_col1\" class=\"data row3 col1\" >84</td>\n",
       "      <td id=\"T_a52ed_row3_col2\" class=\"data row3 col2\" >7.06%</td>\n",
       "    </tr>\n",
       "    <tr>\n",
       "      <th id=\"T_a52ed_level0_row4\" class=\"row_heading level0 row4\" >вдовец / вдова</th>\n",
       "      <td id=\"T_a52ed_row4_col0\" class=\"data row4 col0\" >951</td>\n",
       "      <td id=\"T_a52ed_row4_col1\" class=\"data row4 col1\" >63</td>\n",
       "      <td id=\"T_a52ed_row4_col2\" class=\"data row4 col2\" >6.62%</td>\n",
       "    </tr>\n",
       "  </tbody>\n",
       "</table>\n"
      ],
      "text/plain": [
       "<pandas.io.formats.style.Styler at 0x24948f14110>"
      ]
     },
     "execution_count": 125,
     "metadata": {},
     "output_type": "execute_result"
    }
   ],
   "source": [
    "# Ваш код будет здесь. Вы можете создавать новые ячейки.\n",
    "# Cгруппируем данные методом pivot_table по семейному статусы и наличию задолжностей, \n",
    "# методом count определим количество людей с разным семейным статусом, \n",
    "# методом sum найдем среди их должников.\n",
    "#Посчитаем процент должников для каждой семейной группы\n",
    "data.pivot_table(index = 'family_status', values = 'debt', aggfunc = ['count', 'sum', 'mean'])\\\n",
    "    .sort_values(by = ('mean', 'debt'), ascending = False)\\\n",
    "    .style.format({('mean', 'debt') : '{:.2%}'})"
   ]
  },
  {
   "cell_type": "markdown",
   "id": "2839f824",
   "metadata": {
    "deletable": false,
    "id": "1cef7837"
   },
   "source": [
    "**Вывод:** \n",
    "- Наибольшая доля просроченного кредита у категорий 'Не женат / не замужем' и 'гражданский брак';\n",
    "- Со средними показателями по возравту кредита катерогии 'в разводе\t' и 'женат / замужем';\n",
    "- С большей веротностью отдают кредит в срок: категория 'вдовец / вдова';\n"
   ]
  },
  {
   "cell_type": "markdown",
   "id": "23bea85f",
   "metadata": {
    "deletable": false,
    "editable": false,
    "id": "1e8b2fca"
   },
   "source": [
    "#### 3.3 Есть ли зависимость между уровнем дохода и возвратом кредита в срок?"
   ]
  },
  {
   "cell_type": "code",
   "execution_count": 127,
   "id": "011c6f84",
   "metadata": {
    "deletable": false,
    "id": "cd7e3720"
   },
   "outputs": [
    {
     "data": {
      "text/html": [
       "<style type=\"text/css\">\n",
       "</style>\n",
       "<table id=\"T_820d0\">\n",
       "  <thead>\n",
       "    <tr>\n",
       "      <th class=\"blank level0\" >&nbsp;</th>\n",
       "      <th id=\"T_820d0_level0_col0\" class=\"col_heading level0 col0\" >count</th>\n",
       "      <th id=\"T_820d0_level0_col1\" class=\"col_heading level0 col1\" >sum</th>\n",
       "      <th id=\"T_820d0_level0_col2\" class=\"col_heading level0 col2\" >mean</th>\n",
       "    </tr>\n",
       "    <tr>\n",
       "      <th class=\"blank level1\" >&nbsp;</th>\n",
       "      <th id=\"T_820d0_level1_col0\" class=\"col_heading level1 col0\" >debt</th>\n",
       "      <th id=\"T_820d0_level1_col1\" class=\"col_heading level1 col1\" >debt</th>\n",
       "      <th id=\"T_820d0_level1_col2\" class=\"col_heading level1 col2\" >debt</th>\n",
       "    </tr>\n",
       "    <tr>\n",
       "      <th class=\"index_name level0\" >total_income_category</th>\n",
       "      <th class=\"blank col0\" >&nbsp;</th>\n",
       "      <th class=\"blank col1\" >&nbsp;</th>\n",
       "      <th class=\"blank col2\" >&nbsp;</th>\n",
       "    </tr>\n",
       "  </thead>\n",
       "  <tbody>\n",
       "    <tr>\n",
       "      <th id=\"T_820d0_level0_row0\" class=\"row_heading level0 row0\" >E</th>\n",
       "      <td id=\"T_820d0_row0_col0\" class=\"data row0 col0\" >22</td>\n",
       "      <td id=\"T_820d0_row0_col1\" class=\"data row0 col1\" >2</td>\n",
       "      <td id=\"T_820d0_row0_col2\" class=\"data row0 col2\" >9.09%</td>\n",
       "    </tr>\n",
       "    <tr>\n",
       "      <th id=\"T_820d0_level0_row1\" class=\"row_heading level0 row1\" >C</th>\n",
       "      <td id=\"T_820d0_row1_col0\" class=\"data row1 col0\" >15921</td>\n",
       "      <td id=\"T_820d0_row1_col1\" class=\"data row1 col1\" >1353</td>\n",
       "      <td id=\"T_820d0_row1_col2\" class=\"data row1 col2\" >8.50%</td>\n",
       "    </tr>\n",
       "    <tr>\n",
       "      <th id=\"T_820d0_level0_row2\" class=\"row_heading level0 row2\" >A</th>\n",
       "      <td id=\"T_820d0_row2_col0\" class=\"data row2 col0\" >25</td>\n",
       "      <td id=\"T_820d0_row2_col1\" class=\"data row2 col1\" >2</td>\n",
       "      <td id=\"T_820d0_row2_col2\" class=\"data row2 col2\" >8.00%</td>\n",
       "    </tr>\n",
       "    <tr>\n",
       "      <th id=\"T_820d0_level0_row3\" class=\"row_heading level0 row3\" >B</th>\n",
       "      <td id=\"T_820d0_row3_col0\" class=\"data row3 col0\" >5014</td>\n",
       "      <td id=\"T_820d0_row3_col1\" class=\"data row3 col1\" >354</td>\n",
       "      <td id=\"T_820d0_row3_col2\" class=\"data row3 col2\" >7.06%</td>\n",
       "    </tr>\n",
       "    <tr>\n",
       "      <th id=\"T_820d0_level0_row4\" class=\"row_heading level0 row4\" >D</th>\n",
       "      <td id=\"T_820d0_row4_col0\" class=\"data row4 col0\" >349</td>\n",
       "      <td id=\"T_820d0_row4_col1\" class=\"data row4 col1\" >21</td>\n",
       "      <td id=\"T_820d0_row4_col2\" class=\"data row4 col2\" >6.02%</td>\n",
       "    </tr>\n",
       "  </tbody>\n",
       "</table>\n"
      ],
      "text/plain": [
       "<pandas.io.formats.style.Styler at 0x249490aed10>"
      ]
     },
     "execution_count": 127,
     "metadata": {},
     "output_type": "execute_result"
    }
   ],
   "source": [
    "# Ваш код будет здесь. Вы можете создавать новые ячейки.\n",
    "# Cгруппируем данные методом groupby() по категориям дохода и наличию задолжностей, \n",
    "# методом count определим количество людей с разным доходом, \n",
    "# методом sum найдем среди их количество должников.\n",
    "#Посчитаем долю должников для каждой группы\n",
    "data.pivot_table(index = 'total_income_category', values = 'debt', aggfunc = ['count', 'sum', 'mean'])\\\n",
    "    .sort_values(by = ('mean', 'debt'), ascending = False)\\\n",
    "    .style.format({('mean', 'debt') : '{:.2%}'})"
   ]
  },
  {
   "cell_type": "markdown",
   "id": "7eee2459",
   "metadata": {
    "deletable": false,
    "id": "e8593def"
   },
   "source": [
    "**Вывод:**  \n",
    "- Категория D с доходом 30001–50000 с большей вероятностью отдают кредит в срок;\n",
    "- Категория B с доходом 200001–1000000 находистя на втором месте по возврату кредита в срок;\n",
    "- Больше всех численность заёмов у категории C с доходом 50001–200000 и они с меньшей вероятностью возраващают кредит в срок среди других не учитывая категорию Е;\n",
    "- Меньше всех берут кредит категории А и Е с доходами больше 1000001 и меньше 30000 соотвественно;\n",
    "- Категория А находится на 3 месте по возврату кредита в срок;\n",
    "- Категория Е имеет самую маленькую долю возварата кредита;\n",
    "- При переходе из категории С в категорию B уменьшается число заемов и повышается вероятность возврата долга в срок."
   ]
  },
  {
   "cell_type": "markdown",
   "id": "2bf18ff4",
   "metadata": {
    "deletable": false,
    "editable": false,
    "id": "99ecbd1f"
   },
   "source": [
    "#### 3.4 Как разные цели кредита влияют на его возврат в срок?"
   ]
  },
  {
   "cell_type": "code",
   "execution_count": 129,
   "id": "2562ad63",
   "metadata": {
    "deletable": false,
    "id": "2b687290"
   },
   "outputs": [
    {
     "data": {
      "text/html": [
       "<style type=\"text/css\">\n",
       "</style>\n",
       "<table id=\"T_b9e66\">\n",
       "  <thead>\n",
       "    <tr>\n",
       "      <th class=\"blank level0\" >&nbsp;</th>\n",
       "      <th id=\"T_b9e66_level0_col0\" class=\"col_heading level0 col0\" >count</th>\n",
       "      <th id=\"T_b9e66_level0_col1\" class=\"col_heading level0 col1\" >sum</th>\n",
       "      <th id=\"T_b9e66_level0_col2\" class=\"col_heading level0 col2\" >mean</th>\n",
       "    </tr>\n",
       "    <tr>\n",
       "      <th class=\"blank level1\" >&nbsp;</th>\n",
       "      <th id=\"T_b9e66_level1_col0\" class=\"col_heading level1 col0\" >debt</th>\n",
       "      <th id=\"T_b9e66_level1_col1\" class=\"col_heading level1 col1\" >debt</th>\n",
       "      <th id=\"T_b9e66_level1_col2\" class=\"col_heading level1 col2\" >debt</th>\n",
       "    </tr>\n",
       "    <tr>\n",
       "      <th class=\"index_name level0\" >purpose_category</th>\n",
       "      <th class=\"blank col0\" >&nbsp;</th>\n",
       "      <th class=\"blank col1\" >&nbsp;</th>\n",
       "      <th class=\"blank col2\" >&nbsp;</th>\n",
       "    </tr>\n",
       "  </thead>\n",
       "  <tbody>\n",
       "    <tr>\n",
       "      <th id=\"T_b9e66_level0_row0\" class=\"row_heading level0 row0\" >операции с автомобилем</th>\n",
       "      <td id=\"T_b9e66_row0_col0\" class=\"data row0 col0\" >4279</td>\n",
       "      <td id=\"T_b9e66_row0_col1\" class=\"data row0 col1\" >400</td>\n",
       "      <td id=\"T_b9e66_row0_col2\" class=\"data row0 col2\" >9.35%</td>\n",
       "    </tr>\n",
       "    <tr>\n",
       "      <th id=\"T_b9e66_level0_row1\" class=\"row_heading level0 row1\" >получение образования</th>\n",
       "      <td id=\"T_b9e66_row1_col0\" class=\"data row1 col0\" >3988</td>\n",
       "      <td id=\"T_b9e66_row1_col1\" class=\"data row1 col1\" >369</td>\n",
       "      <td id=\"T_b9e66_row1_col2\" class=\"data row1 col2\" >9.25%</td>\n",
       "    </tr>\n",
       "    <tr>\n",
       "      <th id=\"T_b9e66_level0_row2\" class=\"row_heading level0 row2\" >проведение свадьбы</th>\n",
       "      <td id=\"T_b9e66_row2_col0\" class=\"data row2 col0\" >2313</td>\n",
       "      <td id=\"T_b9e66_row2_col1\" class=\"data row2 col1\" >183</td>\n",
       "      <td id=\"T_b9e66_row2_col2\" class=\"data row2 col2\" >7.91%</td>\n",
       "    </tr>\n",
       "    <tr>\n",
       "      <th id=\"T_b9e66_level0_row3\" class=\"row_heading level0 row3\" >операции с недвижимостью</th>\n",
       "      <td id=\"T_b9e66_row3_col0\" class=\"data row3 col0\" >10751</td>\n",
       "      <td id=\"T_b9e66_row3_col1\" class=\"data row3 col1\" >780</td>\n",
       "      <td id=\"T_b9e66_row3_col2\" class=\"data row3 col2\" >7.26%</td>\n",
       "    </tr>\n",
       "  </tbody>\n",
       "</table>\n"
      ],
      "text/plain": [
       "<pandas.io.formats.style.Styler at 0x24949383110>"
      ]
     },
     "execution_count": 129,
     "metadata": {},
     "output_type": "execute_result"
    }
   ],
   "source": [
    "# Ваш код будет здесь. Вы можете создавать новые ячейки.\n",
    "# Cгруппируем данные методом groupby() по целям кредита и наличию задолжностей, \n",
    "# методом count определим количество строк для групп с разным целями кредита, \n",
    "# методом sum найдем количество должников\n",
    "# найдем долю должников для каждой категории \n",
    "data.pivot_table(index = 'purpose_category', values = 'debt', aggfunc = ['count', 'sum', 'mean'])\\\n",
    "    .sort_values(by = ('mean', 'debt'), ascending = False)\\\n",
    "    .style.format({('mean', 'debt') : '{:.2%}'})"
   ]
  },
  {
   "cell_type": "markdown",
   "id": "81030572",
   "metadata": {
    "deletable": false,
    "id": "b4bb2ce6"
   },
   "source": [
    "**Вывод:** \n",
    "- Всех больше процент возварата кредита не в срок у категорий 'операции с автомобилем' и 'получение образования';\n",
    "- Категория 'проведение свадьбы' имеет средний показатель по возврату долга в срок среди остальных;\n",
    "- С большей вероятностью кредит отдают вовремя, если катеогрия 'операции с недвижимостью';"
   ]
  },
  {
   "cell_type": "markdown",
   "id": "ac9911ee",
   "metadata": {
    "deletable": false,
    "editable": false,
    "id": "09c3ac4c"
   },
   "source": [
    "#### 3.5 Приведите возможные причины появления пропусков в исходных данных."
   ]
  },
  {
   "cell_type": "markdown",
   "id": "fcecf0d6",
   "metadata": {
    "deletable": false,
    "id": "9da2ceda"
   },
   "source": [
    "*Ответ:* \n",
    "- Человеческий фактор;\n",
    "- Пользователь не указал о себе данные;\n",
    "- Автоматизированная система по сбору данных дала сбой;\n",
    "- Возможно люди работали неофицально, получали зарплату на руки, поэтому по ним просто нет информации;"
   ]
  },
  {
   "cell_type": "markdown",
   "id": "ef7d34c4",
   "metadata": {
    "deletable": false,
    "editable": false,
    "id": "7b0487d6"
   },
   "source": [
    "#### 3.6 Объясните, почему заполнить пропуски медианным значением — лучшее решение для количественных переменных."
   ]
  },
  {
   "cell_type": "markdown",
   "id": "1ab612d7",
   "metadata": {
    "deletable": false,
    "id": "7ecf2b8e"
   },
   "source": [
    "*Ответ:*\n",
    "\n",
    "Например, рассмотрим случай когда есть 50 сотрудников и 10 руководящих должностей из них 30 человек получают 30 000 рублей, 10  по 200 000 рублей,  по остальным неизвестно. \n",
    "\n",
    "Если взять среднее арифмитическое их зарплаты, получится 72 500 рублей. Если взять медиану, то получим 30 000 рублей. \n",
    "\n",
    "Таким образом, пропуски заполнять лучше медианным значением для количественных переменных в том случае если данные сильно отличаются друг от друга, если же значение близки друг к другу можно воспользоваться средним значеним."
   ]
  },
  {
   "cell_type": "markdown",
   "id": "e5b86422",
   "metadata": {
    "deletable": false,
    "editable": false,
    "id": "6db5255a"
   },
   "source": [
    "### Шаг 4: общий вывод."
   ]
  },
  {
   "cell_type": "markdown",
   "id": "5781c943",
   "metadata": {
    "deletable": false,
    "id": "bad65432"
   },
   "source": [
    "Нашей задачей было разобраться влияет ли семейное положение и кол-во дететей клиентов на факт поганшения кредита в срок. Нам были предоставлены данные от банка - статистика о платёжеспособности клиентов.\n",
    "\n",
    "Что было сделано:\n",
    "1. Мы загрузили и подготовили данные\n",
    "2. Провели предобрабоку данных:\n",
    "    - заполинили пропуски в столбцах `days_employed` и `income_type` медианным значеним в зависимотси от типа занятости\n",
    "    - обработали аномальные значения в столбце `days_employed`, заменив отрицательный стаж на положителный\n",
    "    - удалили явные дубликаты\n",
    "    - в столбце `total_income` заменили тип данных на целочисленный\n",
    "    - создали новый столбец `total_income_category` для отображения категорий людей с различным заработком\n",
    "    - создали новый столбец `purpose_category` для отображения категорий для чего берётся кредит\n",
    "3. Провели исследовательский анализ данных:\n",
    "    \n",
    "- Чем меньше детей, тем больше вероятность, что кредит отдадут в срок, однако для групп где 5 детей данная зависимость обратная.    \n",
    "- Семейное положение влияет на срок возврата кредита, категории 'Не женат / не замужем' и 'гражданский брак' имеют больше задолжностей среди остальных.    \n",
    "- Больший уровень дохода не показатель, что кредит отдадут в срок, с доходом в 30001–50000 люди с большей вероятностью отдают долги в срок;    \n",
    "- Категории 'операции с автомобилем' и 'получение образования' имеют больше долю возврата кредита не в срок.\n"
   ]
  }
 ],
 "metadata": {
  "ExecuteTimeLog": [
   {
    "duration": 565,
    "start_time": "2024-08-14T06:22:17.955Z"
   },
   {
    "duration": 22,
    "start_time": "2024-08-14T06:22:18.522Z"
   },
   {
    "duration": 15,
    "start_time": "2024-08-14T06:22:18.546Z"
   },
   {
    "duration": 16,
    "start_time": "2024-08-14T06:22:18.563Z"
   },
   {
    "duration": 43,
    "start_time": "2024-08-14T06:22:18.580Z"
   },
   {
    "duration": 4,
    "start_time": "2024-08-14T06:22:18.625Z"
   },
   {
    "duration": 30,
    "start_time": "2024-08-14T06:22:18.630Z"
   },
   {
    "duration": 10,
    "start_time": "2024-08-14T06:22:18.661Z"
   },
   {
    "duration": 8,
    "start_time": "2024-08-14T06:22:18.672Z"
   },
   {
    "duration": 10,
    "start_time": "2024-08-14T06:22:18.682Z"
   },
   {
    "duration": 43,
    "start_time": "2024-08-14T06:22:18.693Z"
   },
   {
    "duration": 13,
    "start_time": "2024-08-14T06:22:18.737Z"
   },
   {
    "duration": 6,
    "start_time": "2024-08-14T06:22:18.752Z"
   },
   {
    "duration": 11,
    "start_time": "2024-08-14T06:22:18.760Z"
   },
   {
    "duration": 20,
    "start_time": "2024-08-14T06:22:18.773Z"
   },
   {
    "duration": 18,
    "start_time": "2024-08-14T06:22:18.794Z"
   },
   {
    "duration": 32,
    "start_time": "2024-08-14T06:22:18.814Z"
   },
   {
    "duration": 17,
    "start_time": "2024-08-14T06:22:18.848Z"
   },
   {
    "duration": 11,
    "start_time": "2024-08-14T06:22:18.867Z"
   },
   {
    "duration": 5,
    "start_time": "2024-08-14T06:22:18.880Z"
   },
   {
    "duration": 18,
    "start_time": "2024-08-14T06:22:18.886Z"
   },
   {
    "duration": 5,
    "start_time": "2024-08-14T06:22:18.906Z"
   },
   {
    "duration": 3,
    "start_time": "2024-08-14T06:22:18.913Z"
   },
   {
    "duration": 7,
    "start_time": "2024-08-14T06:22:18.918Z"
   },
   {
    "duration": 6,
    "start_time": "2024-08-14T06:22:18.926Z"
   },
   {
    "duration": 21,
    "start_time": "2024-08-14T06:23:41.837Z"
   },
   {
    "duration": 5,
    "start_time": "2024-08-14T06:41:35.421Z"
   },
   {
    "duration": 6,
    "start_time": "2024-08-14T06:41:43.803Z"
   },
   {
    "duration": 77,
    "start_time": "2024-08-14T06:45:56.808Z"
   },
   {
    "duration": 14,
    "start_time": "2024-08-14T06:47:32.677Z"
   },
   {
    "duration": 9,
    "start_time": "2024-08-14T06:47:42.992Z"
   },
   {
    "duration": 14,
    "start_time": "2024-08-14T06:47:43.575Z"
   },
   {
    "duration": 38,
    "start_time": "2024-08-14T06:48:28.199Z"
   },
   {
    "duration": 12,
    "start_time": "2024-08-14T07:01:46.655Z"
   },
   {
    "duration": 7,
    "start_time": "2024-08-14T07:04:03.872Z"
   },
   {
    "duration": 5,
    "start_time": "2024-08-14T07:04:44.257Z"
   },
   {
    "duration": 21,
    "start_time": "2024-08-14T07:05:05.616Z"
   },
   {
    "duration": 8,
    "start_time": "2024-08-14T07:05:34.933Z"
   },
   {
    "duration": 7,
    "start_time": "2024-08-14T07:14:26.944Z"
   },
   {
    "duration": 17,
    "start_time": "2024-08-14T07:25:54.465Z"
   },
   {
    "duration": 16,
    "start_time": "2024-08-14T07:26:17.440Z"
   },
   {
    "duration": 19,
    "start_time": "2024-08-14T07:28:55.275Z"
   },
   {
    "duration": 25,
    "start_time": "2024-08-14T07:31:28.253Z"
   },
   {
    "duration": 22,
    "start_time": "2024-08-14T07:31:57.907Z"
   },
   {
    "duration": 24,
    "start_time": "2024-08-14T07:32:03.116Z"
   },
   {
    "duration": 13,
    "start_time": "2024-08-14T07:32:24.933Z"
   },
   {
    "duration": 10,
    "start_time": "2024-08-14T07:33:36.033Z"
   },
   {
    "duration": 13,
    "start_time": "2024-08-14T07:33:41.032Z"
   },
   {
    "duration": 19,
    "start_time": "2024-08-14T08:16:07.544Z"
   },
   {
    "duration": 26,
    "start_time": "2024-08-14T08:17:33.190Z"
   },
   {
    "duration": 14,
    "start_time": "2024-08-14T08:22:53.052Z"
   },
   {
    "duration": 11,
    "start_time": "2024-08-14T08:23:19.346Z"
   },
   {
    "duration": 11,
    "start_time": "2024-08-14T08:23:32.705Z"
   },
   {
    "duration": 13,
    "start_time": "2024-08-14T08:26:37.910Z"
   },
   {
    "duration": 13,
    "start_time": "2024-08-14T08:26:51.047Z"
   },
   {
    "duration": 6,
    "start_time": "2024-08-14T08:27:22.328Z"
   },
   {
    "duration": 11,
    "start_time": "2024-08-14T08:28:12.924Z"
   },
   {
    "duration": 14,
    "start_time": "2024-08-14T08:28:21.512Z"
   },
   {
    "duration": 12,
    "start_time": "2024-08-14T08:28:36.982Z"
   },
   {
    "duration": 974,
    "start_time": "2024-08-14T08:30:20.824Z"
   },
   {
    "duration": 13,
    "start_time": "2024-08-14T08:33:42.966Z"
   },
   {
    "duration": 491,
    "start_time": "2024-08-14T08:33:50.087Z"
   },
   {
    "duration": 23,
    "start_time": "2024-08-14T08:33:50.580Z"
   },
   {
    "duration": 18,
    "start_time": "2024-08-14T08:33:50.604Z"
   },
   {
    "duration": 32,
    "start_time": "2024-08-14T08:33:50.625Z"
   },
   {
    "duration": 46,
    "start_time": "2024-08-14T08:33:50.659Z"
   },
   {
    "duration": 4,
    "start_time": "2024-08-14T08:33:50.707Z"
   },
   {
    "duration": 13,
    "start_time": "2024-08-14T08:33:50.713Z"
   },
   {
    "duration": 27,
    "start_time": "2024-08-14T08:33:50.728Z"
   },
   {
    "duration": 10,
    "start_time": "2024-08-14T08:33:50.757Z"
   },
   {
    "duration": 58,
    "start_time": "2024-08-14T08:33:50.771Z"
   },
   {
    "duration": 47,
    "start_time": "2024-08-14T08:33:50.831Z"
   },
   {
    "duration": 11,
    "start_time": "2024-08-14T08:33:50.879Z"
   },
   {
    "duration": 8,
    "start_time": "2024-08-14T08:33:50.892Z"
   },
   {
    "duration": 19,
    "start_time": "2024-08-14T08:33:50.901Z"
   },
   {
    "duration": 33,
    "start_time": "2024-08-14T08:33:50.921Z"
   },
   {
    "duration": 20,
    "start_time": "2024-08-14T08:33:50.955Z"
   },
   {
    "duration": 4,
    "start_time": "2024-08-14T08:33:50.977Z"
   },
   {
    "duration": 30,
    "start_time": "2024-08-14T08:33:50.982Z"
   },
   {
    "duration": 24,
    "start_time": "2024-08-14T08:33:51.013Z"
   },
   {
    "duration": 10,
    "start_time": "2024-08-14T08:33:51.039Z"
   },
   {
    "duration": 15,
    "start_time": "2024-08-14T08:33:51.051Z"
   },
   {
    "duration": 12,
    "start_time": "2024-08-14T08:33:51.067Z"
   },
   {
    "duration": 15,
    "start_time": "2024-08-14T08:33:51.081Z"
   },
   {
    "duration": 7,
    "start_time": "2024-08-14T08:33:51.098Z"
   },
   {
    "duration": 2,
    "start_time": "2024-08-14T08:33:51.107Z"
   },
   {
    "duration": 41,
    "start_time": "2024-08-14T08:33:51.111Z"
   },
   {
    "duration": 9,
    "start_time": "2024-08-14T08:37:53.898Z"
   },
   {
    "duration": 15,
    "start_time": "2024-08-14T08:38:08.937Z"
   },
   {
    "duration": 14,
    "start_time": "2024-08-14T09:00:35.333Z"
   },
   {
    "duration": 78,
    "start_time": "2024-08-14T09:02:34.002Z"
   },
   {
    "duration": 8,
    "start_time": "2024-08-14T09:02:38.973Z"
   },
   {
    "duration": 8,
    "start_time": "2024-08-14T09:02:43.588Z"
   },
   {
    "duration": 17,
    "start_time": "2024-08-14T09:02:45.675Z"
   },
   {
    "duration": 5,
    "start_time": "2024-08-14T09:28:08.224Z"
   },
   {
    "duration": 24,
    "start_time": "2024-08-14T09:58:41.722Z"
   },
   {
    "duration": 17,
    "start_time": "2024-08-14T10:00:05.614Z"
   },
   {
    "duration": 27,
    "start_time": "2024-08-14T10:07:51.482Z"
   },
   {
    "duration": 13,
    "start_time": "2024-08-14T10:09:35.297Z"
   },
   {
    "duration": 35,
    "start_time": "2024-08-14T10:09:50.843Z"
   },
   {
    "duration": 22,
    "start_time": "2024-08-14T10:10:13.214Z"
   },
   {
    "duration": 29,
    "start_time": "2024-08-14T10:10:39.242Z"
   },
   {
    "duration": 22,
    "start_time": "2024-08-14T10:10:55.199Z"
   },
   {
    "duration": 29,
    "start_time": "2024-08-14T10:13:16.408Z"
   },
   {
    "duration": 17,
    "start_time": "2024-08-14T10:14:36.240Z"
   },
   {
    "duration": 15,
    "start_time": "2024-08-14T11:02:43.898Z"
   },
   {
    "duration": 12,
    "start_time": "2024-08-14T13:01:51.573Z"
   },
   {
    "duration": 8,
    "start_time": "2024-08-14T13:02:07.984Z"
   },
   {
    "duration": 5,
    "start_time": "2024-08-14T13:02:31.367Z"
   },
   {
    "duration": 9,
    "start_time": "2024-08-14T13:04:27.409Z"
   },
   {
    "duration": 5,
    "start_time": "2024-08-14T13:04:39.162Z"
   },
   {
    "duration": 7,
    "start_time": "2024-08-14T13:05:24.453Z"
   },
   {
    "duration": 8,
    "start_time": "2024-08-14T13:05:32.703Z"
   },
   {
    "duration": 442,
    "start_time": "2024-08-15T05:59:24.437Z"
   },
   {
    "duration": 22,
    "start_time": "2024-08-15T05:59:24.881Z"
   },
   {
    "duration": 15,
    "start_time": "2024-08-15T05:59:24.905Z"
   },
   {
    "duration": 10,
    "start_time": "2024-08-15T05:59:24.922Z"
   },
   {
    "duration": 37,
    "start_time": "2024-08-15T05:59:24.933Z"
   },
   {
    "duration": 3,
    "start_time": "2024-08-15T05:59:24.972Z"
   },
   {
    "duration": 31,
    "start_time": "2024-08-15T05:59:24.976Z"
   },
   {
    "duration": 4,
    "start_time": "2024-08-15T05:59:25.009Z"
   },
   {
    "duration": 7,
    "start_time": "2024-08-15T05:59:25.014Z"
   },
   {
    "duration": 4,
    "start_time": "2024-08-15T05:59:25.023Z"
   },
   {
    "duration": 36,
    "start_time": "2024-08-15T05:59:25.028Z"
   },
   {
    "duration": 11,
    "start_time": "2024-08-15T05:59:25.065Z"
   },
   {
    "duration": 30,
    "start_time": "2024-08-15T05:59:25.077Z"
   },
   {
    "duration": 19,
    "start_time": "2024-08-15T05:59:25.109Z"
   },
   {
    "duration": 30,
    "start_time": "2024-08-15T05:59:25.130Z"
   },
   {
    "duration": 22,
    "start_time": "2024-08-15T05:59:25.162Z"
   },
   {
    "duration": 3,
    "start_time": "2024-08-15T05:59:25.186Z"
   },
   {
    "duration": 35,
    "start_time": "2024-08-15T05:59:25.191Z"
   },
   {
    "duration": 13,
    "start_time": "2024-08-15T05:59:25.228Z"
   },
   {
    "duration": 16,
    "start_time": "2024-08-15T05:59:25.243Z"
   },
   {
    "duration": 28,
    "start_time": "2024-08-15T05:59:25.260Z"
   },
   {
    "duration": 21,
    "start_time": "2024-08-15T05:59:25.289Z"
   },
   {
    "duration": 14,
    "start_time": "2024-08-15T05:59:25.312Z"
   },
   {
    "duration": 23,
    "start_time": "2024-08-15T05:59:25.328Z"
   },
   {
    "duration": 18,
    "start_time": "2024-08-15T05:59:25.353Z"
   },
   {
    "duration": 46,
    "start_time": "2024-08-15T09:28:20.030Z"
   },
   {
    "duration": 740,
    "start_time": "2024-08-15T09:28:32.373Z"
   },
   {
    "duration": 23,
    "start_time": "2024-08-15T09:28:33.115Z"
   },
   {
    "duration": 15,
    "start_time": "2024-08-15T09:28:33.140Z"
   },
   {
    "duration": 12,
    "start_time": "2024-08-15T09:28:33.157Z"
   },
   {
    "duration": 44,
    "start_time": "2024-08-15T09:28:33.171Z"
   },
   {
    "duration": 3,
    "start_time": "2024-08-15T09:28:33.217Z"
   },
   {
    "duration": 36,
    "start_time": "2024-08-15T09:28:33.221Z"
   },
   {
    "duration": 3,
    "start_time": "2024-08-15T09:28:33.259Z"
   },
   {
    "duration": 7,
    "start_time": "2024-08-15T09:28:33.263Z"
   },
   {
    "duration": 3,
    "start_time": "2024-08-15T09:28:33.272Z"
   },
   {
    "duration": 92,
    "start_time": "2024-08-15T09:28:33.277Z"
   },
   {
    "duration": 11,
    "start_time": "2024-08-15T09:28:33.370Z"
   },
   {
    "duration": 8,
    "start_time": "2024-08-15T09:28:33.382Z"
   },
   {
    "duration": 26,
    "start_time": "2024-08-15T09:28:33.391Z"
   },
   {
    "duration": 31,
    "start_time": "2024-08-15T09:28:33.419Z"
   },
   {
    "duration": 16,
    "start_time": "2024-08-15T09:28:33.452Z"
   },
   {
    "duration": 4,
    "start_time": "2024-08-15T09:28:33.469Z"
   },
   {
    "duration": 10,
    "start_time": "2024-08-15T09:28:33.475Z"
   },
   {
    "duration": 7,
    "start_time": "2024-08-15T09:28:33.486Z"
   },
   {
    "duration": 4,
    "start_time": "2024-08-15T09:28:33.494Z"
   },
   {
    "duration": 17,
    "start_time": "2024-08-15T09:28:33.499Z"
   },
   {
    "duration": 13,
    "start_time": "2024-08-15T09:28:33.517Z"
   },
   {
    "duration": 75,
    "start_time": "2024-08-15T09:28:33.532Z"
   },
   {
    "duration": 0,
    "start_time": "2024-08-15T09:28:33.608Z"
   },
   {
    "duration": 0,
    "start_time": "2024-08-15T09:28:33.610Z"
   },
   {
    "duration": 0,
    "start_time": "2024-08-15T09:28:33.611Z"
   },
   {
    "duration": 426,
    "start_time": "2024-08-15T09:28:43.844Z"
   },
   {
    "duration": 15,
    "start_time": "2024-08-15T09:31:33.421Z"
   },
   {
    "duration": 70,
    "start_time": "2024-08-15T09:53:43.682Z"
   },
   {
    "duration": 23,
    "start_time": "2024-08-15T09:54:04.431Z"
   }
  ],
  "colab": {
   "name": "dpp_template_part2.ipynb",
   "provenance": []
  },
  "kernelspec": {
   "display_name": "Python [conda env:base] *",
   "language": "python",
   "name": "conda-base-py"
  },
  "language_info": {
   "codemirror_mode": {
    "name": "ipython",
    "version": 3
   },
   "file_extension": ".py",
   "mimetype": "text/x-python",
   "name": "python",
   "nbconvert_exporter": "python",
   "pygments_lexer": "ipython3",
   "version": "3.11.7"
  },
  "toc": {
   "base_numbering": 1,
   "nav_menu": {},
   "number_sections": true,
   "sideBar": true,
   "skip_h1_title": true,
   "title_cell": "Table of Contents",
   "title_sidebar": "Contents",
   "toc_cell": false,
   "toc_position": {},
   "toc_section_display": true,
   "toc_window_display": false
  }
 },
 "nbformat": 4,
 "nbformat_minor": 5
}
